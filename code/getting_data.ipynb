{
 "cells": [
  {
   "cell_type": "markdown",
   "id": "5af814e3-d98f-4786-b7f2-585de8edf791",
   "metadata": {},
   "source": [
    "#### Getting data from the World Bank to build a dataframe"
   ]
  },
  {
   "cell_type": "code",
   "execution_count": 1,
   "id": "6efaebfa-3582-48cd-9bb5-89675c628c1a",
   "metadata": {},
   "outputs": [],
   "source": [
    "# here's where our code goes"
   ]
  },
  {
   "cell_type": "code",
   "execution_count": null,
   "id": "3fbc511f-7458-49e9-a9e2-ecb7dab7039f",
   "metadata": {},
   "outputs": [],
   "source": []
  }
 ],
 "metadata": {
  "kernelspec": {
   "display_name": "Python [conda env:dsi]",
   "language": "python",
   "name": "conda-env-dsi-py"
  },
  "language_info": {
   "codemirror_mode": {
    "name": "ipython",
    "version": 3
   },
   "file_extension": ".py",
   "mimetype": "text/x-python",
   "name": "python",
   "nbconvert_exporter": "python",
   "pygments_lexer": "ipython3",
   "version": "3.8.13"
  }
 },
 "nbformat": 4,
 "nbformat_minor": 5
}
