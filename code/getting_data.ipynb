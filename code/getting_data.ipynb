{
 "cells": [
  {
   "cell_type": "markdown",
   "id": "5af814e3-d98f-4786-b7f2-585de8edf791",
   "metadata": {},
   "source": [
    "#### Getting date from the World Bank to build a dataframe"
   ]
  },
  {
   "cell_type": "code",
   "execution_count": 79,
   "id": "6efaebfa-3582-48cd-9bb5-89675c628c1a",
   "metadata": {},
   "outputs": [],
   "source": [
    "# here's where our code goes"
   ]
  },
  {
   "cell_type": "code",
   "execution_count": 1,
   "id": "60fe4b43-60da-41c4-91ed-f6b3c3c97731",
   "metadata": {},
   "outputs": [],
   "source": [
    "# imports\n",
    "import numpy as np\n",
    "import pandas as pd\n",
    "import matplotlib.pyplot\n",
    "import seaborn as sns\n",
    "\n",
    "from functools import reduce"
   ]
  },
  {
   "cell_type": "markdown",
   "id": "4f5af273-c6c1-4c0e-9f04-f28bf313d25e",
   "metadata": {},
   "source": [
    "-----\n",
    "## Read in and Aggregate Agriculture/Rural Development Data"
   ]
  },
  {
   "cell_type": "code",
   "execution_count": 25,
   "id": "b7047b6b-5242-4075-8d60-70a5df73d6a7",
   "metadata": {},
   "outputs": [],
   "source": [
    "def world_bank_csv(name, csv_filepath, indicator_name):\n",
    "    '''\n",
    "    Reads in a CSV file from World Bank\n",
    "    Drops unnecessary columns and renames\n",
    "    Selects 2017 column\n",
    "    preps to be merged with other dataframes\n",
    "    '''\n",
    "    name = pd.read_csv(csv_filepath, skiprows = 4)\n",
    "    name.drop(columns = ['Unnamed: 66'], inplace = True)\n",
    "    \n",
    "    #selecting useful columns\n",
    "    name = name[['Country Name','Country Code','2017']].copy()\n",
    "    \n",
    "    # rename to specify \n",
    "    name.rename(columns = {'2017': indicator_name}, inplace = True)\n",
    "    \n",
    "    return name"
   ]
  },
  {
   "cell_type": "code",
   "execution_count": 26,
   "id": "492689a5-134a-4c2e-bf07-9768eae91605",
   "metadata": {},
   "outputs": [],
   "source": [
    "rural_pop_17 = world_bank_csv('rural_pop_17', '../datasets/API_SP.RUR.TOTL.ZS_DS2_en_csv_v2_4261416.csv', 'rural_pop_percent_2017')"
   ]
  },
  {
   "cell_type": "code",
   "execution_count": 27,
   "id": "ebd1c41b-7b9c-4b2a-bc0b-85ba2bec2e4f",
   "metadata": {},
   "outputs": [
    {
     "data": {
      "text/html": [
       "<div>\n",
       "<style scoped>\n",
       "    .dataframe tbody tr th:only-of-type {\n",
       "        vertical-align: middle;\n",
       "    }\n",
       "\n",
       "    .dataframe tbody tr th {\n",
       "        vertical-align: top;\n",
       "    }\n",
       "\n",
       "    .dataframe thead th {\n",
       "        text-align: right;\n",
       "    }\n",
       "</style>\n",
       "<table border=\"1\" class=\"dataframe\">\n",
       "  <thead>\n",
       "    <tr style=\"text-align: right;\">\n",
       "      <th></th>\n",
       "      <th>Country Name</th>\n",
       "      <th>Country Code</th>\n",
       "      <th>rural_pop_percent_2017</th>\n",
       "    </tr>\n",
       "  </thead>\n",
       "  <tbody>\n",
       "    <tr>\n",
       "      <th>0</th>\n",
       "      <td>Aruba</td>\n",
       "      <td>ABW</td>\n",
       "      <td>56.707000</td>\n",
       "    </tr>\n",
       "    <tr>\n",
       "      <th>1</th>\n",
       "      <td>Africa Eastern and Southern</td>\n",
       "      <td>AFE</td>\n",
       "      <td>64.667627</td>\n",
       "    </tr>\n",
       "    <tr>\n",
       "      <th>2</th>\n",
       "      <td>Afghanistan</td>\n",
       "      <td>AFG</td>\n",
       "      <td>74.750000</td>\n",
       "    </tr>\n",
       "    <tr>\n",
       "      <th>3</th>\n",
       "      <td>Africa Western and Central</td>\n",
       "      <td>AFW</td>\n",
       "      <td>53.980666</td>\n",
       "    </tr>\n",
       "    <tr>\n",
       "      <th>4</th>\n",
       "      <td>Angola</td>\n",
       "      <td>AGO</td>\n",
       "      <td>35.161000</td>\n",
       "    </tr>\n",
       "    <tr>\n",
       "      <th>...</th>\n",
       "      <td>...</td>\n",
       "      <td>...</td>\n",
       "      <td>...</td>\n",
       "    </tr>\n",
       "    <tr>\n",
       "      <th>261</th>\n",
       "      <td>Kosovo</td>\n",
       "      <td>XKX</td>\n",
       "      <td>NaN</td>\n",
       "    </tr>\n",
       "    <tr>\n",
       "      <th>262</th>\n",
       "      <td>Yemen, Rep.</td>\n",
       "      <td>YEM</td>\n",
       "      <td>63.984000</td>\n",
       "    </tr>\n",
       "    <tr>\n",
       "      <th>263</th>\n",
       "      <td>South Africa</td>\n",
       "      <td>ZAF</td>\n",
       "      <td>34.150000</td>\n",
       "    </tr>\n",
       "    <tr>\n",
       "      <th>264</th>\n",
       "      <td>Zambia</td>\n",
       "      <td>ZMB</td>\n",
       "      <td>57.024000</td>\n",
       "    </tr>\n",
       "    <tr>\n",
       "      <th>265</th>\n",
       "      <td>Zimbabwe</td>\n",
       "      <td>ZWE</td>\n",
       "      <td>67.763000</td>\n",
       "    </tr>\n",
       "  </tbody>\n",
       "</table>\n",
       "<p>266 rows × 3 columns</p>\n",
       "</div>"
      ],
      "text/plain": [
       "                    Country Name Country Code  rural_pop_percent_2017\n",
       "0                          Aruba          ABW               56.707000\n",
       "1    Africa Eastern and Southern          AFE               64.667627\n",
       "2                    Afghanistan          AFG               74.750000\n",
       "3     Africa Western and Central          AFW               53.980666\n",
       "4                         Angola          AGO               35.161000\n",
       "..                           ...          ...                     ...\n",
       "261                       Kosovo          XKX                     NaN\n",
       "262                  Yemen, Rep.          YEM               63.984000\n",
       "263                 South Africa          ZAF               34.150000\n",
       "264                       Zambia          ZMB               57.024000\n",
       "265                     Zimbabwe          ZWE               67.763000\n",
       "\n",
       "[266 rows x 3 columns]"
      ]
     },
     "execution_count": 27,
     "metadata": {},
     "output_type": "execute_result"
    }
   ],
   "source": [
    "rural_pop_17"
   ]
  },
  {
   "cell_type": "code",
   "execution_count": 28,
   "id": "9e2d3b45-b0a2-4cf0-b2c3-1a9950ce1669",
   "metadata": {},
   "outputs": [],
   "source": [
    "food_production_index_17 = world_bank_csv('food_production_index_17', '../datasets/API_AG.PRD.FOOD.XD_DS2_en_csv_v2_4254742.csv', 'food_prod_index_2017')"
   ]
  },
  {
   "cell_type": "code",
   "execution_count": 29,
   "id": "52e2af7a-8885-46d8-8c81-5a3ebe099525",
   "metadata": {},
   "outputs": [],
   "source": [
    "ag_land_area_17 = world_bank_csv('ag_land_area_17', '../datasets/API_AG.LND.AGRI.ZS_DS2_en_csv_v2_4254639.csv', 'ag_land_percent_2017')"
   ]
  },
  {
   "cell_type": "code",
   "execution_count": 30,
   "id": "ac3e56a8-bf7a-4299-aae5-848e81806f74",
   "metadata": {},
   "outputs": [],
   "source": [
    "arable_land_area_17 = world_bank_csv('arable_land_area_17', '../datasets/API_AG.LND.ARBL.ZS_DS2_en_csv_v2_4252676.csv', 'arable_land_percent_2017')"
   ]
  },
  {
   "cell_type": "code",
   "execution_count": 31,
   "id": "d1289e78-38e1-4cba-8253-56cb28339f83",
   "metadata": {},
   "outputs": [],
   "source": [
    "# the reduce function code was adapted from everestial007 response on stack overflow (https://stackoverflow.com/questions/44327999/python-pandas-merge-multiple-dataframes)\n",
    "data_frames = [arable_land_area_17, ag_land_area_17, food_production_index_17, rural_pop_17]\n",
    "\n",
    "ag_merged = reduce(lambda  left,right: pd.merge(left,right,on=['Country Code', 'Country Name'],\n",
    "                                            how='outer'), data_frames)"
   ]
  },
  {
   "cell_type": "code",
   "execution_count": 47,
   "id": "db5e78ca-0b74-4d29-b668-1e517b8c5008",
   "metadata": {},
   "outputs": [
    {
     "data": {
      "text/html": [
       "<div>\n",
       "<style scoped>\n",
       "    .dataframe tbody tr th:only-of-type {\n",
       "        vertical-align: middle;\n",
       "    }\n",
       "\n",
       "    .dataframe tbody tr th {\n",
       "        vertical-align: top;\n",
       "    }\n",
       "\n",
       "    .dataframe thead th {\n",
       "        text-align: right;\n",
       "    }\n",
       "</style>\n",
       "<table border=\"1\" class=\"dataframe\">\n",
       "  <thead>\n",
       "    <tr style=\"text-align: right;\">\n",
       "      <th></th>\n",
       "      <th>Country Name</th>\n",
       "      <th>Country Code</th>\n",
       "      <th>arable_land_percent_2017</th>\n",
       "      <th>ag_land_percent_2017</th>\n",
       "      <th>food_prod_index_2017</th>\n",
       "      <th>rural_pop_percent_2017</th>\n",
       "    </tr>\n",
       "  </thead>\n",
       "  <tbody>\n",
       "    <tr>\n",
       "      <th>0</th>\n",
       "      <td>Aruba</td>\n",
       "      <td>ABW</td>\n",
       "      <td>11.111111</td>\n",
       "      <td>11.111111</td>\n",
       "      <td>NaN</td>\n",
       "      <td>56.707000</td>\n",
       "    </tr>\n",
       "    <tr>\n",
       "      <th>1</th>\n",
       "      <td>Africa Eastern and Southern</td>\n",
       "      <td>AFE</td>\n",
       "      <td>8.231181</td>\n",
       "      <td>44.042629</td>\n",
       "      <td>NaN</td>\n",
       "      <td>64.667627</td>\n",
       "    </tr>\n",
       "    <tr>\n",
       "      <th>2</th>\n",
       "      <td>Afghanistan</td>\n",
       "      <td>AFG</td>\n",
       "      <td>11.792727</td>\n",
       "      <td>58.067580</td>\n",
       "      <td>99.169998</td>\n",
       "      <td>74.750000</td>\n",
       "    </tr>\n",
       "    <tr>\n",
       "      <th>3</th>\n",
       "      <td>Africa Western and Central</td>\n",
       "      <td>AFW</td>\n",
       "      <td>11.224018</td>\n",
       "      <td>39.930699</td>\n",
       "      <td>NaN</td>\n",
       "      <td>53.980666</td>\n",
       "    </tr>\n",
       "    <tr>\n",
       "      <th>4</th>\n",
       "      <td>Angola</td>\n",
       "      <td>AGO</td>\n",
       "      <td>3.930376</td>\n",
       "      <td>45.237371</td>\n",
       "      <td>103.419998</td>\n",
       "      <td>35.161000</td>\n",
       "    </tr>\n",
       "  </tbody>\n",
       "</table>\n",
       "</div>"
      ],
      "text/plain": [
       "                  Country Name Country Code  arable_land_percent_2017  \\\n",
       "0                        Aruba          ABW                 11.111111   \n",
       "1  Africa Eastern and Southern          AFE                  8.231181   \n",
       "2                  Afghanistan          AFG                 11.792727   \n",
       "3   Africa Western and Central          AFW                 11.224018   \n",
       "4                       Angola          AGO                  3.930376   \n",
       "\n",
       "   ag_land_percent_2017  food_prod_index_2017  rural_pop_percent_2017  \n",
       "0             11.111111                   NaN               56.707000  \n",
       "1             44.042629                   NaN               64.667627  \n",
       "2             58.067580             99.169998               74.750000  \n",
       "3             39.930699                   NaN               53.980666  \n",
       "4             45.237371            103.419998               35.161000  "
      ]
     },
     "execution_count": 47,
     "metadata": {},
     "output_type": "execute_result"
    }
   ],
   "source": [
    "ag_merged.head()"
   ]
  },
  {
   "cell_type": "markdown",
   "id": "a22d4d6d-a012-4247-a048-f4ccbe8fba88",
   "metadata": {},
   "source": [
    "--------\n",
    "## Read in and Aggregate Aid Data"
   ]
  },
  {
   "cell_type": "code",
   "execution_count": 40,
   "id": "c5f85142-b3da-4107-a810-6b698adc8050",
   "metadata": {},
   "outputs": [],
   "source": [
    "net_migration = world_bank_csv('net_migration', '../datasets/API_SM.POP.NETM_DS2_en_csv_v2_4250793.csv', 'net_migration_2017')"
   ]
  },
  {
   "cell_type": "code",
   "execution_count": 41,
   "id": "0b66b382-0780-47de-bf93-3763592e839f",
   "metadata": {},
   "outputs": [],
   "source": [
    "hiv_prevalence = world_bank_csv('hiv_prevalence', '../datasets/API_SH.DYN.AIDS.ZS_DS2_en_csv_v2_4250791.csv','hiv_prevalence_2017')"
   ]
  },
  {
   "cell_type": "code",
   "execution_count": 42,
   "id": "945ec086-0620-4845-85a2-06eea73d2d90",
   "metadata": {},
   "outputs": [],
   "source": [
    "maternal_mort_ratio = world_bank_csv('maternal_mort_ratio', '../datasets/API_SH.STA.MMRT_DS2_en_csv_v2_4252399.csv', 'mat_mortality_ratio_2017')"
   ]
  },
  {
   "cell_type": "code",
   "execution_count": 43,
   "id": "516bf260-82e2-415a-910a-eea9f0ca901a",
   "metadata": {},
   "outputs": [],
   "source": [
    "u5_mort_ratio = world_bank_csv('u5_mort_ratio', '../datasets/API_SH.DYN.MORT_DS2_en_csv_v2_4252415.csv', 'under5_mortality_ratio_2017')"
   ]
  },
  {
   "cell_type": "code",
   "execution_count": 44,
   "id": "0e46583e-4336-44b2-bb0a-de1a74035efb",
   "metadata": {},
   "outputs": [],
   "source": [
    "tuberculosis = world_bank_csv('tuberculosis', '../datasets/API_SH.TBS.INCD_DS2_en_csv_v2_4250622.csv', 'tubercul_incidence_2017')"
   ]
  },
  {
   "cell_type": "code",
   "execution_count": 45,
   "id": "0d472821-f9a4-4fef-844b-48b17240b883",
   "metadata": {},
   "outputs": [],
   "source": [
    "# merging the data frames into combined for aid category\n",
    "data_frames = [net_migration, hiv_prevalence, maternal_mort_ratio, u5_mort_ratio, tuberculosis]\n",
    "\n",
    "aid_merged = reduce(lambda left,right: pd.merge(left,right,on=['Country Code', 'Country Name'],\n",
    "                                            how='outer'), data_frames)"
   ]
  },
  {
   "cell_type": "code",
   "execution_count": 46,
   "id": "ebb617dd-8c3d-4d42-9ed2-b6de97127095",
   "metadata": {},
   "outputs": [
    {
     "data": {
      "text/html": [
       "<div>\n",
       "<style scoped>\n",
       "    .dataframe tbody tr th:only-of-type {\n",
       "        vertical-align: middle;\n",
       "    }\n",
       "\n",
       "    .dataframe tbody tr th {\n",
       "        vertical-align: top;\n",
       "    }\n",
       "\n",
       "    .dataframe thead th {\n",
       "        text-align: right;\n",
       "    }\n",
       "</style>\n",
       "<table border=\"1\" class=\"dataframe\">\n",
       "  <thead>\n",
       "    <tr style=\"text-align: right;\">\n",
       "      <th></th>\n",
       "      <th>Country Name</th>\n",
       "      <th>Country Code</th>\n",
       "      <th>net_migration_2017</th>\n",
       "      <th>hiv_prevalence_2017</th>\n",
       "      <th>mat_mortality_ratio_2017</th>\n",
       "      <th>under5_mortality_ratio_2017</th>\n",
       "      <th>tubercul_incidence_2017</th>\n",
       "    </tr>\n",
       "  </thead>\n",
       "  <tbody>\n",
       "    <tr>\n",
       "      <th>0</th>\n",
       "      <td>Aruba</td>\n",
       "      <td>ABW</td>\n",
       "      <td>1004.0</td>\n",
       "      <td>NaN</td>\n",
       "      <td>NaN</td>\n",
       "      <td>NaN</td>\n",
       "      <td>8.7</td>\n",
       "    </tr>\n",
       "    <tr>\n",
       "      <th>1</th>\n",
       "      <td>Africa Eastern and Southern</td>\n",
       "      <td>AFE</td>\n",
       "      <td>-791282.0</td>\n",
       "      <td>5.371653</td>\n",
       "      <td>398.0</td>\n",
       "      <td>64.243994</td>\n",
       "      <td>NaN</td>\n",
       "    </tr>\n",
       "    <tr>\n",
       "      <th>2</th>\n",
       "      <td>Afghanistan</td>\n",
       "      <td>AFG</td>\n",
       "      <td>-314602.0</td>\n",
       "      <td>0.100000</td>\n",
       "      <td>638.0</td>\n",
       "      <td>64.800000</td>\n",
       "      <td>189.0</td>\n",
       "    </tr>\n",
       "    <tr>\n",
       "      <th>3</th>\n",
       "      <td>Africa Western and Central</td>\n",
       "      <td>AFW</td>\n",
       "      <td>-1022839.0</td>\n",
       "      <td>1.563411</td>\n",
       "      <td>717.0</td>\n",
       "      <td>102.032086</td>\n",
       "      <td>NaN</td>\n",
       "    </tr>\n",
       "    <tr>\n",
       "      <th>4</th>\n",
       "      <td>Angola</td>\n",
       "      <td>AGO</td>\n",
       "      <td>32066.0</td>\n",
       "      <td>1.900000</td>\n",
       "      <td>241.0</td>\n",
       "      <td>80.600000</td>\n",
       "      <td>359.0</td>\n",
       "    </tr>\n",
       "  </tbody>\n",
       "</table>\n",
       "</div>"
      ],
      "text/plain": [
       "                  Country Name Country Code  net_migration_2017  \\\n",
       "0                        Aruba          ABW              1004.0   \n",
       "1  Africa Eastern and Southern          AFE           -791282.0   \n",
       "2                  Afghanistan          AFG           -314602.0   \n",
       "3   Africa Western and Central          AFW          -1022839.0   \n",
       "4                       Angola          AGO             32066.0   \n",
       "\n",
       "   hiv_prevalence_2017  mat_mortality_ratio_2017  under5_mortality_ratio_2017  \\\n",
       "0                  NaN                       NaN                          NaN   \n",
       "1             5.371653                     398.0                    64.243994   \n",
       "2             0.100000                     638.0                    64.800000   \n",
       "3             1.563411                     717.0                   102.032086   \n",
       "4             1.900000                     241.0                    80.600000   \n",
       "\n",
       "   tubercul_incidence_2017  \n",
       "0                      8.7  \n",
       "1                      NaN  \n",
       "2                    189.0  \n",
       "3                      NaN  \n",
       "4                    359.0  "
      ]
     },
     "execution_count": 46,
     "metadata": {},
     "output_type": "execute_result"
    }
   ],
   "source": [
    "aid_merged.head()"
   ]
  },
  {
   "cell_type": "markdown",
   "id": "e195f939-6f89-4b48-a743-6fdbfc63b87c",
   "metadata": {},
   "source": [
    "---------\n",
    "## Read in and Aggregate Energy and Environment Data"
   ]
  },
  {
   "cell_type": "code",
   "execution_count": 48,
   "id": "aa04dd4f-020f-4860-8fb6-bd8f112a5b35",
   "metadata": {},
   "outputs": [],
   "source": [
    "electric_access = world_bank_csv('electric_access', '../datasets/API_SP.RUR.TOTL.ZS_DS2_en_csv_v2_4261416.csv', 'elec_access_2017')"
   ]
  },
  {
   "cell_type": "code",
   "execution_count": 49,
   "id": "57c05bf3-cd0d-40e3-9f9d-29cbb373d7ca",
   "metadata": {},
   "outputs": [],
   "source": [
    "renew_consumption = world_bank_csv('renew_consumption', '../datasets/API_EG.FEC.RNEW.ZS_DS2_en_csv_v2_4251598.csv', 'ren_energy_percent_2017')"
   ]
  },
  {
   "cell_type": "code",
   "execution_count": 50,
   "id": "4cfa35d4-7b7e-4f4a-923f-05cf42518a97",
   "metadata": {},
   "outputs": [],
   "source": [
    "ff_consumption = world_bank_csv('ff_consumption', '../datasets/API_EG.USE.COMM.FO.ZS_DS2_en_csv_v2_4250919.csv', 'ffuel_energy_percent_2017')"
   ]
  },
  {
   "cell_type": "code",
   "execution_count": 51,
   "id": "710aaf05-fd44-48ff-b433-cadc06141556",
   "metadata": {},
   "outputs": [],
   "source": [
    "co2_emissions = world_bank_csv('co2_emissions', '../datasets/API_EN.ATM.CO2E.PC_DS2_en_csv_v2_4251354.csv', 'co2_emissions_2017')"
   ]
  },
  {
   "cell_type": "code",
   "execution_count": 52,
   "id": "30364456-cd0f-49d8-b8f2-66d6f22940c1",
   "metadata": {},
   "outputs": [],
   "source": [
    "pop_exposed_air_pollution = world_bank_csv('pop_exposed_air_pollution', '../datasets/API_EN.ATM.PM25.MC.M3_DS2_en_csv_v2_4251710.csv', 'pop_air_pollution_2017')"
   ]
  },
  {
   "cell_type": "code",
   "execution_count": 53,
   "id": "c086c3d6-12fa-4520-8456-b30290be4855",
   "metadata": {},
   "outputs": [],
   "source": [
    "# merging the data frames into combined for aid category\n",
    "data_frames = [electric_access, renew_consumption, ff_consumption, co2_emissions, pop_exposed_air_pollution]\n",
    "\n",
    "engy_env_merged = reduce(lambda left,right: pd.merge(left,right,on=['Country Code', 'Country Name'],\n",
    "                                            how='outer'), data_frames)"
   ]
  },
  {
   "cell_type": "code",
   "execution_count": 54,
   "id": "8c16f3fb-501d-45bd-9d11-7e5297b56f16",
   "metadata": {},
   "outputs": [
    {
     "data": {
      "text/html": [
       "<div>\n",
       "<style scoped>\n",
       "    .dataframe tbody tr th:only-of-type {\n",
       "        vertical-align: middle;\n",
       "    }\n",
       "\n",
       "    .dataframe tbody tr th {\n",
       "        vertical-align: top;\n",
       "    }\n",
       "\n",
       "    .dataframe thead th {\n",
       "        text-align: right;\n",
       "    }\n",
       "</style>\n",
       "<table border=\"1\" class=\"dataframe\">\n",
       "  <thead>\n",
       "    <tr style=\"text-align: right;\">\n",
       "      <th></th>\n",
       "      <th>Country Name</th>\n",
       "      <th>Country Code</th>\n",
       "      <th>elec_access_2017</th>\n",
       "      <th>ren_energy_percent_2017</th>\n",
       "      <th>ffuel_energy_percent_2017</th>\n",
       "      <th>co2_emissions_2017</th>\n",
       "      <th>pop_air_pollution_2017</th>\n",
       "    </tr>\n",
       "  </thead>\n",
       "  <tbody>\n",
       "    <tr>\n",
       "      <th>0</th>\n",
       "      <td>Aruba</td>\n",
       "      <td>ABW</td>\n",
       "      <td>56.707000</td>\n",
       "      <td>6.70</td>\n",
       "      <td>NaN</td>\n",
       "      <td>NaN</td>\n",
       "      <td>NaN</td>\n",
       "    </tr>\n",
       "    <tr>\n",
       "      <th>1</th>\n",
       "      <td>Africa Eastern and Southern</td>\n",
       "      <td>AFE</td>\n",
       "      <td>64.667627</td>\n",
       "      <td>NaN</td>\n",
       "      <td>NaN</td>\n",
       "      <td>0.937926</td>\n",
       "      <td>35.512988</td>\n",
       "    </tr>\n",
       "    <tr>\n",
       "      <th>2</th>\n",
       "      <td>Afghanistan</td>\n",
       "      <td>AFG</td>\n",
       "      <td>74.750000</td>\n",
       "      <td>19.21</td>\n",
       "      <td>NaN</td>\n",
       "      <td>0.131695</td>\n",
       "      <td>56.910808</td>\n",
       "    </tr>\n",
       "    <tr>\n",
       "      <th>3</th>\n",
       "      <td>Africa Western and Central</td>\n",
       "      <td>AFW</td>\n",
       "      <td>53.980666</td>\n",
       "      <td>NaN</td>\n",
       "      <td>NaN</td>\n",
       "      <td>0.483140</td>\n",
       "      <td>58.064482</td>\n",
       "    </tr>\n",
       "    <tr>\n",
       "      <th>4</th>\n",
       "      <td>Angola</td>\n",
       "      <td>AGO</td>\n",
       "      <td>35.161000</td>\n",
       "      <td>56.25</td>\n",
       "      <td>NaN</td>\n",
       "      <td>0.813301</td>\n",
       "      <td>32.388505</td>\n",
       "    </tr>\n",
       "  </tbody>\n",
       "</table>\n",
       "</div>"
      ],
      "text/plain": [
       "                  Country Name Country Code  elec_access_2017  \\\n",
       "0                        Aruba          ABW         56.707000   \n",
       "1  Africa Eastern and Southern          AFE         64.667627   \n",
       "2                  Afghanistan          AFG         74.750000   \n",
       "3   Africa Western and Central          AFW         53.980666   \n",
       "4                       Angola          AGO         35.161000   \n",
       "\n",
       "   ren_energy_percent_2017  ffuel_energy_percent_2017  co2_emissions_2017  \\\n",
       "0                     6.70                        NaN                 NaN   \n",
       "1                      NaN                        NaN            0.937926   \n",
       "2                    19.21                        NaN            0.131695   \n",
       "3                      NaN                        NaN            0.483140   \n",
       "4                    56.25                        NaN            0.813301   \n",
       "\n",
       "   pop_air_pollution_2017  \n",
       "0                     NaN  \n",
       "1               35.512988  \n",
       "2               56.910808  \n",
       "3               58.064482  \n",
       "4               32.388505  "
      ]
     },
     "execution_count": 54,
     "metadata": {},
     "output_type": "execute_result"
    }
   ],
   "source": [
    "engy_env_merged.head()"
   ]
  },
  {
   "cell_type": "markdown",
   "id": "95b7d6c8-172e-4d01-8035-5e0bda457973",
   "metadata": {},
   "source": [
    "------\n",
    "## Read in and Aggregate Financial Data"
   ]
  },
  {
   "cell_type": "code",
   "execution_count": 63,
   "id": "8470ad61-4cd1-4553-bbe5-b3986844a359",
   "metadata": {
    "tags": []
   },
   "outputs": [],
   "source": [
    "foreign_dir_inv = world_bank_csv('foreign_dir_inv', '../datasets/API_BX.KLT.DINV.CD.WD_DS2_en_csv_v2_4250821.csv', 'foreign_dir_inv_2017')"
   ]
  },
  {
   "cell_type": "code",
   "execution_count": 64,
   "id": "652a9272-dbcc-4c3c-8eb8-77f10a7fa583",
   "metadata": {},
   "outputs": [],
   "source": [
    "atms = world_bank_csv('atms', '../datasets/API_FB.ATM.TOTL.P5_DS2_en_csv_v2_4260830.csv', 'atm_access_2017')"
   ]
  },
  {
   "cell_type": "code",
   "execution_count": 65,
   "id": "0c52533d-eded-4ae0-a275-ace471baf27d",
   "metadata": {},
   "outputs": [],
   "source": [
    "legal_rights_strength = world_bank_csv('legal_rights_strength', '../datasets/API_IC.LGL.CRED.XQ_DS2_en_csv_v2_4261026.csv', 'legal_rights_index_2017')"
   ]
  },
  {
   "cell_type": "code",
   "execution_count": 66,
   "id": "5eecc816-4a13-42df-9065-80cde9452e78",
   "metadata": {},
   "outputs": [],
   "source": [
    "# merging the data frames into combined for aid category\n",
    "data_frames = [foreign_dir_inv, atms, legal_rights_strength]\n",
    "\n",
    "finance_merged = reduce(lambda left,right: pd.merge(left,right,on=['Country Code', 'Country Name'],\n",
    "                                            how='outer'), data_frames)"
   ]
  },
  {
   "cell_type": "markdown",
   "id": "cd14e1eb-cbd7-4022-a7fb-753b95fe7b5a",
   "metadata": {},
   "source": [
    "------\n",
    "## Read in and Aggregate Gender Data"
   ]
  },
  {
   "cell_type": "code",
   "execution_count": 69,
   "id": "3bc3d0ad-bcac-48a3-b027-85156eace94f",
   "metadata": {},
   "outputs": [],
   "source": [
    "adol_fertility_rate = world_bank_csv('adol_fertility_rate', '../datasets/API_SP.ADO.TFRT_DS2_en_csv_v2_4252410.csv', 'adol_fertility_rate_2017')"
   ]
  },
  {
   "cell_type": "code",
   "execution_count": 70,
   "id": "8be9de9f-1c0f-45a1-ad3b-09fca9d477dc",
   "metadata": {},
   "outputs": [],
   "source": [
    "fem_labor_participation = world_bank_csv('fem_labor_participation', '../datasets/API_SL.TLF.CACT.FE.ZS_DS2_en_csv_v2_4250833.csv', 'fem_labor_part_rate_2017')"
   ]
  },
  {
   "cell_type": "code",
   "execution_count": 71,
   "id": "fdaed2b9-8e84-46d0-bc06-22a8de14bab8",
   "metadata": {},
   "outputs": [],
   "source": [
    "male_labor_participation = world_bank_csv('male_labor_participation', '../datasets/API_SL.TLF.CACT.MA.ZS_DS2_en_csv_v2_4251123.csv', 'male_labor_part_rate_2017')"
   ]
  },
  {
   "cell_type": "code",
   "execution_count": 72,
   "id": "e988c84b-5802-4b38-b913-79dbd98961d2",
   "metadata": {},
   "outputs": [],
   "source": [
    "fertility_rate = world_bank_csv('fertility_rate', '../datasets/API_SP.DYN.TFRT.IN_DS2_en_csv_v2_4252390.csv', 'fertility_rate_2017')"
   ]
  },
  {
   "cell_type": "code",
   "execution_count": 73,
   "id": "26d34da4-55dd-4f98-ac67-6adc584129a2",
   "metadata": {},
   "outputs": [],
   "source": [
    "# merging the data frames into combined for aid category\n",
    "data_frames = [adol_fertility_rate, fertility_rate, fem_labor_participation, male_labor_participation]\n",
    "\n",
    "gender_merged = reduce(lambda left,right: pd.merge(left,right,on=['Country Code', 'Country Name'],\n",
    "                                            how='outer'), data_frames)"
   ]
  },
  {
   "cell_type": "code",
   "execution_count": 74,
   "id": "b6a30b16-50ce-4a12-8bb5-753ac5033500",
   "metadata": {},
   "outputs": [
    {
     "data": {
      "text/html": [
       "<div>\n",
       "<style scoped>\n",
       "    .dataframe tbody tr th:only-of-type {\n",
       "        vertical-align: middle;\n",
       "    }\n",
       "\n",
       "    .dataframe tbody tr th {\n",
       "        vertical-align: top;\n",
       "    }\n",
       "\n",
       "    .dataframe thead th {\n",
       "        text-align: right;\n",
       "    }\n",
       "</style>\n",
       "<table border=\"1\" class=\"dataframe\">\n",
       "  <thead>\n",
       "    <tr style=\"text-align: right;\">\n",
       "      <th></th>\n",
       "      <th>Country Name</th>\n",
       "      <th>Country Code</th>\n",
       "      <th>adol_fertility_rate_2017</th>\n",
       "      <th>fertility_rate_2017</th>\n",
       "      <th>fem_labor_part_rate_2017</th>\n",
       "      <th>male_labor_part_rate_2017</th>\n",
       "    </tr>\n",
       "  </thead>\n",
       "  <tbody>\n",
       "    <tr>\n",
       "      <th>0</th>\n",
       "      <td>Aruba</td>\n",
       "      <td>ABW</td>\n",
       "      <td>22.674000</td>\n",
       "      <td>1.886000</td>\n",
       "      <td>NaN</td>\n",
       "      <td>NaN</td>\n",
       "    </tr>\n",
       "    <tr>\n",
       "      <th>1</th>\n",
       "      <td>Africa Eastern and Southern</td>\n",
       "      <td>AFE</td>\n",
       "      <td>96.146492</td>\n",
       "      <td>4.493744</td>\n",
       "      <td>66.125922</td>\n",
       "      <td>77.021661</td>\n",
       "    </tr>\n",
       "    <tr>\n",
       "      <th>2</th>\n",
       "      <td>Afghanistan</td>\n",
       "      <td>AFG</td>\n",
       "      <td>68.957000</td>\n",
       "      <td>4.633000</td>\n",
       "      <td>20.886999</td>\n",
       "      <td>72.182999</td>\n",
       "    </tr>\n",
       "    <tr>\n",
       "      <th>3</th>\n",
       "      <td>Africa Western and Central</td>\n",
       "      <td>AFW</td>\n",
       "      <td>112.847046</td>\n",
       "      <td>5.182391</td>\n",
       "      <td>54.295500</td>\n",
       "      <td>66.625131</td>\n",
       "    </tr>\n",
       "    <tr>\n",
       "      <th>4</th>\n",
       "      <td>Angola</td>\n",
       "      <td>AGO</td>\n",
       "      <td>150.526000</td>\n",
       "      <td>5.600000</td>\n",
       "      <td>74.912003</td>\n",
       "      <td>79.755997</td>\n",
       "    </tr>\n",
       "  </tbody>\n",
       "</table>\n",
       "</div>"
      ],
      "text/plain": [
       "                  Country Name Country Code  adol_fertility_rate_2017  \\\n",
       "0                        Aruba          ABW                 22.674000   \n",
       "1  Africa Eastern and Southern          AFE                 96.146492   \n",
       "2                  Afghanistan          AFG                 68.957000   \n",
       "3   Africa Western and Central          AFW                112.847046   \n",
       "4                       Angola          AGO                150.526000   \n",
       "\n",
       "   fertility_rate_2017  fem_labor_part_rate_2017  male_labor_part_rate_2017  \n",
       "0             1.886000                       NaN                        NaN  \n",
       "1             4.493744                 66.125922                  77.021661  \n",
       "2             4.633000                 20.886999                  72.182999  \n",
       "3             5.182391                 54.295500                  66.625131  \n",
       "4             5.600000                 74.912003                  79.755997  "
      ]
     },
     "execution_count": 74,
     "metadata": {},
     "output_type": "execute_result"
    }
   ],
   "source": [
    "gender_merged.head()"
   ]
  },
  {
   "cell_type": "markdown",
   "id": "5678da51-9a49-428a-a75c-185e7aa37c09",
   "metadata": {},
   "source": [
    "------\n",
    "## Read in and Aggregate Health Data"
   ]
  },
  {
   "cell_type": "code",
   "execution_count": 81,
   "id": "4c32ac3e-839a-475d-b157-6405da2c8d53",
   "metadata": {},
   "outputs": [],
   "source": [
    "dpt_immuniz_rate = world_bank_csv('dpt_immuniz_rate', '../datasets/API_SH.IMM.IDPT_DS2_en_csv_v2_4261936.csv', 'dpt_immuniz_rate_2017')"
   ]
  },
  {
   "cell_type": "code",
   "execution_count": 82,
   "id": "6957e969-93f1-4bb0-8391-f0bd3f8b73f0",
   "metadata": {},
   "outputs": [],
   "source": [
    "undernourishment = world_bank_csv('undernourishment', '../datasets/API_SN.ITK.DEFC.ZS_DS2_en_csv_v2_4251163.csv', 'undernourished_rate_2017')"
   ]
  },
  {
   "cell_type": "code",
   "execution_count": 83,
   "id": "44f69c77-49b4-4de3-82b7-b2d44912b2c9",
   "metadata": {},
   "outputs": [],
   "source": [
    "# merging the data frames into combined for aid category\n",
    "data_frames = [dpt_immuniz_rate, undernourishment]\n",
    "\n",
    "health_merged = reduce(lambda left,right: pd.merge(left,right,on=['Country Code', 'Country Name'],\n",
    "                                            how='outer'), data_frames)"
   ]
  },
  {
   "cell_type": "markdown",
   "id": "3030e61e-fc11-43b7-92da-3d8eed428438",
   "metadata": {},
   "source": [
    "------\n",
    "## Read in and Aggregate Infrastructure Data"
   ]
  },
  {
   "cell_type": "code",
   "execution_count": 86,
   "id": "7d93268c-7b33-4130-9d77-944c656c543f",
   "metadata": {},
   "outputs": [],
   "source": [
    "cell_subscriptions_per100 = world_bank_csv('cell_subscriptions_per100', '../datasets/API_IT.CEL.SETS.P2_DS2_en_csv_v2_4251970.csv', 'cell_subscriptions_per100')"
   ]
  },
  {
   "cell_type": "code",
   "execution_count": 87,
   "id": "cb8bef82-1156-4214-ae3c-f262f7d212af",
   "metadata": {},
   "outputs": [],
   "source": [
    "secure_internet_per_mil = world_bank_csv('secure_internet_per_mil', '../datasets/API_IT.CEL.SETS.P2_DS2_en_csv_v2_4251970.csv', 'internet_per_mil_2017')"
   ]
  },
  {
   "cell_type": "code",
   "execution_count": 88,
   "id": "c76dd52a-2f12-4834-956c-527748a608c3",
   "metadata": {},
   "outputs": [],
   "source": [
    "# merging the data frames into combined for aid category\n",
    "data_frames = [cell_subscriptions_per100, secure_internet_per_mil]\n",
    "\n",
    "infra_merged = reduce(lambda left,right: pd.merge(left,right,on=['Country Code', 'Country Name'],\n",
    "                                            how='outer'), data_frames)"
   ]
  },
  {
   "cell_type": "code",
   "execution_count": null,
   "id": "dbadf631-cfe0-4152-8d0e-f71953b3ffaa",
   "metadata": {},
   "outputs": [],
   "source": []
  },
  {
   "cell_type": "code",
   "execution_count": null,
   "id": "217552ac-62e4-4d20-a4e3-ba4d1433aff2",
   "metadata": {},
   "outputs": [],
   "source": []
  },
  {
   "cell_type": "code",
   "execution_count": null,
   "id": "fe3746c5-d588-41d4-b96c-22abe1d870ab",
   "metadata": {},
   "outputs": [],
   "source": []
  },
  {
   "cell_type": "code",
   "execution_count": null,
   "id": "dd5abc77-8d37-4e00-9b10-c998c822ab7d",
   "metadata": {},
   "outputs": [],
   "source": []
  },
  {
   "cell_type": "code",
   "execution_count": null,
   "id": "f08bc9bb-0917-483e-8314-3347665e7446",
   "metadata": {},
   "outputs": [],
   "source": []
  },
  {
   "cell_type": "markdown",
   "id": "a06cdf2c-7369-4ee1-a9e5-557cebb52f1d",
   "metadata": {},
   "source": [
    "------\n",
    "## Read in and Aggregate Private Sector Data"
   ]
  },
  {
   "cell_type": "code",
   "execution_count": null,
   "id": "2ee42787-2773-444c-8b7d-d21252954e5d",
   "metadata": {},
   "outputs": [],
   "source": []
  },
  {
   "cell_type": "code",
   "execution_count": null,
   "id": "42ec3b62-bf4b-4164-99c0-71a7d53e122a",
   "metadata": {},
   "outputs": [],
   "source": []
  },
  {
   "cell_type": "code",
   "execution_count": null,
   "id": "de8505eb-208a-4f66-9a82-e4cdc5c85591",
   "metadata": {},
   "outputs": [],
   "source": []
  },
  {
   "cell_type": "code",
   "execution_count": null,
   "id": "f414df17-41df-43a6-84e0-7740764ec8db",
   "metadata": {},
   "outputs": [],
   "source": []
  },
  {
   "cell_type": "code",
   "execution_count": null,
   "id": "208aaedb-8630-46de-b88a-0e9d1978b722",
   "metadata": {},
   "outputs": [],
   "source": []
  },
  {
   "cell_type": "markdown",
   "id": "9b6edda4-e6ff-4713-be94-e3d875838dc8",
   "metadata": {},
   "source": [
    "------\n",
    "## Read in and Aggregate Public Sector Data"
   ]
  },
  {
   "cell_type": "code",
   "execution_count": null,
   "id": "e1abe744-0f7c-4063-8eeb-891acfd576c3",
   "metadata": {},
   "outputs": [],
   "source": []
  },
  {
   "cell_type": "code",
   "execution_count": null,
   "id": "493995c5-e8de-4550-a281-3782e4733ed7",
   "metadata": {},
   "outputs": [],
   "source": []
  },
  {
   "cell_type": "code",
   "execution_count": null,
   "id": "6f022baf-1f57-4bdb-a938-d14cacda8d86",
   "metadata": {},
   "outputs": [],
   "source": []
  },
  {
   "cell_type": "markdown",
   "id": "b7e0482a-11e5-4c2e-ae4e-de8bbecc3717",
   "metadata": {},
   "source": [
    "----\n",
    "## Read in and Aggregate Science, Technology and Social Development Data"
   ]
  },
  {
   "cell_type": "markdown",
   "id": "97b31a9c-719e-48e8-8299-56c3bb4d0907",
   "metadata": {},
   "source": [
    "----\n",
    "## Read in and Aggregate Social Protection & Labor Data"
   ]
  },
  {
   "cell_type": "code",
   "execution_count": null,
   "id": "680b0edf-f0f6-42a6-ab4b-ff56224fdeb4",
   "metadata": {},
   "outputs": [],
   "source": []
  },
  {
   "cell_type": "markdown",
   "id": "73e15ef7-b49c-407e-8082-7ee59eb8ad8d",
   "metadata": {},
   "source": [
    "----\n",
    "## Read in and Aggregate Urban Development Data"
   ]
  },
  {
   "cell_type": "code",
   "execution_count": null,
   "id": "56573fb9-b8fb-463a-b1d6-1b229b385b31",
   "metadata": {},
   "outputs": [],
   "source": []
  },
  {
   "cell_type": "markdown",
   "id": "68ef328e-64c0-4d46-a5e7-4a2217b4a74a",
   "metadata": {},
   "source": [
    "-----\n",
    "*Aggregate into one dataframe for further cleaning*"
   ]
  },
  {
   "cell_type": "code",
   "execution_count": null,
   "id": "04b4b0b3-a02a-4cc1-bc79-2952ee90b88b",
   "metadata": {},
   "outputs": [],
   "source": []
  }
 ],
 "metadata": {
  "kernelspec": {
   "display_name": "Python [conda env:dsi] *",
   "language": "python",
   "name": "conda-env-dsi-py"
  },
  "language_info": {
   "codemirror_mode": {
    "name": "ipython",
    "version": 3
   },
   "file_extension": ".py",
   "mimetype": "text/x-python",
   "name": "python",
   "nbconvert_exporter": "python",
   "pygments_lexer": "ipython3",
   "version": "3.9.12"
  }
 },
 "nbformat": 4,
 "nbformat_minor": 5
}
