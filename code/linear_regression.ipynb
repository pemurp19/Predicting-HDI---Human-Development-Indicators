{
 "cells": [
  {
   "cell_type": "code",
   "execution_count": 243,
   "id": "d14e8cad-743c-4146-8ce8-32f1ee7661ec",
   "metadata": {},
   "outputs": [],
   "source": [
    "import pandas as pd\n",
    "import numpy as np\n",
    "\n",
    "from sklearn.model_selection import train_test_split\n",
    "from sklearn.linear_model import LinearRegression\n",
    "from sklearn import metrics\n",
    "\n",
    "# Set random seed.\n",
    "np.random.seed(43)"
   ]
  },
  {
   "cell_type": "code",
   "execution_count": 244,
   "id": "12d66ed9-0d28-4b85-a8d9-994a89561e3e",
   "metadata": {},
   "outputs": [],
   "source": [
    "df = pd.read_csv('../datasets/cleaned_data.csv')"
   ]
  },
  {
   "cell_type": "code",
   "execution_count": 245,
   "id": "41563ecb-3d65-470d-a2a0-b4ed85365782",
   "metadata": {},
   "outputs": [
    {
     "data": {
      "text/plain": [
       "Index(['Country Name', 'Country Code', 'rural_pop_percent_17',\n",
       "       'food_production_index_17', 'ag_land_area_17',\n",
       "       'arable_land_percent_2017', 'net_migration_2017', 'hiv_prevalence_2017',\n",
       "       'mat_mortality_ratio_2017', 'under5_mortality_ratio_2017',\n",
       "       'tubercul_incidence_2017', 'elec_access_2017',\n",
       "       'ren_energy_percent_2017', 'co2_emissions_2017',\n",
       "       'pop_air_pollution_2017', 'foreign_dir_inv_2017', 'atm_access_2017',\n",
       "       'adol_fertility_rate_2017', 'fem_labor_part_rate_2017',\n",
       "       'male_labor_part_rate_2017', 'fertility_rate_2017',\n",
       "       'dpt_immuniz_rate_2017', 'undernourished_rate_2017',\n",
       "       'cell_subscriptions_per100', 'internet_per_mil_2017',\n",
       "       'military_exp_2017', 'women_seats_percent_2017', 'male_bus_start_2017',\n",
       "       'female_bus_start_2017', 'patent_apps_2017', 'sci_articles_2017',\n",
       "       'pop_density_2017', 'HDI'],\n",
       "      dtype='object')"
      ]
     },
     "execution_count": 245,
     "metadata": {},
     "output_type": "execute_result"
    }
   ],
   "source": [
    "# df.fillna(0, inplace=True)\n",
    "df.columns"
   ]
  },
  {
   "cell_type": "code",
   "execution_count": 246,
   "id": "b891d500-5644-4add-bb86-e1e316b57f17",
   "metadata": {},
   "outputs": [],
   "source": [
    "X = df.drop(columns=['Country Name', 'Country Code', 'HDI'])\n",
    "y = df['HDI']"
   ]
  },
  {
   "cell_type": "code",
   "execution_count": 247,
   "id": "2847d6ec-0764-486d-9b94-0ca23018b5fb",
   "metadata": {},
   "outputs": [],
   "source": [
    "lr = LinearRegression()\n",
    "\n",
    "X_train, X_test, y_train, y_test = train_test_split(X, y)"
   ]
  },
  {
   "cell_type": "code",
   "execution_count": 248,
   "id": "dbc1e698-c8b0-4e3c-a35d-ae85b9828af5",
   "metadata": {},
   "outputs": [
    {
     "data": {
      "text/plain": [
       "LinearRegression()"
      ]
     },
     "execution_count": 248,
     "metadata": {},
     "output_type": "execute_result"
    }
   ],
   "source": [
    "lr.fit(X_train, y_train)"
   ]
  },
  {
   "cell_type": "code",
   "execution_count": 253,
   "id": "ecc65db1-c7ba-4119-88c5-390d20b5382f",
   "metadata": {},
   "outputs": [
    {
     "name": "stdout",
     "output_type": "stream",
     "text": [
      "Training R-Squared: 0.9408789329963111\n",
      "Test R-Squared: 0.8915511751978711\n"
     ]
    }
   ],
   "source": [
    "print(f'Training R-Squared: {lr.score(X_train, y_train)}')\n",
    "print(f'Test R-Squared: {lr.score(X_test, y_test)}')"
   ]
  },
  {
   "cell_type": "code",
   "execution_count": 254,
   "id": "cf21e131-4d67-4f6b-8859-36015b84f7a6",
   "metadata": {},
   "outputs": [
    {
     "data": {
      "text/plain": [
       "0.022715749606794584"
      ]
     },
     "execution_count": 254,
     "metadata": {},
     "output_type": "execute_result"
    }
   ],
   "source": [
    "# Create the predictions for the \"null model\"\n",
    "y_bar = np.mean(y)\n",
    "\n",
    "# The null MSE\n",
    "null_mse = np.mean((y - y_bar) ** 2)\n",
    "\n",
    "null_mse"
   ]
  },
  {
   "cell_type": "code",
   "execution_count": 255,
   "id": "81546bee-d0db-4884-ac3a-cd919b81e436",
   "metadata": {},
   "outputs": [
    {
     "data": {
      "text/plain": [
       "0.0027306151385414206"
      ]
     },
     "execution_count": 255,
     "metadata": {},
     "output_type": "execute_result"
    }
   ],
   "source": [
    "y_preds = lr.predict(X_test)\n",
    "metrics.mean_squared_error(y_test, y_preds)"
   ]
  },
  {
   "cell_type": "markdown",
   "id": "ba51e0d0-09a5-4309-996f-b68a12aa1218",
   "metadata": {},
   "source": [
    "The model produces a lower MSE than the baseline. "
   ]
  }
 ],
 "metadata": {
  "kernelspec": {
   "display_name": "Python [conda env:dsi] *",
   "language": "python",
   "name": "conda-env-dsi-py"
  },
  "language_info": {
   "codemirror_mode": {
    "name": "ipython",
    "version": 3
   },
   "file_extension": ".py",
   "mimetype": "text/x-python",
   "name": "python",
   "nbconvert_exporter": "python",
   "pygments_lexer": "ipython3",
   "version": "3.9.12"
  }
 },
 "nbformat": 4,
 "nbformat_minor": 5
}
