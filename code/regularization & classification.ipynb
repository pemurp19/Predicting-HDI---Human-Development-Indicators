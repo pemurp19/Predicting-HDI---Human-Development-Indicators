{
 "cells": [
  {
   "cell_type": "code",
   "execution_count": 549,
   "id": "7c9086ff-723a-4b5b-a86b-a73107c9895a",
   "metadata": {
    "tags": []
   },
   "outputs": [],
   "source": [
    "# imports\n",
    "import numpy as np\n",
    "import pandas as pd\n",
    "import matplotlib.pyplot as plt\n",
    "import seaborn as sns\n",
    "\n",
    "# Import train_test_split\n",
    "from sklearn.model_selection import train_test_split, GridSearchCV\n",
    "from sklearn import metrics\n",
    "\n",
    "# Import Standard Scaler\n",
    "from sklearn.preprocessing import StandardScaler\n",
    "\n",
    "# Import Logistic Regression model\n",
    "from sklearn.linear_model import LogisticRegression, LinearRegression\n",
    "from sklearn.linear_model import RidgeCV, LassoCV\n",
    "\n",
    "# Import metrics\n",
    "from sklearn.metrics import confusion_matrix, plot_confusion_matrix, accuracy_score, recall_score, precision_score, f1_score\n",
    "\n",
    "# ensemble\n",
    "from sklearn.ensemble import RandomForestRegressor\n",
    "\n",
    "# Set random seed.\n",
    "np.random.seed(40)"
   ]
  },
  {
   "cell_type": "code",
   "execution_count": 550,
   "id": "f29ff69e-7ba2-41a0-b951-287316a24ecf",
   "metadata": {},
   "outputs": [
    {
     "data": {
      "text/html": [
       "<div>\n",
       "<style scoped>\n",
       "    .dataframe tbody tr th:only-of-type {\n",
       "        vertical-align: middle;\n",
       "    }\n",
       "\n",
       "    .dataframe tbody tr th {\n",
       "        vertical-align: top;\n",
       "    }\n",
       "\n",
       "    .dataframe thead th {\n",
       "        text-align: right;\n",
       "    }\n",
       "</style>\n",
       "<table border=\"1\" class=\"dataframe\">\n",
       "  <thead>\n",
       "    <tr style=\"text-align: right;\">\n",
       "      <th></th>\n",
       "      <th>Country Name</th>\n",
       "      <th>Country Code</th>\n",
       "      <th>rural_pop_percent_17</th>\n",
       "      <th>food_production_index_17</th>\n",
       "      <th>ag_land_area_17</th>\n",
       "      <th>arable_land_percent_2017</th>\n",
       "      <th>net_migration_2017</th>\n",
       "      <th>hiv_prevalence_2017</th>\n",
       "      <th>mat_mortality_ratio_2017</th>\n",
       "      <th>under5_mortality_ratio_2017</th>\n",
       "      <th>...</th>\n",
       "      <th>cell_subscriptions_per100</th>\n",
       "      <th>internet_per_mil_2017</th>\n",
       "      <th>military_exp_2017</th>\n",
       "      <th>women_seats_percent_2017</th>\n",
       "      <th>male_bus_start_2017</th>\n",
       "      <th>female_bus_start_2017</th>\n",
       "      <th>patent_apps_2017</th>\n",
       "      <th>sci_articles_2017</th>\n",
       "      <th>pop_density_2017</th>\n",
       "      <th>HDI</th>\n",
       "    </tr>\n",
       "  </thead>\n",
       "  <tbody>\n",
       "    <tr>\n",
       "      <th>0</th>\n",
       "      <td>Afghanistan</td>\n",
       "      <td>AFG</td>\n",
       "      <td>74.750</td>\n",
       "      <td>99.169998</td>\n",
       "      <td>58.067580</td>\n",
       "      <td>11.792727</td>\n",
       "      <td>-314602.0</td>\n",
       "      <td>0.1</td>\n",
       "      <td>638.0</td>\n",
       "      <td>64.8</td>\n",
       "      <td>...</td>\n",
       "      <td>65.929134</td>\n",
       "      <td>43.448181</td>\n",
       "      <td>0.945227</td>\n",
       "      <td>27.710843</td>\n",
       "      <td>8.0</td>\n",
       "      <td>9.0</td>\n",
       "      <td>23.5</td>\n",
       "      <td>91.89</td>\n",
       "      <td>55.595550</td>\n",
       "      <td>0.509</td>\n",
       "    </tr>\n",
       "    <tr>\n",
       "      <th>1</th>\n",
       "      <td>Angola</td>\n",
       "      <td>AGO</td>\n",
       "      <td>35.161</td>\n",
       "      <td>103.419998</td>\n",
       "      <td>45.237371</td>\n",
       "      <td>3.930376</td>\n",
       "      <td>32066.0</td>\n",
       "      <td>1.9</td>\n",
       "      <td>241.0</td>\n",
       "      <td>80.6</td>\n",
       "      <td>...</td>\n",
       "      <td>44.686107</td>\n",
       "      <td>10.799292</td>\n",
       "      <td>2.507985</td>\n",
       "      <td>30.454545</td>\n",
       "      <td>36.0</td>\n",
       "      <td>36.0</td>\n",
       "      <td>23.5</td>\n",
       "      <td>55.50</td>\n",
       "      <td>23.916555</td>\n",
       "      <td>0.582</td>\n",
       "    </tr>\n",
       "    <tr>\n",
       "      <th>2</th>\n",
       "      <td>Albania</td>\n",
       "      <td>ALB</td>\n",
       "      <td>40.617</td>\n",
       "      <td>103.980003</td>\n",
       "      <td>42.670839</td>\n",
       "      <td>22.149635</td>\n",
       "      <td>-69998.0</td>\n",
       "      <td>0.1</td>\n",
       "      <td>15.0</td>\n",
       "      <td>9.4</td>\n",
       "      <td>...</td>\n",
       "      <td>125.710352</td>\n",
       "      <td>443.020376</td>\n",
       "      <td>1.108696</td>\n",
       "      <td>27.857143</td>\n",
       "      <td>5.0</td>\n",
       "      <td>5.0</td>\n",
       "      <td>16.0</td>\n",
       "      <td>149.54</td>\n",
       "      <td>104.870693</td>\n",
       "      <td>0.792</td>\n",
       "    </tr>\n",
       "    <tr>\n",
       "      <th>3</th>\n",
       "      <td>Andorra</td>\n",
       "      <td>AND</td>\n",
       "      <td>11.850</td>\n",
       "      <td>102.830002</td>\n",
       "      <td>40.042553</td>\n",
       "      <td>1.744681</td>\n",
       "      <td>-4999.0</td>\n",
       "      <td>0.4</td>\n",
       "      <td>13.5</td>\n",
       "      <td>3.0</td>\n",
       "      <td>...</td>\n",
       "      <td>104.332411</td>\n",
       "      <td>3415.717495</td>\n",
       "      <td>1.430273</td>\n",
       "      <td>32.142857</td>\n",
       "      <td>13.0</td>\n",
       "      <td>13.0</td>\n",
       "      <td>23.5</td>\n",
       "      <td>2.01</td>\n",
       "      <td>163.823404</td>\n",
       "      <td>0.867</td>\n",
       "    </tr>\n",
       "    <tr>\n",
       "      <th>4</th>\n",
       "      <td>United Arab Emirates</td>\n",
       "      <td>ARE</td>\n",
       "      <td>13.752</td>\n",
       "      <td>104.180000</td>\n",
       "      <td>5.404112</td>\n",
       "      <td>0.626584</td>\n",
       "      <td>200000.0</td>\n",
       "      <td>0.1</td>\n",
       "      <td>3.0</td>\n",
       "      <td>7.2</td>\n",
       "      <td>...</td>\n",
       "      <td>208.978600</td>\n",
       "      <td>1285.099111</td>\n",
       "      <td>1.430273</td>\n",
       "      <td>22.500000</td>\n",
       "      <td>8.0</td>\n",
       "      <td>9.0</td>\n",
       "      <td>63.0</td>\n",
       "      <td>2899.67</td>\n",
       "      <td>133.584990</td>\n",
       "      <td>0.889</td>\n",
       "    </tr>\n",
       "  </tbody>\n",
       "</table>\n",
       "<p>5 rows × 33 columns</p>\n",
       "</div>"
      ],
      "text/plain": [
       "           Country Name Country Code  rural_pop_percent_17  \\\n",
       "0           Afghanistan          AFG                74.750   \n",
       "1                Angola          AGO                35.161   \n",
       "2               Albania          ALB                40.617   \n",
       "3               Andorra          AND                11.850   \n",
       "4  United Arab Emirates          ARE                13.752   \n",
       "\n",
       "   food_production_index_17  ag_land_area_17  arable_land_percent_2017  \\\n",
       "0                 99.169998        58.067580                 11.792727   \n",
       "1                103.419998        45.237371                  3.930376   \n",
       "2                103.980003        42.670839                 22.149635   \n",
       "3                102.830002        40.042553                  1.744681   \n",
       "4                104.180000         5.404112                  0.626584   \n",
       "\n",
       "   net_migration_2017  hiv_prevalence_2017  mat_mortality_ratio_2017  \\\n",
       "0           -314602.0                  0.1                     638.0   \n",
       "1             32066.0                  1.9                     241.0   \n",
       "2            -69998.0                  0.1                      15.0   \n",
       "3             -4999.0                  0.4                      13.5   \n",
       "4            200000.0                  0.1                       3.0   \n",
       "\n",
       "   under5_mortality_ratio_2017  ...  cell_subscriptions_per100  \\\n",
       "0                         64.8  ...                  65.929134   \n",
       "1                         80.6  ...                  44.686107   \n",
       "2                          9.4  ...                 125.710352   \n",
       "3                          3.0  ...                 104.332411   \n",
       "4                          7.2  ...                 208.978600   \n",
       "\n",
       "   internet_per_mil_2017  military_exp_2017  women_seats_percent_2017  \\\n",
       "0              43.448181           0.945227                 27.710843   \n",
       "1              10.799292           2.507985                 30.454545   \n",
       "2             443.020376           1.108696                 27.857143   \n",
       "3            3415.717495           1.430273                 32.142857   \n",
       "4            1285.099111           1.430273                 22.500000   \n",
       "\n",
       "   male_bus_start_2017  female_bus_start_2017  patent_apps_2017  \\\n",
       "0                  8.0                    9.0              23.5   \n",
       "1                 36.0                   36.0              23.5   \n",
       "2                  5.0                    5.0              16.0   \n",
       "3                 13.0                   13.0              23.5   \n",
       "4                  8.0                    9.0              63.0   \n",
       "\n",
       "   sci_articles_2017  pop_density_2017    HDI  \n",
       "0              91.89         55.595550  0.509  \n",
       "1              55.50         23.916555  0.582  \n",
       "2             149.54        104.870693  0.792  \n",
       "3               2.01        163.823404  0.867  \n",
       "4            2899.67        133.584990  0.889  \n",
       "\n",
       "[5 rows x 33 columns]"
      ]
     },
     "execution_count": 550,
     "metadata": {},
     "output_type": "execute_result"
    }
   ],
   "source": [
    "df = pd.read_csv('../datasets/cleaned_data.csv')\n",
    "df.head()"
   ]
  },
  {
   "cell_type": "code",
   "execution_count": 551,
   "id": "fb235085-dd6d-4d4e-a846-d4d2100208e9",
   "metadata": {},
   "outputs": [
    {
     "data": {
      "image/png": "[encoded data removed]",
      "text/plain": [
       "<Figure size 720x720 with 2 Axes>"
      ]
     },
     "metadata": {
      "needs_background": "light"
     },
     "output_type": "display_data"
    }
   ],
   "source": [
    "# distill features down\n",
    "# comparing correlations of all numerical features to target \n",
    "plt.figure(figsize=(10,10))\n",
    "sns.heatmap(df.corr()[['HDI']].sort_values(by = 'HDI', ascending=False), \n",
    "            annot=True,\n",
    "            vmin = -1,\n",
    "            vmax = 1,\n",
    "            cmap = 'coolwarm'); "
   ]
  },
  {
   "cell_type": "code",
   "execution_count": 552,
   "id": "e14f5b83-620f-47c2-b4bc-289d56a3b41c",
   "metadata": {},
   "outputs": [],
   "source": [
    "X = df.drop(columns=['Country Name', 'Country Code', 'HDI'])\n",
    "y = df['HDI']\n",
    "\n",
    "X_train, X_test, y_train, y_test = train_test_split(X, y, \n",
    "                                                    random_state= 42,\n",
    "                                                   test_size = 0.4) # bigger test size to better evaluate model performance"
   ]
  },
  {
   "cell_type": "code",
   "execution_count": 553,
   "id": "5ae41b87-3e3a-45ac-99fc-fa213d1fd443",
   "metadata": {},
   "outputs": [
    {
     "data": {
      "text/plain": [
       "(112, 30)"
      ]
     },
     "execution_count": 553,
     "metadata": {},
     "output_type": "execute_result"
    }
   ],
   "source": [
    "X_train.shape"
   ]
  },
  {
   "cell_type": "code",
   "execution_count": 554,
   "id": "f09b36bb-1ca3-4d8d-90a6-c50af770c8de",
   "metadata": {},
   "outputs": [
    {
     "data": {
      "text/plain": [
       "(75, 30)"
      ]
     },
     "execution_count": 554,
     "metadata": {},
     "output_type": "execute_result"
    }
   ],
   "source": [
    "X_test.shape"
   ]
  },
  {
   "cell_type": "code",
   "execution_count": 555,
   "id": "fde37186-7c3e-4a38-a16a-cd99f7e8c3a4",
   "metadata": {},
   "outputs": [],
   "source": [
    "# Scale Features\n",
    "ss = StandardScaler()\n",
    "\n",
    "X_train_ss = ss.fit_transform(X_train) \n",
    "X_test_ss = ss.transform(X_test)"
   ]
  },
  {
   "cell_type": "markdown",
   "id": "58b55616-cef7-4e65-85b7-d536582e460d",
   "metadata": {},
   "source": [
    "------\n",
    "#### Regularization to try to reduce overfitting of linear regression\n"
   ]
  },
  {
   "cell_type": "code",
   "execution_count": 556,
   "id": "f8c864ed-e30e-41c1-89fe-d7e2d2512867",
   "metadata": {},
   "outputs": [
    {
     "data": {
      "text/plain": [
       "RidgeCV(alphas=array([1.00000000e+00, 1.12332403e+00, 1.26185688e+00, 1.41747416e+00,\n",
       "       1.59228279e+00, 1.78864953e+00, 2.00923300e+00, 2.25701972e+00,\n",
       "       2.53536449e+00, 2.84803587e+00, 3.19926714e+00, 3.59381366e+00,\n",
       "       4.03701726e+00, 4.53487851e+00, 5.09413801e+00, 5.72236766e+00,\n",
       "       6.42807312e+00, 7.22080902e+00, 8.11130831e+00, 9.11162756e+00,\n",
       "       1.02353102e+01, 1.14975700e+0...\n",
       "       6.89261210e+03, 7.74263683e+03, 8.69749003e+03, 9.77009957e+03,\n",
       "       1.09749877e+04, 1.23284674e+04, 1.38488637e+04, 1.55567614e+04,\n",
       "       1.74752840e+04, 1.96304065e+04, 2.20513074e+04, 2.47707636e+04,\n",
       "       2.78255940e+04, 3.12571585e+04, 3.51119173e+04, 3.94420606e+04,\n",
       "       4.43062146e+04, 4.97702356e+04, 5.59081018e+04, 6.28029144e+04,\n",
       "       7.05480231e+04, 7.92482898e+04, 8.90215085e+04, 1.00000000e+05]),\n",
       "        cv=5)"
      ]
     },
     "execution_count": 556,
     "metadata": {},
     "output_type": "execute_result"
    }
   ],
   "source": [
    "# Set up a list of ridge alphas to check.\n",
    "# np.logspace generates 100 values equally between 0 and 5,\n",
    "# then converts them to alphas between 10^0 and 10^5.\n",
    "alphas = np.logspace(0, 5, 100)\n",
    "\n",
    "# Cross-validate over our list of ridge alphas.\n",
    "ridge_cv = RidgeCV(alphas = alphas, cv = 5)\n",
    "\n",
    "# Fit model using best ridge alpha!\n",
    "ridge_cv.fit(X_train_ss, y_train)"
   ]
  },
  {
   "cell_type": "code",
   "execution_count": 557,
   "id": "5ad36eaa-4bce-4c08-aadf-9d5ed40cef1d",
   "metadata": {},
   "outputs": [
    {
     "data": {
      "text/plain": [
       "0.8848043883725121"
      ]
     },
     "execution_count": 557,
     "metadata": {},
     "output_type": "execute_result"
    }
   ],
   "source": [
    "ridge_cv.best_score_"
   ]
  },
  {
   "cell_type": "code",
   "execution_count": 558,
   "id": "ce37ebb5-0b6a-4a11-bc8f-58beb052506a",
   "metadata": {},
   "outputs": [
    {
     "name": "stdout",
     "output_type": "stream",
     "text": [
      "0.9286164947416222\n",
      "0.9241084228384852\n"
     ]
    }
   ],
   "source": [
    "print(ridge_cv.score(X_train_ss, y_train))\n",
    "print(ridge_cv.score(X_test_ss, y_test))"
   ]
  },
  {
   "cell_type": "code",
   "execution_count": 559,
   "id": "679678a5-03bd-44c7-bdea-a316c6587070",
   "metadata": {},
   "outputs": [
    {
     "data": {
      "text/plain": [
       "0.022715749606794584"
      ]
     },
     "execution_count": 559,
     "metadata": {},
     "output_type": "execute_result"
    }
   ],
   "source": [
    "# Create the predictions for the \"null model\"\n",
    "y_bar = np.mean(y)\n",
    "\n",
    "# The null MSE\n",
    "null_mse = np.mean((y - y_bar) ** 2)\n",
    "\n",
    "null_mse"
   ]
  },
  {
   "cell_type": "code",
   "execution_count": 560,
   "id": "ffeb1a97-d83c-415f-a8b9-39022e85a040",
   "metadata": {},
   "outputs": [
    {
     "data": {
      "text/plain": [
       "LassoCV(alphas=array([0.001     , 0.00107227, 0.00114976, 0.00123285, 0.00132194,\n",
       "       0.00141747, 0.00151991, 0.00162975, 0.00174753, 0.00187382,\n",
       "       0.00200923, 0.00215443, 0.00231013, 0.00247708, 0.00265609,\n",
       "       0.00284804, 0.00305386, 0.00327455, 0.00351119, 0.00376494,\n",
       "       0.00403702, 0.00432876, 0.00464159, 0.00497702, 0.0053367 ,\n",
       "       0.00572237, 0.00613591, 0.00657933, 0.0070548 , 0.00756463,\n",
       "       0.008...\n",
       "       0.09326033, 0.1       , 0.10722672, 0.1149757 , 0.12328467,\n",
       "       0.13219411, 0.14174742, 0.15199111, 0.16297508, 0.17475284,\n",
       "       0.18738174, 0.2009233 , 0.21544347, 0.23101297, 0.24770764,\n",
       "       0.26560878, 0.28480359, 0.30538555, 0.32745492, 0.35111917,\n",
       "       0.37649358, 0.40370173, 0.43287613, 0.46415888, 0.49770236,\n",
       "       0.53366992, 0.57223677, 0.61359073, 0.65793322, 0.70548023,\n",
       "       0.75646333, 0.81113083, 0.869749  , 0.93260335, 1.        ]))"
      ]
     },
     "execution_count": 560,
     "metadata": {},
     "output_type": "execute_result"
    }
   ],
   "source": [
    "# Lasso\n",
    "\n",
    "# Set up a list of Lasso alphas to check.\n",
    "l_alphas = np.logspace(-3,0,100)\n",
    "# Cross-validate over our list of Lasso alphas.\n",
    "lasso_cv = LassoCV(alphas = l_alphas)\n",
    "# Fit model using best ridge alpha!\n",
    "lasso_cv.fit(X_train_ss, y_train)"
   ]
  },
  {
   "cell_type": "code",
   "execution_count": 561,
   "id": "c0d58721-5985-457b-9ab7-5c7e0d963c11",
   "metadata": {},
   "outputs": [
    {
     "name": "stdout",
     "output_type": "stream",
     "text": [
      "0.915173004599493\n",
      "0.9009089431961416\n"
     ]
    }
   ],
   "source": [
    "print(lasso_cv.score(X_train_ss, y_train))\n",
    "print(lasso_cv.score(X_test_ss, y_test))"
   ]
  },
  {
   "cell_type": "code",
   "execution_count": 562,
   "id": "f89c0eaf-d97d-4d1f-9419-9062f2e3ab61",
   "metadata": {},
   "outputs": [
    {
     "data": {
      "text/plain": [
       "rural_pop_percent_17          -0.020856\n",
       "food_production_index_17      -0.001678\n",
       "ag_land_area_17               -0.000000\n",
       "arable_land_percent_2017      -0.000000\n",
       "net_migration_2017             0.000000\n",
       "hiv_prevalence_2017            0.000000\n",
       "mat_mortality_ratio_2017      -0.011057\n",
       "under5_mortality_ratio_2017   -0.044806\n",
       "tubercul_incidence_2017       -0.000000\n",
       "elec_access_2017              -0.000000\n",
       "ren_energy_percent_2017       -0.000000\n",
       "co2_emissions_2017             0.015311\n",
       "pop_air_pollution_2017        -0.012698\n",
       "foreign_dir_inv_2017           0.001600\n",
       "atm_access_2017                0.012757\n",
       "adol_fertility_rate_2017      -0.000099\n",
       "fem_labor_part_rate_2017       0.000000\n",
       "male_labor_part_rate_2017     -0.000000\n",
       "fertility_rate_2017           -0.030817\n",
       "dpt_immuniz_rate_2017          0.000000\n",
       "undernourished_rate_2017      -0.008597\n",
       "cell_subscriptions_per100      0.008196\n",
       "internet_per_mil_2017          0.006501\n",
       "military_exp_2017              0.000000\n",
       "women_seats_percent_2017       0.000000\n",
       "male_bus_start_2017           -0.000000\n",
       "female_bus_start_2017         -0.004293\n",
       "patent_apps_2017              -0.000000\n",
       "sci_articles_2017              0.000000\n",
       "pop_density_2017               0.000000\n",
       "dtype: float64"
      ]
     },
     "execution_count": 562,
     "metadata": {},
     "output_type": "execute_result"
    }
   ],
   "source": [
    "# distilling features using Lasso\n",
    "lasso_coefs = lasso_cv.coef_\n",
    "lasso_coefs = pd.Series(lasso_coefs, (X.columns))\n",
    "lasso_coefs"
   ]
  },
  {
   "cell_type": "code",
   "execution_count": 563,
   "id": "263d79a7-c1d2-428e-aea8-619f04628c2c",
   "metadata": {},
   "outputs": [
    {
     "data": {
      "text/plain": [
       "co2_emissions_2017             0.015311\n",
       "atm_access_2017                0.012757\n",
       "cell_subscriptions_per100      0.008196\n",
       "internet_per_mil_2017          0.006501\n",
       "foreign_dir_inv_2017           0.001600\n",
       "adol_fertility_rate_2017      -0.000099\n",
       "food_production_index_17      -0.001678\n",
       "female_bus_start_2017         -0.004293\n",
       "undernourished_rate_2017      -0.008597\n",
       "mat_mortality_ratio_2017      -0.011057\n",
       "pop_air_pollution_2017        -0.012698\n",
       "rural_pop_percent_17          -0.020856\n",
       "fertility_rate_2017           -0.030817\n",
       "under5_mortality_ratio_2017   -0.044806\n",
       "dtype: float64"
      ]
     },
     "execution_count": 563,
     "metadata": {},
     "output_type": "execute_result"
    }
   ],
   "source": [
    "# picking out coefficients that are not zeroed out\n",
    "lasso_coefs[lasso_coefs != 0].sort_values(ascending=False)"
   ]
  },
  {
   "cell_type": "code",
   "execution_count": 564,
   "id": "eec98f6f-8d74-4ef0-80a8-6e107252753b",
   "metadata": {},
   "outputs": [
    {
     "data": {
      "image/png": "[encoded data removed]",
      "text/plain": [
       "<Figure size 432x288 with 1 Axes>"
      ]
     },
     "metadata": {
      "needs_background": "light"
     },
     "output_type": "display_data"
    }
   ],
   "source": [
    "lasso_coefs[lasso_coefs != 0].sort_values(ascending=False).plot.barh();"
   ]
  },
  {
   "cell_type": "code",
   "execution_count": 565,
   "id": "b73c53c1-531d-4140-94da-5fafe16d6b52",
   "metadata": {},
   "outputs": [],
   "source": [
    "# running linear regression with select features from lasso\n",
    "features = ['co2_emissions_2017','atm_access_2017', 'cell_subscriptions_per100', 'internet_per_mil_2017','foreign_dir_inv_2017','adol_fertility_rate_2017',\n",
    "            'food_production_index_17', 'female_bus_start_2017', 'undernourished_rate_2017', 'mat_mortality_ratio_2017', 'pop_air_pollution_2017', \n",
    "            'rural_pop_percent_17', 'fertility_rate_2017','under5_mortality_ratio_2017']\n",
    "            \n",
    "X = df[features]\n",
    "y = df['HDI']"
   ]
  },
  {
   "cell_type": "code",
   "execution_count": 566,
   "id": "e372cac4-ebc1-4f34-939c-687533083c11",
   "metadata": {},
   "outputs": [],
   "source": [
    "lr = LinearRegression()\n",
    "\n",
    "X_train, X_test, y_train, y_test = train_test_split(X, y, random_state=43, test_size=0.2)"
   ]
  },
  {
   "cell_type": "code",
   "execution_count": 567,
   "id": "9b0520d5-8ee2-4549-96b1-915354629b9c",
   "metadata": {},
   "outputs": [
    {
     "data": {
      "text/plain": [
       "LinearRegression()"
      ]
     },
     "execution_count": 567,
     "metadata": {},
     "output_type": "execute_result"
    }
   ],
   "source": [
    "lr.fit(X_train, y_train)"
   ]
  },
  {
   "cell_type": "code",
   "execution_count": 568,
   "id": "3f293526-a856-47ad-a78d-777aa9128e1e",
   "metadata": {},
   "outputs": [
    {
     "data": {
      "text/plain": [
       "0.9203660211748284"
      ]
     },
     "execution_count": 568,
     "metadata": {},
     "output_type": "execute_result"
    }
   ],
   "source": [
    "lr.score(X_train, y_train)"
   ]
  },
  {
   "cell_type": "code",
   "execution_count": 569,
   "id": "152b4f8a-aa33-41dc-8aa2-5766d90150de",
   "metadata": {},
   "outputs": [
    {
     "data": {
      "text/plain": [
       "0.9455358370763265"
      ]
     },
     "execution_count": 569,
     "metadata": {},
     "output_type": "execute_result"
    }
   ],
   "source": [
    "lr.score(X_test, y_test)"
   ]
  },
  {
   "cell_type": "code",
   "execution_count": 570,
   "id": "faacfceb-120c-4ad0-b95a-c7aab0da6c00",
   "metadata": {},
   "outputs": [
    {
     "data": {
      "text/plain": [
       "0.022715749606794584"
      ]
     },
     "execution_count": 570,
     "metadata": {},
     "output_type": "execute_result"
    }
   ],
   "source": [
    "# Create the predictions for the \"null model\"\n",
    "y_bar = np.mean(y)\n",
    "\n",
    "# The null MSE\n",
    "null_mse = np.mean((y - y_bar) ** 2)\n",
    "\n",
    "null_mse"
   ]
  },
  {
   "cell_type": "code",
   "execution_count": 571,
   "id": "c27e06c4-b50b-4c4f-9e4f-bbdf8da9edd1",
   "metadata": {},
   "outputs": [
    {
     "data": {
      "text/plain": [
       "0.0013674051853593667"
      ]
     },
     "execution_count": 571,
     "metadata": {},
     "output_type": "execute_result"
    }
   ],
   "source": [
    "y_preds = lr.predict(X_test)\n",
    "metrics.mean_squared_error(y_test, y_preds)"
   ]
  },
  {
   "cell_type": "markdown",
   "id": "385fa6b1-c158-4b9a-a1ec-e039b1ae2f85",
   "metadata": {},
   "source": [
    "The model produces a lower MSE than the baseline. "
   ]
  },
  {
   "cell_type": "markdown",
   "id": "04c7a751-78d3-472f-9755-2bb30f35f393",
   "metadata": {
    "tags": []
   },
   "source": [
    "------\n",
    "\n",
    "## Random Forest Regressor"
   ]
  },
  {
   "cell_type": "code",
   "execution_count": 572,
   "id": "3906125c-e8bd-4532-b99a-e496283d86af",
   "metadata": {},
   "outputs": [],
   "source": [
    "# features = ['co2_emissions_2017','atm_access_2017', 'cell_subscriptions_per100', 'internet_per_mil_2017','foreign_dir_inv_2017','adol_fertility_rate_2017',\n",
    "#             'food_production_index_17', 'female_bus_start_2017', 'undernourished_rate_2017', 'mat_mortality_ratio_2017', 'pop_air_pollution_2017', \n",
    "#             'rural_pop_percent_17', 'fertility_rate_2017','under5_mortality_ratio_2017']\n",
    "# X = df[features]            \n",
    "X = df.drop(columns=['Country Name', 'Country Code', 'HDI'])\n",
    "y = df['HDI']\n",
    "\n",
    "X_train, X_test, y_train, y_test = train_test_split(X, y, \n",
    "                                                    random_state= 42)"
   ]
  },
  {
   "cell_type": "code",
   "execution_count": 573,
   "id": "451cab47-58d6-4ac2-ae52-cf8ed0124b3b",
   "metadata": {},
   "outputs": [],
   "source": [
    "# instantiate RF Regressor\n",
    "rf_reg = RandomForestRegressor()"
   ]
  },
  {
   "cell_type": "code",
   "execution_count": 574,
   "id": "99461785-2dd5-4b9e-821b-1a1bcebf4646",
   "metadata": {},
   "outputs": [
    {
     "name": "stdout",
     "output_type": "stream",
     "text": [
      "0.9421374282336423\n"
     ]
    }
   ],
   "source": [
    "rf_reg_params = {\n",
    "    'n_estimators': [100,150,200,250],\n",
    "    'max_depth': [None, 1,2,3,4,5,10],\n",
    "    'min_samples_leaf': [2,4,6,8,10]\n",
    "}\n",
    "\n",
    "gs=GridSearchCV(rf_reg,\n",
    "               param_grid = rf_reg_params,\n",
    "               cv=5,\n",
    "               n_jobs = -1)\n",
    "\n",
    "gs.fit(X_train, y_train)\n",
    "\n",
    "print(gs.best_score_)\n",
    "\n",
    "rf_reg = gs.best_params_"
   ]
  },
  {
   "cell_type": "code",
   "execution_count": 585,
   "id": "2626b6fe-c1ba-4312-9fb0-4677ba0b038a",
   "metadata": {},
   "outputs": [
    {
     "name": "stdout",
     "output_type": "stream",
     "text": [
      "Training R-Squared: 0.9875720006412674\n",
      "Training R-Squared: 0.9137739408392102\n"
     ]
    }
   ],
   "source": [
    "print(f'Training R-Squared: {gs.score(X_train, y_train)}')\n",
    "print(f'Training R-Squared: {gs.score(X_test, y_test)}')"
   ]
  },
  {
   "cell_type": "markdown",
   "id": "fcef780d-7a2f-4001-8433-1f9f911b27c6",
   "metadata": {},
   "source": [
    "Random Forest is overfit compared to the OLS (with select Lasso features)."
   ]
  },
  {
   "cell_type": "markdown",
   "id": "81533738-4a87-4a98-97da-fa5b2642cb8b",
   "metadata": {},
   "source": [
    "-----"
   ]
  },
  {
   "cell_type": "code",
   "execution_count": 529,
   "id": "069743ec-dcf9-426e-af97-f44e57f1125a",
   "metadata": {},
   "outputs": [],
   "source": [
    "# adding the development categorizations\n",
    "df['development'] = df['HDI'].map(lambda x: 'low' if x < 0.55 else ('medium' if  x <= 0.699 else ('high' if x <= 0.799 else ('very high'))))"
   ]
  },
  {
   "cell_type": "code",
   "execution_count": 530,
   "id": "56abef5f-a13f-4ece-ab1d-c7409e7675f9",
   "metadata": {},
   "outputs": [
    {
     "data": {
      "text/html": [
       "<div>\n",
       "<style scoped>\n",
       "    .dataframe tbody tr th:only-of-type {\n",
       "        vertical-align: middle;\n",
       "    }\n",
       "\n",
       "    .dataframe tbody tr th {\n",
       "        vertical-align: top;\n",
       "    }\n",
       "\n",
       "    .dataframe thead th {\n",
       "        text-align: right;\n",
       "    }\n",
       "</style>\n",
       "<table border=\"1\" class=\"dataframe\">\n",
       "  <thead>\n",
       "    <tr style=\"text-align: right;\">\n",
       "      <th></th>\n",
       "      <th>Country Name</th>\n",
       "      <th>Country Code</th>\n",
       "      <th>rural_pop_percent_17</th>\n",
       "      <th>food_production_index_17</th>\n",
       "      <th>ag_land_area_17</th>\n",
       "      <th>arable_land_percent_2017</th>\n",
       "      <th>net_migration_2017</th>\n",
       "      <th>hiv_prevalence_2017</th>\n",
       "      <th>mat_mortality_ratio_2017</th>\n",
       "      <th>under5_mortality_ratio_2017</th>\n",
       "      <th>...</th>\n",
       "      <th>internet_per_mil_2017</th>\n",
       "      <th>military_exp_2017</th>\n",
       "      <th>women_seats_percent_2017</th>\n",
       "      <th>male_bus_start_2017</th>\n",
       "      <th>female_bus_start_2017</th>\n",
       "      <th>patent_apps_2017</th>\n",
       "      <th>sci_articles_2017</th>\n",
       "      <th>pop_density_2017</th>\n",
       "      <th>HDI</th>\n",
       "      <th>development</th>\n",
       "    </tr>\n",
       "  </thead>\n",
       "  <tbody>\n",
       "    <tr>\n",
       "      <th>0</th>\n",
       "      <td>Afghanistan</td>\n",
       "      <td>AFG</td>\n",
       "      <td>74.750</td>\n",
       "      <td>99.169998</td>\n",
       "      <td>58.067580</td>\n",
       "      <td>11.792727</td>\n",
       "      <td>-314602.0</td>\n",
       "      <td>0.1</td>\n",
       "      <td>638.0</td>\n",
       "      <td>64.8</td>\n",
       "      <td>...</td>\n",
       "      <td>43.448181</td>\n",
       "      <td>0.945227</td>\n",
       "      <td>27.710843</td>\n",
       "      <td>8.0</td>\n",
       "      <td>9.0</td>\n",
       "      <td>23.5</td>\n",
       "      <td>91.89</td>\n",
       "      <td>55.595550</td>\n",
       "      <td>0.509</td>\n",
       "      <td>low</td>\n",
       "    </tr>\n",
       "    <tr>\n",
       "      <th>1</th>\n",
       "      <td>Angola</td>\n",
       "      <td>AGO</td>\n",
       "      <td>35.161</td>\n",
       "      <td>103.419998</td>\n",
       "      <td>45.237371</td>\n",
       "      <td>3.930376</td>\n",
       "      <td>32066.0</td>\n",
       "      <td>1.9</td>\n",
       "      <td>241.0</td>\n",
       "      <td>80.6</td>\n",
       "      <td>...</td>\n",
       "      <td>10.799292</td>\n",
       "      <td>2.507985</td>\n",
       "      <td>30.454545</td>\n",
       "      <td>36.0</td>\n",
       "      <td>36.0</td>\n",
       "      <td>23.5</td>\n",
       "      <td>55.50</td>\n",
       "      <td>23.916555</td>\n",
       "      <td>0.582</td>\n",
       "      <td>medium</td>\n",
       "    </tr>\n",
       "    <tr>\n",
       "      <th>2</th>\n",
       "      <td>Albania</td>\n",
       "      <td>ALB</td>\n",
       "      <td>40.617</td>\n",
       "      <td>103.980003</td>\n",
       "      <td>42.670839</td>\n",
       "      <td>22.149635</td>\n",
       "      <td>-69998.0</td>\n",
       "      <td>0.1</td>\n",
       "      <td>15.0</td>\n",
       "      <td>9.4</td>\n",
       "      <td>...</td>\n",
       "      <td>443.020376</td>\n",
       "      <td>1.108696</td>\n",
       "      <td>27.857143</td>\n",
       "      <td>5.0</td>\n",
       "      <td>5.0</td>\n",
       "      <td>16.0</td>\n",
       "      <td>149.54</td>\n",
       "      <td>104.870693</td>\n",
       "      <td>0.792</td>\n",
       "      <td>high</td>\n",
       "    </tr>\n",
       "    <tr>\n",
       "      <th>3</th>\n",
       "      <td>Andorra</td>\n",
       "      <td>AND</td>\n",
       "      <td>11.850</td>\n",
       "      <td>102.830002</td>\n",
       "      <td>40.042553</td>\n",
       "      <td>1.744681</td>\n",
       "      <td>-4999.0</td>\n",
       "      <td>0.4</td>\n",
       "      <td>13.5</td>\n",
       "      <td>3.0</td>\n",
       "      <td>...</td>\n",
       "      <td>3415.717495</td>\n",
       "      <td>1.430273</td>\n",
       "      <td>32.142857</td>\n",
       "      <td>13.0</td>\n",
       "      <td>13.0</td>\n",
       "      <td>23.5</td>\n",
       "      <td>2.01</td>\n",
       "      <td>163.823404</td>\n",
       "      <td>0.867</td>\n",
       "      <td>very high</td>\n",
       "    </tr>\n",
       "    <tr>\n",
       "      <th>4</th>\n",
       "      <td>United Arab Emirates</td>\n",
       "      <td>ARE</td>\n",
       "      <td>13.752</td>\n",
       "      <td>104.180000</td>\n",
       "      <td>5.404112</td>\n",
       "      <td>0.626584</td>\n",
       "      <td>200000.0</td>\n",
       "      <td>0.1</td>\n",
       "      <td>3.0</td>\n",
       "      <td>7.2</td>\n",
       "      <td>...</td>\n",
       "      <td>1285.099111</td>\n",
       "      <td>1.430273</td>\n",
       "      <td>22.500000</td>\n",
       "      <td>8.0</td>\n",
       "      <td>9.0</td>\n",
       "      <td>63.0</td>\n",
       "      <td>2899.67</td>\n",
       "      <td>133.584990</td>\n",
       "      <td>0.889</td>\n",
       "      <td>very high</td>\n",
       "    </tr>\n",
       "  </tbody>\n",
       "</table>\n",
       "<p>5 rows × 34 columns</p>\n",
       "</div>"
      ],
      "text/plain": [
       "           Country Name Country Code  rural_pop_percent_17  \\\n",
       "0           Afghanistan          AFG                74.750   \n",
       "1                Angola          AGO                35.161   \n",
       "2               Albania          ALB                40.617   \n",
       "3               Andorra          AND                11.850   \n",
       "4  United Arab Emirates          ARE                13.752   \n",
       "\n",
       "   food_production_index_17  ag_land_area_17  arable_land_percent_2017  \\\n",
       "0                 99.169998        58.067580                 11.792727   \n",
       "1                103.419998        45.237371                  3.930376   \n",
       "2                103.980003        42.670839                 22.149635   \n",
       "3                102.830002        40.042553                  1.744681   \n",
       "4                104.180000         5.404112                  0.626584   \n",
       "\n",
       "   net_migration_2017  hiv_prevalence_2017  mat_mortality_ratio_2017  \\\n",
       "0           -314602.0                  0.1                     638.0   \n",
       "1             32066.0                  1.9                     241.0   \n",
       "2            -69998.0                  0.1                      15.0   \n",
       "3             -4999.0                  0.4                      13.5   \n",
       "4            200000.0                  0.1                       3.0   \n",
       "\n",
       "   under5_mortality_ratio_2017  ...  internet_per_mil_2017  military_exp_2017  \\\n",
       "0                         64.8  ...              43.448181           0.945227   \n",
       "1                         80.6  ...              10.799292           2.507985   \n",
       "2                          9.4  ...             443.020376           1.108696   \n",
       "3                          3.0  ...            3415.717495           1.430273   \n",
       "4                          7.2  ...            1285.099111           1.430273   \n",
       "\n",
       "   women_seats_percent_2017  male_bus_start_2017  female_bus_start_2017  \\\n",
       "0                 27.710843                  8.0                    9.0   \n",
       "1                 30.454545                 36.0                   36.0   \n",
       "2                 27.857143                  5.0                    5.0   \n",
       "3                 32.142857                 13.0                   13.0   \n",
       "4                 22.500000                  8.0                    9.0   \n",
       "\n",
       "   patent_apps_2017  sci_articles_2017  pop_density_2017    HDI  development  \n",
       "0              23.5              91.89         55.595550  0.509          low  \n",
       "1              23.5              55.50         23.916555  0.582       medium  \n",
       "2              16.0             149.54        104.870693  0.792         high  \n",
       "3              23.5               2.01        163.823404  0.867    very high  \n",
       "4              63.0            2899.67        133.584990  0.889    very high  \n",
       "\n",
       "[5 rows x 34 columns]"
      ]
     },
     "execution_count": 530,
     "metadata": {},
     "output_type": "execute_result"
    }
   ],
   "source": [
    "df.head()"
   ]
  },
  {
   "cell_type": "code",
   "execution_count": 531,
   "id": "28177f48-968a-492f-b79d-d036f9e9fcd3",
   "metadata": {},
   "outputs": [],
   "source": [
    "# Adding a range for each of the development categorizations for modeling\n",
    "df['dev_tier'] = df['development'].map({'low': 0, 'medium': 1, 'high': 2, 'very high': 3})"
   ]
  },
  {
   "cell_type": "code",
   "execution_count": 532,
   "id": "f6634b6a-aafa-499b-9ca8-c4abc9945a25",
   "metadata": {},
   "outputs": [
    {
     "data": {
      "text/html": [
       "<div>\n",
       "<style scoped>\n",
       "    .dataframe tbody tr th:only-of-type {\n",
       "        vertical-align: middle;\n",
       "    }\n",
       "\n",
       "    .dataframe tbody tr th {\n",
       "        vertical-align: top;\n",
       "    }\n",
       "\n",
       "    .dataframe thead th {\n",
       "        text-align: right;\n",
       "    }\n",
       "</style>\n",
       "<table border=\"1\" class=\"dataframe\">\n",
       "  <thead>\n",
       "    <tr style=\"text-align: right;\">\n",
       "      <th></th>\n",
       "      <th>Country Name</th>\n",
       "      <th>Country Code</th>\n",
       "      <th>rural_pop_percent_17</th>\n",
       "      <th>food_production_index_17</th>\n",
       "      <th>ag_land_area_17</th>\n",
       "      <th>arable_land_percent_2017</th>\n",
       "      <th>net_migration_2017</th>\n",
       "      <th>hiv_prevalence_2017</th>\n",
       "      <th>mat_mortality_ratio_2017</th>\n",
       "      <th>under5_mortality_ratio_2017</th>\n",
       "      <th>...</th>\n",
       "      <th>military_exp_2017</th>\n",
       "      <th>women_seats_percent_2017</th>\n",
       "      <th>male_bus_start_2017</th>\n",
       "      <th>female_bus_start_2017</th>\n",
       "      <th>patent_apps_2017</th>\n",
       "      <th>sci_articles_2017</th>\n",
       "      <th>pop_density_2017</th>\n",
       "      <th>HDI</th>\n",
       "      <th>development</th>\n",
       "      <th>dev_tier</th>\n",
       "    </tr>\n",
       "  </thead>\n",
       "  <tbody>\n",
       "    <tr>\n",
       "      <th>0</th>\n",
       "      <td>Afghanistan</td>\n",
       "      <td>AFG</td>\n",
       "      <td>74.750</td>\n",
       "      <td>99.169998</td>\n",
       "      <td>58.067580</td>\n",
       "      <td>11.792727</td>\n",
       "      <td>-314602.0</td>\n",
       "      <td>0.1</td>\n",
       "      <td>638.0</td>\n",
       "      <td>64.8</td>\n",
       "      <td>...</td>\n",
       "      <td>0.945227</td>\n",
       "      <td>27.710843</td>\n",
       "      <td>8.0</td>\n",
       "      <td>9.0</td>\n",
       "      <td>23.5</td>\n",
       "      <td>91.89</td>\n",
       "      <td>55.595550</td>\n",
       "      <td>0.509</td>\n",
       "      <td>low</td>\n",
       "      <td>0</td>\n",
       "    </tr>\n",
       "    <tr>\n",
       "      <th>1</th>\n",
       "      <td>Angola</td>\n",
       "      <td>AGO</td>\n",
       "      <td>35.161</td>\n",
       "      <td>103.419998</td>\n",
       "      <td>45.237371</td>\n",
       "      <td>3.930376</td>\n",
       "      <td>32066.0</td>\n",
       "      <td>1.9</td>\n",
       "      <td>241.0</td>\n",
       "      <td>80.6</td>\n",
       "      <td>...</td>\n",
       "      <td>2.507985</td>\n",
       "      <td>30.454545</td>\n",
       "      <td>36.0</td>\n",
       "      <td>36.0</td>\n",
       "      <td>23.5</td>\n",
       "      <td>55.50</td>\n",
       "      <td>23.916555</td>\n",
       "      <td>0.582</td>\n",
       "      <td>medium</td>\n",
       "      <td>1</td>\n",
       "    </tr>\n",
       "    <tr>\n",
       "      <th>2</th>\n",
       "      <td>Albania</td>\n",
       "      <td>ALB</td>\n",
       "      <td>40.617</td>\n",
       "      <td>103.980003</td>\n",
       "      <td>42.670839</td>\n",
       "      <td>22.149635</td>\n",
       "      <td>-69998.0</td>\n",
       "      <td>0.1</td>\n",
       "      <td>15.0</td>\n",
       "      <td>9.4</td>\n",
       "      <td>...</td>\n",
       "      <td>1.108696</td>\n",
       "      <td>27.857143</td>\n",
       "      <td>5.0</td>\n",
       "      <td>5.0</td>\n",
       "      <td>16.0</td>\n",
       "      <td>149.54</td>\n",
       "      <td>104.870693</td>\n",
       "      <td>0.792</td>\n",
       "      <td>high</td>\n",
       "      <td>2</td>\n",
       "    </tr>\n",
       "    <tr>\n",
       "      <th>3</th>\n",
       "      <td>Andorra</td>\n",
       "      <td>AND</td>\n",
       "      <td>11.850</td>\n",
       "      <td>102.830002</td>\n",
       "      <td>40.042553</td>\n",
       "      <td>1.744681</td>\n",
       "      <td>-4999.0</td>\n",
       "      <td>0.4</td>\n",
       "      <td>13.5</td>\n",
       "      <td>3.0</td>\n",
       "      <td>...</td>\n",
       "      <td>1.430273</td>\n",
       "      <td>32.142857</td>\n",
       "      <td>13.0</td>\n",
       "      <td>13.0</td>\n",
       "      <td>23.5</td>\n",
       "      <td>2.01</td>\n",
       "      <td>163.823404</td>\n",
       "      <td>0.867</td>\n",
       "      <td>very high</td>\n",
       "      <td>3</td>\n",
       "    </tr>\n",
       "    <tr>\n",
       "      <th>4</th>\n",
       "      <td>United Arab Emirates</td>\n",
       "      <td>ARE</td>\n",
       "      <td>13.752</td>\n",
       "      <td>104.180000</td>\n",
       "      <td>5.404112</td>\n",
       "      <td>0.626584</td>\n",
       "      <td>200000.0</td>\n",
       "      <td>0.1</td>\n",
       "      <td>3.0</td>\n",
       "      <td>7.2</td>\n",
       "      <td>...</td>\n",
       "      <td>1.430273</td>\n",
       "      <td>22.500000</td>\n",
       "      <td>8.0</td>\n",
       "      <td>9.0</td>\n",
       "      <td>63.0</td>\n",
       "      <td>2899.67</td>\n",
       "      <td>133.584990</td>\n",
       "      <td>0.889</td>\n",
       "      <td>very high</td>\n",
       "      <td>3</td>\n",
       "    </tr>\n",
       "  </tbody>\n",
       "</table>\n",
       "<p>5 rows × 35 columns</p>\n",
       "</div>"
      ],
      "text/plain": [
       "           Country Name Country Code  rural_pop_percent_17  \\\n",
       "0           Afghanistan          AFG                74.750   \n",
       "1                Angola          AGO                35.161   \n",
       "2               Albania          ALB                40.617   \n",
       "3               Andorra          AND                11.850   \n",
       "4  United Arab Emirates          ARE                13.752   \n",
       "\n",
       "   food_production_index_17  ag_land_area_17  arable_land_percent_2017  \\\n",
       "0                 99.169998        58.067580                 11.792727   \n",
       "1                103.419998        45.237371                  3.930376   \n",
       "2                103.980003        42.670839                 22.149635   \n",
       "3                102.830002        40.042553                  1.744681   \n",
       "4                104.180000         5.404112                  0.626584   \n",
       "\n",
       "   net_migration_2017  hiv_prevalence_2017  mat_mortality_ratio_2017  \\\n",
       "0           -314602.0                  0.1                     638.0   \n",
       "1             32066.0                  1.9                     241.0   \n",
       "2            -69998.0                  0.1                      15.0   \n",
       "3             -4999.0                  0.4                      13.5   \n",
       "4            200000.0                  0.1                       3.0   \n",
       "\n",
       "   under5_mortality_ratio_2017  ...  military_exp_2017  \\\n",
       "0                         64.8  ...           0.945227   \n",
       "1                         80.6  ...           2.507985   \n",
       "2                          9.4  ...           1.108696   \n",
       "3                          3.0  ...           1.430273   \n",
       "4                          7.2  ...           1.430273   \n",
       "\n",
       "   women_seats_percent_2017  male_bus_start_2017  female_bus_start_2017  \\\n",
       "0                 27.710843                  8.0                    9.0   \n",
       "1                 30.454545                 36.0                   36.0   \n",
       "2                 27.857143                  5.0                    5.0   \n",
       "3                 32.142857                 13.0                   13.0   \n",
       "4                 22.500000                  8.0                    9.0   \n",
       "\n",
       "   patent_apps_2017  sci_articles_2017  pop_density_2017    HDI  development  \\\n",
       "0              23.5              91.89         55.595550  0.509          low   \n",
       "1              23.5              55.50         23.916555  0.582       medium   \n",
       "2              16.0             149.54        104.870693  0.792         high   \n",
       "3              23.5               2.01        163.823404  0.867    very high   \n",
       "4              63.0            2899.67        133.584990  0.889    very high   \n",
       "\n",
       "   dev_tier  \n",
       "0         0  \n",
       "1         1  \n",
       "2         2  \n",
       "3         3  \n",
       "4         3  \n",
       "\n",
       "[5 rows x 35 columns]"
      ]
     },
     "execution_count": 532,
     "metadata": {},
     "output_type": "execute_result"
    }
   ],
   "source": [
    "df.head()"
   ]
  },
  {
   "cell_type": "markdown",
   "id": "34f8629c-f30a-4e6d-b639-68d66974cd6c",
   "metadata": {},
   "source": [
    "------\n",
    "#### build classification model to predict development level "
   ]
  },
  {
   "cell_type": "markdown",
   "id": "4fa9f75d-6670-4aa3-b73f-32bf8254a5c7",
   "metadata": {},
   "source": [
    "# Log regression good for binary classification... \n",
    "# try KNN with select features from lasso\n",
    "# try MNB\n",
    "# try RF or other ensemble model"
   ]
  },
  {
   "cell_type": "code",
   "execution_count": 533,
   "id": "3e216f0a-20cc-4fab-8130-ec2633cc8af7",
   "metadata": {},
   "outputs": [],
   "source": [
    "X = df.drop(columns=['Country Name', 'Country Code', 'HDI', 'development'])\n",
    "y = df['dev_tier']\n",
    "\n",
    "X_train, X_test, y_train, y_test = train_test_split(X, y, \n",
    "                                                    random_state= 42,\n",
    "                                                   test_size = 0.4) # bigger test size to better evaluate model performance"
   ]
  },
  {
   "cell_type": "code",
   "execution_count": 534,
   "id": "4f264501-b3b6-48de-b8bc-10709b75784e",
   "metadata": {},
   "outputs": [],
   "source": [
    "# Scale Features\n",
    "ss = StandardScaler()\n",
    "\n",
    "X_train_ss = ss.fit_transform(X_train) \n",
    "X_test_ss = ss.transform(X_test)"
   ]
  },
  {
   "cell_type": "code",
   "execution_count": 535,
   "id": "b8faff66-0e0d-4720-88ba-b28a867c9701",
   "metadata": {},
   "outputs": [
    {
     "data": {
      "text/plain": [
       "3    0.352941\n",
       "2    0.272727\n",
       "1    0.192513\n",
       "0    0.181818\n",
       "Name: dev_tier, dtype: float64"
      ]
     },
     "execution_count": 535,
     "metadata": {},
     "output_type": "execute_result"
    }
   ],
   "source": [
    "# baseline classification model\n",
    "df['dev_tier'].value_counts(normalize = True)"
   ]
  },
  {
   "cell_type": "markdown",
   "id": "7135a078-3d27-4e79-834a-5bad4e7e9249",
   "metadata": {},
   "source": [
    "**Our baseline accuracy is 35.29%**"
   ]
  },
  {
   "cell_type": "code",
   "execution_count": 536,
   "id": "1a64318b-6d9f-46df-ace2-eca2ff7b45b4",
   "metadata": {},
   "outputs": [
    {
     "data": {
      "text/plain": [
       "LogisticRegression()"
      ]
     },
     "execution_count": 536,
     "metadata": {},
     "output_type": "execute_result"
    }
   ],
   "source": [
    "# Instantiate model\n",
    "log = LogisticRegression()\n",
    "\n",
    "# Fit model\n",
    "log.fit(X_train_ss, y_train)"
   ]
  },
  {
   "cell_type": "code",
   "execution_count": 537,
   "id": "b0db1dea-9745-4011-b055-db14e9eda4eb",
   "metadata": {},
   "outputs": [
    {
     "name": "stdout",
     "output_type": "stream",
     "text": [
      "Training Accuracy: 0.9821428571428571\n",
      "Test Accuracy: 0.92\n"
     ]
    }
   ],
   "source": [
    "print(f'Training Accuracy: {log.score(X_train_ss, y_train)}')\n",
    "print(f'Test Accuracy: {log.score(X_test_ss, y_test)}')"
   ]
  },
  {
   "cell_type": "code",
   "execution_count": 538,
   "id": "95b30dd4-c415-4f91-b36a-df7d86989fa4",
   "metadata": {},
   "outputs": [
    {
     "name": "stderr",
     "output_type": "stream",
     "text": [
      "/Users/petermurphy/opt/anaconda3/envs/dsi/lib/python3.9/site-packages/sklearn/utils/deprecation.py:87: FutureWarning: Function plot_confusion_matrix is deprecated; Function `plot_confusion_matrix` is deprecated in 1.0 and will be removed in 1.2. Use one of the class methods: ConfusionMatrixDisplay.from_predictions or ConfusionMatrixDisplay.from_estimator.\n",
      "  warnings.warn(msg, category=FutureWarning)\n"
     ]
    },
    {
     "data": {
      "image/png": "[encoded data removed]",
      "text/plain": [
       "<Figure size 432x288 with 2 Axes>"
      ]
     },
     "metadata": {
      "needs_background": "light"
     },
     "output_type": "display_data"
    }
   ],
   "source": [
    "# Generate predictions.\n",
    "preds = log.predict(X_test_ss)\n",
    "\n",
    "# plot the confusion matrix\n",
    "plot_confusion_matrix(log,\n",
    "                      X_test_ss,\n",
    "                      y_test,\n",
    "                     cmap = 'Blues',\n",
    "                     display_labels = ['Low Development', 'Medium Development','High Development','Very High Development'])\n",
    "\n",
    "plt.xticks(rotation = 40);\n"
   ]
  },
  {
   "cell_type": "code",
   "execution_count": 542,
   "id": "cb2a213e-0df3-4aee-9db1-045b5f9229d6",
   "metadata": {
    "tags": []
   },
   "outputs": [],
   "source": [
    "# what does model struggle with?"
   ]
  },
  {
   "cell_type": "code",
   "execution_count": 543,
   "id": "51c669ef-6752-4b40-ad0a-d58933e8dd3d",
   "metadata": {},
   "outputs": [
    {
     "data": {
      "text/plain": [
       "array([0.83333333, 0.82758621, 0.94444444, 0.98360656])"
      ]
     },
     "execution_count": 543,
     "metadata": {},
     "output_type": "execute_result"
    }
   ],
   "source": [
    "preds = log.predict(X_test_ss)\n",
    "f1_score(y_test, preds, average=None)"
   ]
  },
  {
   "cell_type": "code",
   "execution_count": 541,
   "id": "accbef47-88c7-499e-8e44-de84352f707e",
   "metadata": {},
   "outputs": [],
   "source": [
    "# other metrics to consider: f1 because we care about fn's and fp's all the same"
   ]
  },
  {
   "cell_type": "code",
   "execution_count": null,
   "id": "fd217c02-9207-4e16-a86f-923a7da057a2",
   "metadata": {},
   "outputs": [],
   "source": []
  }
 ],
 "metadata": {
  "kernelspec": {
   "display_name": "Python [conda env:dsi]",
   "language": "python",
   "name": "conda-env-dsi-py"
  },
  "language_info": {
   "codemirror_mode": {
    "name": "ipython",
    "version": 3
   },
   "file_extension": ".py",
   "mimetype": "text/x-python",
   "name": "python",
   "nbconvert_exporter": "python",
   "pygments_lexer": "ipython3",
   "version": "3.8.13"
  }
 },
 "nbformat": 4,
 "nbformat_minor": 5
}
