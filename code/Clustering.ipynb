{
 "cells": [
  {
   "cell_type": "code",
   "execution_count": 27,
   "id": "73fd9cf2-85bd-497a-8427-8b3c7a74e726",
   "metadata": {},
   "outputs": [],
   "source": [
    "from sklearn.datasets import make_blobs\n",
    "from sklearn.cluster import KMeans, DBSCAN\n",
    "from sklearn.metrics import silhouette_score\n",
    "from sklearn.preprocessing import StandardScaler\n",
    "\n",
    "import numpy as np\n",
    "import pandas as pd\n",
    "\n",
    "import seaborn as sns\n",
    "import matplotlib.pyplot as plt\n",
    "import matplotlib"
   ]
  },
  {
   "cell_type": "code",
   "execution_count": 2,
   "id": "25750df3-5499-4f3e-8782-68ed2574c905",
   "metadata": {},
   "outputs": [],
   "source": [
    "# Read in the dataset\n",
    "df = pd.read_csv('../datasets/merged_df_mon.csv')"
   ]
  },
  {
   "cell_type": "code",
   "execution_count": 3,
   "id": "cda8ed02-0404-468c-b98f-615fde72cf6e",
   "metadata": {},
   "outputs": [
    {
     "data": {
      "text/html": [
       "<div>\n",
       "<style scoped>\n",
       "    .dataframe tbody tr th:only-of-type {\n",
       "        vertical-align: middle;\n",
       "    }\n",
       "\n",
       "    .dataframe tbody tr th {\n",
       "        vertical-align: top;\n",
       "    }\n",
       "\n",
       "    .dataframe thead th {\n",
       "        text-align: right;\n",
       "    }\n",
       "</style>\n",
       "<table border=\"1\" class=\"dataframe\">\n",
       "  <thead>\n",
       "    <tr style=\"text-align: right;\">\n",
       "      <th></th>\n",
       "      <th>Country Name</th>\n",
       "      <th>Country Code</th>\n",
       "      <th>rural_pop_percent_17</th>\n",
       "      <th>food_production_index_17</th>\n",
       "      <th>ag_land_area_17</th>\n",
       "      <th>arable_land_percent_2017</th>\n",
       "      <th>net_migration_2017</th>\n",
       "      <th>hiv_prevalence_2017</th>\n",
       "      <th>mat_mortality_ratio_2017</th>\n",
       "      <th>under5_mortality_ratio_2017</th>\n",
       "      <th>...</th>\n",
       "      <th>cell_subscriptions_per100</th>\n",
       "      <th>internet_per_mil_2017</th>\n",
       "      <th>military_exp_2017</th>\n",
       "      <th>women_seats_percent_2017</th>\n",
       "      <th>male_bus_start_2017</th>\n",
       "      <th>female_bus_start_2017</th>\n",
       "      <th>patent_apps_2017</th>\n",
       "      <th>sci_articles_2017</th>\n",
       "      <th>pop_density_2017</th>\n",
       "      <th>HDI</th>\n",
       "    </tr>\n",
       "  </thead>\n",
       "  <tbody>\n",
       "    <tr>\n",
       "      <th>0</th>\n",
       "      <td>Afghanistan</td>\n",
       "      <td>AFG</td>\n",
       "      <td>74.750</td>\n",
       "      <td>99.169998</td>\n",
       "      <td>58.067580</td>\n",
       "      <td>11.792727</td>\n",
       "      <td>-314602.0</td>\n",
       "      <td>0.1</td>\n",
       "      <td>638.0</td>\n",
       "      <td>64.8</td>\n",
       "      <td>...</td>\n",
       "      <td>65.929134</td>\n",
       "      <td>43.448181</td>\n",
       "      <td>0.945227</td>\n",
       "      <td>27.710843</td>\n",
       "      <td>8.0</td>\n",
       "      <td>9.0</td>\n",
       "      <td>NaN</td>\n",
       "      <td>91.89</td>\n",
       "      <td>55.595550</td>\n",
       "      <td>0.509</td>\n",
       "    </tr>\n",
       "    <tr>\n",
       "      <th>1</th>\n",
       "      <td>Angola</td>\n",
       "      <td>AGO</td>\n",
       "      <td>35.161</td>\n",
       "      <td>103.419998</td>\n",
       "      <td>45.237371</td>\n",
       "      <td>3.930376</td>\n",
       "      <td>32066.0</td>\n",
       "      <td>1.9</td>\n",
       "      <td>241.0</td>\n",
       "      <td>80.6</td>\n",
       "      <td>...</td>\n",
       "      <td>44.686107</td>\n",
       "      <td>10.799292</td>\n",
       "      <td>2.507985</td>\n",
       "      <td>30.454545</td>\n",
       "      <td>36.0</td>\n",
       "      <td>36.0</td>\n",
       "      <td>NaN</td>\n",
       "      <td>55.50</td>\n",
       "      <td>23.916555</td>\n",
       "      <td>0.582</td>\n",
       "    </tr>\n",
       "    <tr>\n",
       "      <th>2</th>\n",
       "      <td>Albania</td>\n",
       "      <td>ALB</td>\n",
       "      <td>40.617</td>\n",
       "      <td>103.980003</td>\n",
       "      <td>42.670839</td>\n",
       "      <td>22.149635</td>\n",
       "      <td>-69998.0</td>\n",
       "      <td>0.1</td>\n",
       "      <td>15.0</td>\n",
       "      <td>9.4</td>\n",
       "      <td>...</td>\n",
       "      <td>125.710352</td>\n",
       "      <td>443.020376</td>\n",
       "      <td>1.108696</td>\n",
       "      <td>27.857143</td>\n",
       "      <td>5.0</td>\n",
       "      <td>5.0</td>\n",
       "      <td>16.0</td>\n",
       "      <td>149.54</td>\n",
       "      <td>104.870693</td>\n",
       "      <td>0.792</td>\n",
       "    </tr>\n",
       "    <tr>\n",
       "      <th>3</th>\n",
       "      <td>Andorra</td>\n",
       "      <td>AND</td>\n",
       "      <td>11.850</td>\n",
       "      <td>NaN</td>\n",
       "      <td>40.042553</td>\n",
       "      <td>1.744681</td>\n",
       "      <td>NaN</td>\n",
       "      <td>NaN</td>\n",
       "      <td>NaN</td>\n",
       "      <td>3.0</td>\n",
       "      <td>...</td>\n",
       "      <td>104.332411</td>\n",
       "      <td>3415.717495</td>\n",
       "      <td>NaN</td>\n",
       "      <td>32.142857</td>\n",
       "      <td>NaN</td>\n",
       "      <td>NaN</td>\n",
       "      <td>NaN</td>\n",
       "      <td>2.01</td>\n",
       "      <td>163.823404</td>\n",
       "      <td>0.867</td>\n",
       "    </tr>\n",
       "    <tr>\n",
       "      <th>4</th>\n",
       "      <td>United Arab Emirates</td>\n",
       "      <td>ARE</td>\n",
       "      <td>13.752</td>\n",
       "      <td>104.180000</td>\n",
       "      <td>5.404112</td>\n",
       "      <td>0.626584</td>\n",
       "      <td>200000.0</td>\n",
       "      <td>0.1</td>\n",
       "      <td>3.0</td>\n",
       "      <td>7.2</td>\n",
       "      <td>...</td>\n",
       "      <td>208.978600</td>\n",
       "      <td>1285.099111</td>\n",
       "      <td>NaN</td>\n",
       "      <td>22.500000</td>\n",
       "      <td>8.0</td>\n",
       "      <td>9.0</td>\n",
       "      <td>63.0</td>\n",
       "      <td>2899.67</td>\n",
       "      <td>133.584990</td>\n",
       "      <td>0.889</td>\n",
       "    </tr>\n",
       "  </tbody>\n",
       "</table>\n",
       "<p>5 rows × 34 columns</p>\n",
       "</div>"
      ],
      "text/plain": [
       "           Country Name Country Code  rural_pop_percent_17  \\\n",
       "0           Afghanistan          AFG                74.750   \n",
       "1                Angola          AGO                35.161   \n",
       "2               Albania          ALB                40.617   \n",
       "3               Andorra          AND                11.850   \n",
       "4  United Arab Emirates          ARE                13.752   \n",
       "\n",
       "   food_production_index_17  ag_land_area_17  arable_land_percent_2017  \\\n",
       "0                 99.169998        58.067580                 11.792727   \n",
       "1                103.419998        45.237371                  3.930376   \n",
       "2                103.980003        42.670839                 22.149635   \n",
       "3                       NaN        40.042553                  1.744681   \n",
       "4                104.180000         5.404112                  0.626584   \n",
       "\n",
       "   net_migration_2017  hiv_prevalence_2017  mat_mortality_ratio_2017  \\\n",
       "0           -314602.0                  0.1                     638.0   \n",
       "1             32066.0                  1.9                     241.0   \n",
       "2            -69998.0                  0.1                      15.0   \n",
       "3                 NaN                  NaN                       NaN   \n",
       "4            200000.0                  0.1                       3.0   \n",
       "\n",
       "   under5_mortality_ratio_2017  ...  cell_subscriptions_per100  \\\n",
       "0                         64.8  ...                  65.929134   \n",
       "1                         80.6  ...                  44.686107   \n",
       "2                          9.4  ...                 125.710352   \n",
       "3                          3.0  ...                 104.332411   \n",
       "4                          7.2  ...                 208.978600   \n",
       "\n",
       "   internet_per_mil_2017  military_exp_2017  women_seats_percent_2017  \\\n",
       "0              43.448181           0.945227                 27.710843   \n",
       "1              10.799292           2.507985                 30.454545   \n",
       "2             443.020376           1.108696                 27.857143   \n",
       "3            3415.717495                NaN                 32.142857   \n",
       "4            1285.099111                NaN                 22.500000   \n",
       "\n",
       "   male_bus_start_2017  female_bus_start_2017  patent_apps_2017  \\\n",
       "0                  8.0                    9.0               NaN   \n",
       "1                 36.0                   36.0               NaN   \n",
       "2                  5.0                    5.0              16.0   \n",
       "3                  NaN                    NaN               NaN   \n",
       "4                  8.0                    9.0              63.0   \n",
       "\n",
       "   sci_articles_2017  pop_density_2017    HDI  \n",
       "0              91.89         55.595550  0.509  \n",
       "1              55.50         23.916555  0.582  \n",
       "2             149.54        104.870693  0.792  \n",
       "3               2.01        163.823404  0.867  \n",
       "4            2899.67        133.584990  0.889  \n",
       "\n",
       "[5 rows x 34 columns]"
      ]
     },
     "execution_count": 3,
     "metadata": {},
     "output_type": "execute_result"
    }
   ],
   "source": [
    "df.head()"
   ]
  },
  {
   "cell_type": "code",
   "execution_count": 6,
   "id": "94919221-82fb-4070-a3cc-e99e0eb3db17",
   "metadata": {},
   "outputs": [
    {
     "data": {
      "text/plain": [
       "Country Name                   0\n",
       "Country Code                   0\n",
       "rural_pop_percent_17           0\n",
       "food_production_index_17       0\n",
       "ag_land_area_17                0\n",
       "arable_land_percent_2017       0\n",
       "net_migration_2017             0\n",
       "hiv_prevalence_2017            0\n",
       "mat_mortality_ratio_2017       0\n",
       "under5_mortality_ratio_2017    0\n",
       "tubercul_incidence_2017        0\n",
       "elec_access_2017               0\n",
       "ren_energy_percent_2017        0\n",
       "ffuel_energy_percent_2017      0\n",
       "co2_emissions_2017             0\n",
       "pop_air_pollution_2017         0\n",
       "foreign_dir_inv_2017           0\n",
       "atm_access_2017                0\n",
       "adol_fertility_rate_2017       0\n",
       "fem_labor_part_rate_2017       0\n",
       "male_labor_part_rate_2017      0\n",
       "fertility_rate_2017            0\n",
       "dpt_immuniz_rate_2017          0\n",
       "undernourished_rate_2017       0\n",
       "cell_subscriptions_per100      0\n",
       "internet_per_mil_2017          0\n",
       "military_exp_2017              0\n",
       "women_seats_percent_2017       0\n",
       "male_bus_start_2017            0\n",
       "female_bus_start_2017          0\n",
       "patent_apps_2017               0\n",
       "sci_articles_2017              0\n",
       "pop_density_2017               0\n",
       "HDI                            0\n",
       "dtype: int64"
      ]
     },
     "execution_count": 6,
     "metadata": {},
     "output_type": "execute_result"
    }
   ],
   "source": [
    "df.fillna(0, inplace=True)\n",
    "df.isnull().sum()"
   ]
  },
  {
   "cell_type": "markdown",
   "id": "5226ad85-9523-4eda-bdef-0d0d1ff967fb",
   "metadata": {},
   "source": [
    "-----\n",
    "### K-means Clustering "
   ]
  },
  {
   "cell_type": "code",
   "execution_count": 8,
   "id": "3f3178d8-1938-4a3d-8af3-13daef71a611",
   "metadata": {},
   "outputs": [],
   "source": [
    "X = df.drop(columns = ['Country Name', 'Country Code', 'ffuel_energy_percent_2017', 'HDI'])"
   ]
  },
  {
   "cell_type": "code",
   "execution_count": 9,
   "id": "27ec68b3-2a22-448e-8907-cf07524cdafc",
   "metadata": {},
   "outputs": [],
   "source": [
    "ss = StandardScaler()\n",
    "X_ss = ss.fit_transform(X)"
   ]
  },
  {
   "cell_type": "code",
   "execution_count": 10,
   "id": "1ece12ed-e77e-4138-ae6c-ff0661a7a357",
   "metadata": {},
   "outputs": [
    {
     "data": {
      "text/plain": [
       "KMeans(n_clusters=4, random_state=42)"
      ]
     },
     "execution_count": 10,
     "metadata": {},
     "output_type": "execute_result"
    }
   ],
   "source": [
    "# went with 4 as there are 4 cutoffs for development levels with HDI\n",
    "km = KMeans(n_clusters = 4, random_state=42)\n",
    "km.fit(X_ss)"
   ]
  },
  {
   "cell_type": "code",
   "execution_count": 11,
   "id": "16999bcd-ca9f-4458-913e-d0ed79e11cfa",
   "metadata": {},
   "outputs": [
    {
     "data": {
      "text/plain": [
       "array([3, 3, 0, 0, 0, 0, 0, 1, 0, 0, 0, 3, 0, 3, 3, 1, 0, 0, 0, 1, 0, 1,\n",
       "       1, 0, 1, 0, 1, 1, 3, 0, 0, 0, 2, 3, 3, 3, 3, 0, 1, 0, 0, 0, 0, 0,\n",
       "       1, 0, 0, 0, 0, 1, 1, 0, 0, 3, 0, 1, 0, 1, 1, 0, 0, 1, 3, 3, 3, 3,\n",
       "       0, 1, 1, 1, 0, 1, 0, 3, 0, 1, 1, 0, 0, 1, 0, 0, 0, 0, 0, 0, 0, 3,\n",
       "       1, 1, 1, 0, 0, 0, 1, 0, 3, 0, 1, 1, 1, 3, 0, 0, 0, 0, 0, 3, 0, 0,\n",
       "       1, 0, 3, 0, 1, 0, 0, 3, 3, 0, 3, 0, 1, 3, 3, 1, 0, 0, 1, 0, 0, 1,\n",
       "       0, 0, 1, 0, 1, 0, 0, 1, 1, 0, 0, 0, 3, 0, 1, 1, 0, 1, 3, 0, 0, 3,\n",
       "       1, 1, 0, 0, 0, 3, 0, 1, 3, 3, 0, 1, 0, 1, 1, 0, 0, 0, 3, 3, 0, 0,\n",
       "       2, 1, 1, 1, 1, 1, 1, 1, 1, 3, 3], dtype=int32)"
      ]
     },
     "execution_count": 11,
     "metadata": {},
     "output_type": "execute_result"
    }
   ],
   "source": [
    "km.labels_"
   ]
  },
  {
   "cell_type": "code",
   "execution_count": 14,
   "id": "3edfa913-27c5-4ff3-9c2d-c876c1eef890",
   "metadata": {},
   "outputs": [],
   "source": [
    "df['cluster'] = km.labels_"
   ]
  },
  {
   "cell_type": "code",
   "execution_count": 15,
   "id": "accd1ee4-043d-4fbc-91c4-f1286c291137",
   "metadata": {},
   "outputs": [
    {
     "data": {
      "text/html": [
       "<div>\n",
       "<style scoped>\n",
       "    .dataframe tbody tr th:only-of-type {\n",
       "        vertical-align: middle;\n",
       "    }\n",
       "\n",
       "    .dataframe tbody tr th {\n",
       "        vertical-align: top;\n",
       "    }\n",
       "\n",
       "    .dataframe thead th {\n",
       "        text-align: right;\n",
       "    }\n",
       "</style>\n",
       "<table border=\"1\" class=\"dataframe\">\n",
       "  <thead>\n",
       "    <tr style=\"text-align: right;\">\n",
       "      <th></th>\n",
       "      <th>rural_pop_percent_17</th>\n",
       "      <th>food_production_index_17</th>\n",
       "      <th>ag_land_area_17</th>\n",
       "      <th>arable_land_percent_2017</th>\n",
       "      <th>net_migration_2017</th>\n",
       "      <th>hiv_prevalence_2017</th>\n",
       "      <th>mat_mortality_ratio_2017</th>\n",
       "      <th>under5_mortality_ratio_2017</th>\n",
       "      <th>tubercul_incidence_2017</th>\n",
       "      <th>elec_access_2017</th>\n",
       "      <th>...</th>\n",
       "      <th>cell_subscriptions_per100</th>\n",
       "      <th>internet_per_mil_2017</th>\n",
       "      <th>military_exp_2017</th>\n",
       "      <th>women_seats_percent_2017</th>\n",
       "      <th>male_bus_start_2017</th>\n",
       "      <th>female_bus_start_2017</th>\n",
       "      <th>patent_apps_2017</th>\n",
       "      <th>sci_articles_2017</th>\n",
       "      <th>pop_density_2017</th>\n",
       "      <th>HDI</th>\n",
       "    </tr>\n",
       "    <tr>\n",
       "      <th>cluster</th>\n",
       "      <th></th>\n",
       "      <th></th>\n",
       "      <th></th>\n",
       "      <th></th>\n",
       "      <th></th>\n",
       "      <th></th>\n",
       "      <th></th>\n",
       "      <th></th>\n",
       "      <th></th>\n",
       "      <th></th>\n",
       "      <th></th>\n",
       "      <th></th>\n",
       "      <th></th>\n",
       "      <th></th>\n",
       "      <th></th>\n",
       "      <th></th>\n",
       "      <th></th>\n",
       "      <th></th>\n",
       "      <th></th>\n",
       "      <th></th>\n",
       "      <th></th>\n",
       "    </tr>\n",
       "  </thead>\n",
       "  <tbody>\n",
       "    <tr>\n",
       "      <th>0</th>\n",
       "      <td>25.990511</td>\n",
       "      <td>100.704348</td>\n",
       "      <td>37.001428</td>\n",
       "      <td>15.315057</td>\n",
       "      <td>1.534099e+05</td>\n",
       "      <td>0.226087</td>\n",
       "      <td>22.141304</td>\n",
       "      <td>9.275000</td>\n",
       "      <td>33.702174</td>\n",
       "      <td>25.990511</td>\n",
       "      <td>...</td>\n",
       "      <td>125.986700</td>\n",
       "      <td>11370.559992</td>\n",
       "      <td>1.746840</td>\n",
       "      <td>22.995546</td>\n",
       "      <td>13.006848</td>\n",
       "      <td>13.137283</td>\n",
       "      <td>6529.282609</td>\n",
       "      <td>14380.820326</td>\n",
       "      <td>336.913011</td>\n",
       "      <td>0.837054</td>\n",
       "    </tr>\n",
       "    <tr>\n",
       "      <th>1</th>\n",
       "      <td>54.440070</td>\n",
       "      <td>104.429123</td>\n",
       "      <td>35.585155</td>\n",
       "      <td>11.847294</td>\n",
       "      <td>-2.492399e+05</td>\n",
       "      <td>1.254386</td>\n",
       "      <td>124.157895</td>\n",
       "      <td>30.721053</td>\n",
       "      <td>160.441404</td>\n",
       "      <td>54.440070</td>\n",
       "      <td>...</td>\n",
       "      <td>96.506565</td>\n",
       "      <td>922.762118</td>\n",
       "      <td>1.032429</td>\n",
       "      <td>18.157938</td>\n",
       "      <td>33.680789</td>\n",
       "      <td>33.768509</td>\n",
       "      <td>372.771930</td>\n",
       "      <td>3169.855789</td>\n",
       "      <td>161.876887</td>\n",
       "      <td>0.662719</td>\n",
       "    </tr>\n",
       "    <tr>\n",
       "      <th>2</th>\n",
       "      <td>29.991000</td>\n",
       "      <td>102.410000</td>\n",
       "      <td>50.221359</td>\n",
       "      <td>14.961180</td>\n",
       "      <td>1.516016e+06</td>\n",
       "      <td>0.200000</td>\n",
       "      <td>24.000000</td>\n",
       "      <td>7.900000</td>\n",
       "      <td>32.550000</td>\n",
       "      <td>29.991000</td>\n",
       "      <td>...</td>\n",
       "      <td>113.241628</td>\n",
       "      <td>15272.841359</td>\n",
       "      <td>2.529918</td>\n",
       "      <td>21.801222</td>\n",
       "      <td>15.250000</td>\n",
       "      <td>15.250000</td>\n",
       "      <td>769806.500000</td>\n",
       "      <td>452827.500000</td>\n",
       "      <td>91.843360</td>\n",
       "      <td>0.840000</td>\n",
       "    </tr>\n",
       "    <tr>\n",
       "      <th>3</th>\n",
       "      <td>61.874278</td>\n",
       "      <td>105.033056</td>\n",
       "      <td>47.789766</td>\n",
       "      <td>16.674864</td>\n",
       "      <td>-6.146153e+04</td>\n",
       "      <td>4.522222</td>\n",
       "      <td>536.861111</td>\n",
       "      <td>77.597222</td>\n",
       "      <td>237.000000</td>\n",
       "      <td>61.874278</td>\n",
       "      <td>...</td>\n",
       "      <td>71.857015</td>\n",
       "      <td>17.960528</td>\n",
       "      <td>1.443677</td>\n",
       "      <td>19.915174</td>\n",
       "      <td>21.928333</td>\n",
       "      <td>22.067222</td>\n",
       "      <td>9.055556</td>\n",
       "      <td>334.685833</td>\n",
       "      <td>99.992952</td>\n",
       "      <td>0.503972</td>\n",
       "    </tr>\n",
       "  </tbody>\n",
       "</table>\n",
       "<p>4 rows × 32 columns</p>\n",
       "</div>"
      ],
      "text/plain": [
       "         rural_pop_percent_17  food_production_index_17  ag_land_area_17  \\\n",
       "cluster                                                                    \n",
       "0                   25.990511                100.704348        37.001428   \n",
       "1                   54.440070                104.429123        35.585155   \n",
       "2                   29.991000                102.410000        50.221359   \n",
       "3                   61.874278                105.033056        47.789766   \n",
       "\n",
       "         arable_land_percent_2017  net_migration_2017  hiv_prevalence_2017  \\\n",
       "cluster                                                                      \n",
       "0                       15.315057        1.534099e+05             0.226087   \n",
       "1                       11.847294       -2.492399e+05             1.254386   \n",
       "2                       14.961180        1.516016e+06             0.200000   \n",
       "3                       16.674864       -6.146153e+04             4.522222   \n",
       "\n",
       "         mat_mortality_ratio_2017  under5_mortality_ratio_2017  \\\n",
       "cluster                                                          \n",
       "0                       22.141304                     9.275000   \n",
       "1                      124.157895                    30.721053   \n",
       "2                       24.000000                     7.900000   \n",
       "3                      536.861111                    77.597222   \n",
       "\n",
       "         tubercul_incidence_2017  elec_access_2017  ...  \\\n",
       "cluster                                             ...   \n",
       "0                      33.702174         25.990511  ...   \n",
       "1                     160.441404         54.440070  ...   \n",
       "2                      32.550000         29.991000  ...   \n",
       "3                     237.000000         61.874278  ...   \n",
       "\n",
       "         cell_subscriptions_per100  internet_per_mil_2017  military_exp_2017  \\\n",
       "cluster                                                                        \n",
       "0                       125.986700           11370.559992           1.746840   \n",
       "1                        96.506565             922.762118           1.032429   \n",
       "2                       113.241628           15272.841359           2.529918   \n",
       "3                        71.857015              17.960528           1.443677   \n",
       "\n",
       "         women_seats_percent_2017  male_bus_start_2017  female_bus_start_2017  \\\n",
       "cluster                                                                         \n",
       "0                       22.995546            13.006848              13.137283   \n",
       "1                       18.157938            33.680789              33.768509   \n",
       "2                       21.801222            15.250000              15.250000   \n",
       "3                       19.915174            21.928333              22.067222   \n",
       "\n",
       "         patent_apps_2017  sci_articles_2017  pop_density_2017       HDI  \n",
       "cluster                                                                   \n",
       "0             6529.282609       14380.820326        336.913011  0.837054  \n",
       "1              372.771930        3169.855789        161.876887  0.662719  \n",
       "2           769806.500000      452827.500000         91.843360  0.840000  \n",
       "3                9.055556         334.685833         99.992952  0.503972  \n",
       "\n",
       "[4 rows x 32 columns]"
      ]
     },
     "execution_count": 15,
     "metadata": {},
     "output_type": "execute_result"
    }
   ],
   "source": [
    "df.groupby('cluster').mean()"
   ]
  },
  {
   "cell_type": "code",
   "execution_count": 17,
   "id": "ba1e8d38-4afb-4681-ba1e-40940c011718",
   "metadata": {},
   "outputs": [
    {
     "data": {
      "text/plain": [
       "3870.7584684670737"
      ]
     },
     "execution_count": 17,
     "metadata": {},
     "output_type": "execute_result"
    }
   ],
   "source": [
    "km.inertia_"
   ]
  },
  {
   "cell_type": "code",
   "execution_count": 18,
   "id": "8bb8cbdf-f866-4bc8-a55b-6f11952c0b49",
   "metadata": {},
   "outputs": [
    {
     "data": {
      "text/plain": [
       "0.13961642633981403"
      ]
     },
     "execution_count": 18,
     "metadata": {},
     "output_type": "execute_result"
    }
   ],
   "source": [
    "silhouette_score(X_ss, km.labels_)"
   ]
  },
  {
   "cell_type": "code",
   "execution_count": 22,
   "id": "eb0c2a63-761f-42b7-8929-04e75e4810a2",
   "metadata": {},
   "outputs": [
    {
     "data": {
      "image/png": "[encoded data removed]",
      "text/plain": [
       "<Figure size 432x288 with 1 Axes>"
      ]
     },
     "metadata": {
      "needs_background": "light"
     },
     "output_type": "display_data"
    }
   ],
   "source": [
    "# the below code was adapted from lesson 7.01 on k-means clustering\n",
    "inertia_list = []\n",
    "\n",
    "for k in range(1,11):\n",
    "    km = KMeans(n_clusters= k, random_state=42)\n",
    "    km.fit(X_ss)\n",
    "    inertia_list.append(km.inertia_)\n",
    "\n",
    "plt.plot(range(1,11), inertia_list, marker = '*');\n",
    "plt.xlabel('number of clusters')\n",
    "plt.ylabel('Inertia')\n",
    "plt.title('inertia scores');"
   ]
  },
  {
   "cell_type": "code",
   "execution_count": 24,
   "id": "c318ca79-7872-468c-9f77-7bf549841f2b",
   "metadata": {
    "tags": []
   },
   "outputs": [
    {
     "data": {
      "image/png": "[encoded data removed]",
      "text/plain": [
       "<Figure size 432x288 with 1 Axes>"
      ]
     },
     "metadata": {
      "needs_background": "light"
     },
     "output_type": "display_data"
    }
   ],
   "source": [
    "silhouette_list = []\n",
    "\n",
    "for k in range(2,11):\n",
    "    km = KMeans(n_clusters = k, random_state= 42)\n",
    "    km.fit(X_ss)\n",
    "    silhouette_list.append(silhouette_score(X_ss, km.labels_))\n",
    "\n",
    "plt.plot(range(2,11), silhouette_list, marker='o');"
   ]
  },
  {
   "cell_type": "code",
   "execution_count": 25,
   "id": "67b87652-a27b-4b02-a4e8-c643328bc3b5",
   "metadata": {},
   "outputs": [],
   "source": [
    "# doesn't perform very well - try DBScan\n",
    "# will try to use one to feed \n",
    "# into regression or classification model"
   ]
  },
  {
   "cell_type": "code",
   "execution_count": 64,
   "id": "22b6cc89-292a-4317-9d29-78f8c2a038fb",
   "metadata": {},
   "outputs": [
    {
     "data": {
      "text/plain": [
       "KMeans(n_clusters=2, random_state=42)"
      ]
     },
     "execution_count": 64,
     "metadata": {},
     "output_type": "execute_result"
    }
   ],
   "source": [
    "# went with 4 as there are 4 cutoffs for development levels with HDI\n",
    "km = KMeans(n_clusters = 2, random_state=42)\n",
    "km.fit(X_ss)"
   ]
  },
  {
   "cell_type": "code",
   "execution_count": 65,
   "id": "3666b012-7db7-45bc-8395-f71cb8042018",
   "metadata": {},
   "outputs": [
    {
     "name": "stdout",
     "output_type": "stream",
     "text": [
      "4529.515414720577\n"
     ]
    },
    {
     "data": {
      "text/plain": [
       "0.22541053947667644"
      ]
     },
     "execution_count": 65,
     "metadata": {},
     "output_type": "execute_result"
    }
   ],
   "source": [
    "print(km.inertia_)\n",
    "silhouette_score(X_ss, km.labels_)"
   ]
  },
  {
   "cell_type": "code",
   "execution_count": 66,
   "id": "88f0e394-b449-43d1-ac73-285014777c68",
   "metadata": {},
   "outputs": [],
   "source": [
    "df['cluster'] = km.labels_"
   ]
  },
  {
   "cell_type": "code",
   "execution_count": 67,
   "id": "030057ac-8176-4e86-b606-980c6a412cd2",
   "metadata": {},
   "outputs": [
    {
     "data": {
      "text/plain": [
       "0    125\n",
       "1     62\n",
       "Name: cluster, dtype: int64"
      ]
     },
     "execution_count": 67,
     "metadata": {},
     "output_type": "execute_result"
    }
   ],
   "source": [
    "df['cluster'].value_counts()"
   ]
  },
  {
   "cell_type": "code",
   "execution_count": 68,
   "id": "eefccc23-ccc2-4fa0-9b21-488c6a61dd4d",
   "metadata": {},
   "outputs": [],
   "source": [
    "cluster_0 = df.loc[df['cluster'] == 0]\n",
    "\n",
    "cluster_1 = df.loc[df['cluster'] == 1]"
   ]
  },
  {
   "cell_type": "markdown",
   "id": "5687caa7-926e-482f-90dd-a9560f11c891",
   "metadata": {},
   "source": [
    "-----\n",
    "### DBSCAN"
   ]
  },
  {
   "cell_type": "code",
   "execution_count": 73,
   "id": "46e5b49b-5fb4-4860-a1fa-6e3e419c689b",
   "metadata": {},
   "outputs": [
    {
     "data": {
      "text/plain": [
       "DBSCAN()"
      ]
     },
     "execution_count": 73,
     "metadata": {},
     "output_type": "execute_result"
    }
   ],
   "source": [
    "dbscan = DBSCAN()\n",
    "dbscan.fit(X_ss)"
   ]
  },
  {
   "cell_type": "code",
   "execution_count": 74,
   "id": "78cb5ea7-cc48-452d-83f3-568ab28db7e1",
   "metadata": {
    "tags": []
   },
   "outputs": [
    {
     "data": {
      "text/plain": [
       "array([-1])"
      ]
     },
     "execution_count": 74,
     "metadata": {},
     "output_type": "execute_result"
    }
   ],
   "source": [
    "# no clusters and all outliers. adjust parameters\n",
    "pd.Series(dbscan.labels_).unique()"
   ]
  },
  {
   "cell_type": "code",
   "execution_count": 80,
   "id": "a4826699-9041-467c-9027-3e02eb7d616b",
   "metadata": {},
   "outputs": [
    {
     "data": {
      "text/plain": [
       "array([-1])"
      ]
     },
     "execution_count": 80,
     "metadata": {},
     "output_type": "execute_result"
    }
   ],
   "source": [
    "dbscan = DBSCAN(eps = 2, min_samples = 5)\n",
    "dbscan.fit(X_ss)\n",
    "\n",
    "pd.Series(dbscan.labels_).unique()"
   ]
  },
  {
   "cell_type": "code",
   "execution_count": 81,
   "id": "09da0ebd-4bf4-49f5-aa9c-0f9e968b8d56",
   "metadata": {},
   "outputs": [
    {
     "data": {
      "text/plain": [
       "array([-1,  0])"
      ]
     },
     "execution_count": 81,
     "metadata": {},
     "output_type": "execute_result"
    }
   ],
   "source": [
    "dbscan = DBSCAN(eps = 2.5, min_samples = 6)\n",
    "dbscan.fit(X_ss)\n",
    "\n",
    "pd.Series(dbscan.labels_).unique()"
   ]
  },
  {
   "cell_type": "code",
   "execution_count": 82,
   "id": "4ef33545-e898-433b-a62e-214528fd8941",
   "metadata": {},
   "outputs": [
    {
     "name": "stdout",
     "output_type": "stream",
     "text": [
      "Kmeans silhouette score: 0.22541053947667644\n",
      "********************\n",
      "DBSCAN silhouette: -0.08581744106556478\n"
     ]
    }
   ],
   "source": [
    "print(f'Kmeans silhouette score: {silhouette_score(X_ss, km.labels_)}')\n",
    "print('*'*20)\n",
    "print(f'DBSCAN silhouette: {silhouette_score(X_ss, dbscan.labels_)}')"
   ]
  },
  {
   "cell_type": "code",
   "execution_count": 83,
   "id": "49f7391f-6f2f-48e0-a945-33ec970a775d",
   "metadata": {},
   "outputs": [],
   "source": [
    "# DBSCAN did not perform well (even after adjusting parameters)\n",
    "# Kmeans performs better in this case"
   ]
  },
  {
   "cell_type": "markdown",
   "id": "06417e28-d172-4e51-8463-8355936afb49",
   "metadata": {},
   "source": [
    "## Use KMeans output clusters for supervised model"
   ]
  },
  {
   "cell_type": "code",
   "execution_count": null,
   "id": "7c6bd8a0-3a5f-49f1-9994-50bdd380b764",
   "metadata": {},
   "outputs": [],
   "source": []
  }
 ],
 "metadata": {
  "kernelspec": {
   "display_name": "Python [conda env:dsi] *",
   "language": "python",
   "name": "conda-env-dsi-py"
  },
  "language_info": {
   "codemirror_mode": {
    "name": "ipython",
    "version": 3
   },
   "file_extension": ".py",
   "mimetype": "text/x-python",
   "name": "python",
   "nbconvert_exporter": "python",
   "pygments_lexer": "ipython3",
   "version": "3.9.12"
  }
 },
 "nbformat": 4,
 "nbformat_minor": 5
}
