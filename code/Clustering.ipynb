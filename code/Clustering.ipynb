{
 "cells": [
  {
   "cell_type": "code",
   "execution_count": 3,
   "id": "73fd9cf2-85bd-497a-8427-8b3c7a74e726",
   "metadata": {},
   "outputs": [],
   "source": [
    "from sklearn.datasets import make_blobs\n",
    "from sklearn.cluster import KMeans, DBSCAN\n",
    "from sklearn.metrics import silhouette_score\n",
    "from sklearn.preprocessing import StandardScaler\n",
    "\n",
    "from sklearn.model_selection import train_test_split\n",
    "from sklearn.linear_model import LinearRegression\n",
    "from sklearn import metrics\n",
    "\n",
    "import numpy as np\n",
    "import pandas as pd\n",
    "\n",
    "import seaborn as sns\n",
    "import matplotlib.pyplot as plt\n",
    "import matplotlib\n",
    "import plotly.express as px\n",
    "\n",
    "# Set random seed.\n",
    "np.random.seed(42)"
   ]
  },
  {
   "cell_type": "code",
   "execution_count": 4,
   "id": "25750df3-5499-4f3e-8782-68ed2574c905",
   "metadata": {},
   "outputs": [],
   "source": [
    "# Read in the dataset\n",
    "df = pd.read_csv('../datasets/cleaned_data.csv')"
   ]
  },
  {
   "cell_type": "code",
   "execution_count": 5,
   "id": "cda8ed02-0404-468c-b98f-615fde72cf6e",
   "metadata": {},
   "outputs": [
    {
     "data": {
      "text/html": [
       "<div>\n",
       "<style scoped>\n",
       "    .dataframe tbody tr th:only-of-type {\n",
       "        vertical-align: middle;\n",
       "    }\n",
       "\n",
       "    .dataframe tbody tr th {\n",
       "        vertical-align: top;\n",
       "    }\n",
       "\n",
       "    .dataframe thead th {\n",
       "        text-align: right;\n",
       "    }\n",
       "</style>\n",
       "<table border=\"1\" class=\"dataframe\">\n",
       "  <thead>\n",
       "    <tr style=\"text-align: right;\">\n",
       "      <th></th>\n",
       "      <th>Country Name</th>\n",
       "      <th>Country Code</th>\n",
       "      <th>rural_pop_percent_17</th>\n",
       "      <th>food_production_index_17</th>\n",
       "      <th>ag_land_area_17</th>\n",
       "      <th>arable_land_percent_2017</th>\n",
       "      <th>net_migration_2017</th>\n",
       "      <th>hiv_prevalence_2017</th>\n",
       "      <th>mat_mortality_ratio_2017</th>\n",
       "      <th>under5_mortality_ratio_2017</th>\n",
       "      <th>...</th>\n",
       "      <th>cell_subscriptions_per100</th>\n",
       "      <th>internet_per_mil_2017</th>\n",
       "      <th>military_exp_2017</th>\n",
       "      <th>women_seats_percent_2017</th>\n",
       "      <th>male_bus_start_2017</th>\n",
       "      <th>female_bus_start_2017</th>\n",
       "      <th>patent_apps_2017</th>\n",
       "      <th>sci_articles_2017</th>\n",
       "      <th>pop_density_2017</th>\n",
       "      <th>HDI</th>\n",
       "    </tr>\n",
       "  </thead>\n",
       "  <tbody>\n",
       "    <tr>\n",
       "      <th>0</th>\n",
       "      <td>Afghanistan</td>\n",
       "      <td>AFG</td>\n",
       "      <td>74.750</td>\n",
       "      <td>99.169998</td>\n",
       "      <td>58.067580</td>\n",
       "      <td>11.792727</td>\n",
       "      <td>-314602.0</td>\n",
       "      <td>0.1</td>\n",
       "      <td>638.0</td>\n",
       "      <td>64.8</td>\n",
       "      <td>...</td>\n",
       "      <td>65.929134</td>\n",
       "      <td>43.448181</td>\n",
       "      <td>0.945227</td>\n",
       "      <td>27.710843</td>\n",
       "      <td>8.0</td>\n",
       "      <td>9.0</td>\n",
       "      <td>23.5</td>\n",
       "      <td>91.89</td>\n",
       "      <td>55.595550</td>\n",
       "      <td>0.509</td>\n",
       "    </tr>\n",
       "    <tr>\n",
       "      <th>1</th>\n",
       "      <td>Angola</td>\n",
       "      <td>AGO</td>\n",
       "      <td>35.161</td>\n",
       "      <td>103.419998</td>\n",
       "      <td>45.237371</td>\n",
       "      <td>3.930376</td>\n",
       "      <td>32066.0</td>\n",
       "      <td>1.9</td>\n",
       "      <td>241.0</td>\n",
       "      <td>80.6</td>\n",
       "      <td>...</td>\n",
       "      <td>44.686107</td>\n",
       "      <td>10.799292</td>\n",
       "      <td>2.507985</td>\n",
       "      <td>30.454545</td>\n",
       "      <td>36.0</td>\n",
       "      <td>36.0</td>\n",
       "      <td>23.5</td>\n",
       "      <td>55.50</td>\n",
       "      <td>23.916555</td>\n",
       "      <td>0.582</td>\n",
       "    </tr>\n",
       "    <tr>\n",
       "      <th>2</th>\n",
       "      <td>Albania</td>\n",
       "      <td>ALB</td>\n",
       "      <td>40.617</td>\n",
       "      <td>103.980003</td>\n",
       "      <td>42.670839</td>\n",
       "      <td>22.149635</td>\n",
       "      <td>-69998.0</td>\n",
       "      <td>0.1</td>\n",
       "      <td>15.0</td>\n",
       "      <td>9.4</td>\n",
       "      <td>...</td>\n",
       "      <td>125.710352</td>\n",
       "      <td>443.020376</td>\n",
       "      <td>1.108696</td>\n",
       "      <td>27.857143</td>\n",
       "      <td>5.0</td>\n",
       "      <td>5.0</td>\n",
       "      <td>16.0</td>\n",
       "      <td>149.54</td>\n",
       "      <td>104.870693</td>\n",
       "      <td>0.792</td>\n",
       "    </tr>\n",
       "    <tr>\n",
       "      <th>3</th>\n",
       "      <td>Andorra</td>\n",
       "      <td>AND</td>\n",
       "      <td>11.850</td>\n",
       "      <td>102.830002</td>\n",
       "      <td>40.042553</td>\n",
       "      <td>1.744681</td>\n",
       "      <td>-4999.0</td>\n",
       "      <td>0.4</td>\n",
       "      <td>13.5</td>\n",
       "      <td>3.0</td>\n",
       "      <td>...</td>\n",
       "      <td>104.332411</td>\n",
       "      <td>3415.717495</td>\n",
       "      <td>1.430273</td>\n",
       "      <td>32.142857</td>\n",
       "      <td>13.0</td>\n",
       "      <td>13.0</td>\n",
       "      <td>23.5</td>\n",
       "      <td>2.01</td>\n",
       "      <td>163.823404</td>\n",
       "      <td>0.867</td>\n",
       "    </tr>\n",
       "    <tr>\n",
       "      <th>4</th>\n",
       "      <td>United Arab Emirates</td>\n",
       "      <td>ARE</td>\n",
       "      <td>13.752</td>\n",
       "      <td>104.180000</td>\n",
       "      <td>5.404112</td>\n",
       "      <td>0.626584</td>\n",
       "      <td>200000.0</td>\n",
       "      <td>0.1</td>\n",
       "      <td>3.0</td>\n",
       "      <td>7.2</td>\n",
       "      <td>...</td>\n",
       "      <td>208.978600</td>\n",
       "      <td>1285.099111</td>\n",
       "      <td>1.430273</td>\n",
       "      <td>22.500000</td>\n",
       "      <td>8.0</td>\n",
       "      <td>9.0</td>\n",
       "      <td>63.0</td>\n",
       "      <td>2899.67</td>\n",
       "      <td>133.584990</td>\n",
       "      <td>0.889</td>\n",
       "    </tr>\n",
       "  </tbody>\n",
       "</table>\n",
       "<p>5 rows × 33 columns</p>\n",
       "</div>"
      ],
      "text/plain": [
       "           Country Name Country Code  rural_pop_percent_17  \\\n",
       "0           Afghanistan          AFG                74.750   \n",
       "1                Angola          AGO                35.161   \n",
       "2               Albania          ALB                40.617   \n",
       "3               Andorra          AND                11.850   \n",
       "4  United Arab Emirates          ARE                13.752   \n",
       "\n",
       "   food_production_index_17  ag_land_area_17  arable_land_percent_2017  \\\n",
       "0                 99.169998        58.067580                 11.792727   \n",
       "1                103.419998        45.237371                  3.930376   \n",
       "2                103.980003        42.670839                 22.149635   \n",
       "3                102.830002        40.042553                  1.744681   \n",
       "4                104.180000         5.404112                  0.626584   \n",
       "\n",
       "   net_migration_2017  hiv_prevalence_2017  mat_mortality_ratio_2017  \\\n",
       "0           -314602.0                  0.1                     638.0   \n",
       "1             32066.0                  1.9                     241.0   \n",
       "2            -69998.0                  0.1                      15.0   \n",
       "3             -4999.0                  0.4                      13.5   \n",
       "4            200000.0                  0.1                       3.0   \n",
       "\n",
       "   under5_mortality_ratio_2017  ...  cell_subscriptions_per100  \\\n",
       "0                         64.8  ...                  65.929134   \n",
       "1                         80.6  ...                  44.686107   \n",
       "2                          9.4  ...                 125.710352   \n",
       "3                          3.0  ...                 104.332411   \n",
       "4                          7.2  ...                 208.978600   \n",
       "\n",
       "   internet_per_mil_2017  military_exp_2017  women_seats_percent_2017  \\\n",
       "0              43.448181           0.945227                 27.710843   \n",
       "1              10.799292           2.507985                 30.454545   \n",
       "2             443.020376           1.108696                 27.857143   \n",
       "3            3415.717495           1.430273                 32.142857   \n",
       "4            1285.099111           1.430273                 22.500000   \n",
       "\n",
       "   male_bus_start_2017  female_bus_start_2017  patent_apps_2017  \\\n",
       "0                  8.0                    9.0              23.5   \n",
       "1                 36.0                   36.0              23.5   \n",
       "2                  5.0                    5.0              16.0   \n",
       "3                 13.0                   13.0              23.5   \n",
       "4                  8.0                    9.0              63.0   \n",
       "\n",
       "   sci_articles_2017  pop_density_2017    HDI  \n",
       "0              91.89         55.595550  0.509  \n",
       "1              55.50         23.916555  0.582  \n",
       "2             149.54        104.870693  0.792  \n",
       "3               2.01        163.823404  0.867  \n",
       "4            2899.67        133.584990  0.889  \n",
       "\n",
       "[5 rows x 33 columns]"
      ]
     },
     "execution_count": 5,
     "metadata": {},
     "output_type": "execute_result"
    }
   ],
   "source": [
    "df.head()"
   ]
  },
  {
   "cell_type": "code",
   "execution_count": 6,
   "id": "94919221-82fb-4070-a3cc-e99e0eb3db17",
   "metadata": {},
   "outputs": [
    {
     "data": {
      "text/plain": [
       "Country Name                   0\n",
       "Country Code                   0\n",
       "rural_pop_percent_17           0\n",
       "food_production_index_17       0\n",
       "ag_land_area_17                0\n",
       "arable_land_percent_2017       0\n",
       "net_migration_2017             0\n",
       "hiv_prevalence_2017            0\n",
       "mat_mortality_ratio_2017       0\n",
       "under5_mortality_ratio_2017    0\n",
       "tubercul_incidence_2017        0\n",
       "elec_access_2017               0\n",
       "ren_energy_percent_2017        0\n",
       "co2_emissions_2017             0\n",
       "pop_air_pollution_2017         0\n",
       "foreign_dir_inv_2017           0\n",
       "atm_access_2017                0\n",
       "adol_fertility_rate_2017       0\n",
       "fem_labor_part_rate_2017       0\n",
       "male_labor_part_rate_2017      0\n",
       "fertility_rate_2017            0\n",
       "dpt_immuniz_rate_2017          0\n",
       "undernourished_rate_2017       0\n",
       "cell_subscriptions_per100      0\n",
       "internet_per_mil_2017          0\n",
       "military_exp_2017              0\n",
       "women_seats_percent_2017       0\n",
       "male_bus_start_2017            0\n",
       "female_bus_start_2017          0\n",
       "patent_apps_2017               0\n",
       "sci_articles_2017              0\n",
       "pop_density_2017               0\n",
       "HDI                            0\n",
       "dtype: int64"
      ]
     },
     "execution_count": 6,
     "metadata": {},
     "output_type": "execute_result"
    }
   ],
   "source": [
    "df.fillna(0, inplace=True)\n",
    "df.isnull().sum()"
   ]
  },
  {
   "cell_type": "markdown",
   "id": "5226ad85-9523-4eda-bdef-0d0d1ff967fb",
   "metadata": {},
   "source": [
    "-----\n",
    "### K-means Clustering "
   ]
  },
  {
   "cell_type": "code",
   "execution_count": 7,
   "id": "3f3178d8-1938-4a3d-8af3-13daef71a611",
   "metadata": {
    "tags": []
   },
   "outputs": [],
   "source": [
    "X = df.drop(columns = ['Country Name', 'Country Code', 'HDI'])"
   ]
  },
  {
   "cell_type": "code",
   "execution_count": 8,
   "id": "27ec68b3-2a22-448e-8907-cf07524cdafc",
   "metadata": {},
   "outputs": [],
   "source": [
    "ss = StandardScaler()\n",
    "X_ss = ss.fit_transform(X)"
   ]
  },
  {
   "cell_type": "code",
   "execution_count": 9,
   "id": "1ece12ed-e77e-4138-ae6c-ff0661a7a357",
   "metadata": {},
   "outputs": [
    {
     "data": {
      "text/plain": [
       "KMeans(n_clusters=4, random_state=42)"
      ]
     },
     "execution_count": 9,
     "metadata": {},
     "output_type": "execute_result"
    }
   ],
   "source": [
    "# went with 4 as there are 4 cutoffs for development levels with HDI\n",
    "km = KMeans(n_clusters = 4, random_state=42)\n",
    "km.fit(X_ss)"
   ]
  },
  {
   "cell_type": "code",
   "execution_count": 10,
   "id": "16999bcd-ca9f-4458-913e-d0ed79e11cfa",
   "metadata": {},
   "outputs": [
    {
     "data": {
      "text/plain": [
       "array([1, 1, 0, 0, 0, 0, 0, 0, 0, 0, 0, 1, 0, 1, 1, 3, 0, 0, 0, 3, 0, 3,\n",
       "       3, 0, 0, 0, 3, 3, 1, 0, 0, 0, 2, 1, 1, 1, 1, 0, 3, 0, 0, 0, 0, 0,\n",
       "       3, 0, 0, 0, 0, 3, 3, 0, 0, 1, 0, 3, 0, 3, 3, 0, 0, 3, 1, 1, 1, 1,\n",
       "       0, 0, 3, 3, 0, 3, 0, 1, 0, 3, 3, 0, 0, 3, 0, 0, 0, 0, 0, 0, 0, 1,\n",
       "       3, 3, 3, 0, 0, 0, 3, 0, 1, 0, 3, 0, 3, 1, 0, 0, 0, 0, 0, 1, 0, 0,\n",
       "       3, 0, 1, 0, 3, 0, 0, 1, 3, 0, 1, 0, 3, 1, 1, 3, 0, 0, 3, 0, 0, 3,\n",
       "       0, 0, 3, 0, 3, 0, 0, 3, 3, 0, 0, 0, 1, 0, 3, 3, 0, 3, 1, 0, 0, 1,\n",
       "       3, 3, 0, 0, 0, 1, 0, 3, 1, 1, 0, 3, 0, 3, 3, 0, 0, 0, 1, 1, 0, 0,\n",
       "       2, 0, 0, 3, 3, 3, 3, 3, 3, 1, 1], dtype=int32)"
      ]
     },
     "execution_count": 10,
     "metadata": {},
     "output_type": "execute_result"
    }
   ],
   "source": [
    "km.labels_"
   ]
  },
  {
   "cell_type": "code",
   "execution_count": 11,
   "id": "3edfa913-27c5-4ff3-9c2d-c876c1eef890",
   "metadata": {},
   "outputs": [],
   "source": [
    "df['cluster'] = km.labels_"
   ]
  },
  {
   "cell_type": "code",
   "execution_count": 12,
   "id": "accd1ee4-043d-4fbc-91c4-f1286c291137",
   "metadata": {},
   "outputs": [
    {
     "data": {
      "text/html": [
       "<div>\n",
       "<style scoped>\n",
       "    .dataframe tbody tr th:only-of-type {\n",
       "        vertical-align: middle;\n",
       "    }\n",
       "\n",
       "    .dataframe tbody tr th {\n",
       "        vertical-align: top;\n",
       "    }\n",
       "\n",
       "    .dataframe thead th {\n",
       "        text-align: right;\n",
       "    }\n",
       "</style>\n",
       "<table border=\"1\" class=\"dataframe\">\n",
       "  <thead>\n",
       "    <tr style=\"text-align: right;\">\n",
       "      <th></th>\n",
       "      <th>rural_pop_percent_17</th>\n",
       "      <th>food_production_index_17</th>\n",
       "      <th>ag_land_area_17</th>\n",
       "      <th>arable_land_percent_2017</th>\n",
       "      <th>net_migration_2017</th>\n",
       "      <th>hiv_prevalence_2017</th>\n",
       "      <th>mat_mortality_ratio_2017</th>\n",
       "      <th>under5_mortality_ratio_2017</th>\n",
       "      <th>tubercul_incidence_2017</th>\n",
       "      <th>elec_access_2017</th>\n",
       "      <th>...</th>\n",
       "      <th>cell_subscriptions_per100</th>\n",
       "      <th>internet_per_mil_2017</th>\n",
       "      <th>military_exp_2017</th>\n",
       "      <th>women_seats_percent_2017</th>\n",
       "      <th>male_bus_start_2017</th>\n",
       "      <th>female_bus_start_2017</th>\n",
       "      <th>patent_apps_2017</th>\n",
       "      <th>sci_articles_2017</th>\n",
       "      <th>pop_density_2017</th>\n",
       "      <th>HDI</th>\n",
       "    </tr>\n",
       "    <tr>\n",
       "      <th>cluster</th>\n",
       "      <th></th>\n",
       "      <th></th>\n",
       "      <th></th>\n",
       "      <th></th>\n",
       "      <th></th>\n",
       "      <th></th>\n",
       "      <th></th>\n",
       "      <th></th>\n",
       "      <th></th>\n",
       "      <th></th>\n",
       "      <th></th>\n",
       "      <th></th>\n",
       "      <th></th>\n",
       "      <th></th>\n",
       "      <th></th>\n",
       "      <th></th>\n",
       "      <th></th>\n",
       "      <th></th>\n",
       "      <th></th>\n",
       "      <th></th>\n",
       "      <th></th>\n",
       "    </tr>\n",
       "  </thead>\n",
       "  <tbody>\n",
       "    <tr>\n",
       "      <th>0</th>\n",
       "      <td>28.392265</td>\n",
       "      <td>102.824490</td>\n",
       "      <td>36.526875</td>\n",
       "      <td>15.010785</td>\n",
       "      <td>1.432858e+05</td>\n",
       "      <td>0.377551</td>\n",
       "      <td>24.748724</td>\n",
       "      <td>9.563265</td>\n",
       "      <td>32.571429</td>\n",
       "      <td>28.392265</td>\n",
       "      <td>...</td>\n",
       "      <td>126.422658</td>\n",
       "      <td>10941.465646</td>\n",
       "      <td>1.902594</td>\n",
       "      <td>23.040274</td>\n",
       "      <td>13.435000</td>\n",
       "      <td>13.557449</td>\n",
       "      <td>6137.729592</td>\n",
       "      <td>13562.853699</td>\n",
       "      <td>334.653262</td>\n",
       "      <td>0.834041</td>\n",
       "    </tr>\n",
       "    <tr>\n",
       "      <th>1</th>\n",
       "      <td>62.294229</td>\n",
       "      <td>105.103429</td>\n",
       "      <td>48.055768</td>\n",
       "      <td>17.450271</td>\n",
       "      <td>-6.393191e+04</td>\n",
       "      <td>4.642857</td>\n",
       "      <td>530.314286</td>\n",
       "      <td>77.594286</td>\n",
       "      <td>241.000000</td>\n",
       "      <td>62.294229</td>\n",
       "      <td>...</td>\n",
       "      <td>71.191974</td>\n",
       "      <td>18.353598</td>\n",
       "      <td>1.467440</td>\n",
       "      <td>20.339349</td>\n",
       "      <td>22.383429</td>\n",
       "      <td>22.526286</td>\n",
       "      <td>26.771429</td>\n",
       "      <td>343.789143</td>\n",
       "      <td>102.731178</td>\n",
       "      <td>0.502886</td>\n",
       "    </tr>\n",
       "    <tr>\n",
       "      <th>2</th>\n",
       "      <td>29.991000</td>\n",
       "      <td>102.410000</td>\n",
       "      <td>50.221359</td>\n",
       "      <td>14.961180</td>\n",
       "      <td>1.516016e+06</td>\n",
       "      <td>0.400000</td>\n",
       "      <td>24.000000</td>\n",
       "      <td>7.900000</td>\n",
       "      <td>32.550000</td>\n",
       "      <td>29.991000</td>\n",
       "      <td>...</td>\n",
       "      <td>113.241628</td>\n",
       "      <td>15272.841359</td>\n",
       "      <td>2.529918</td>\n",
       "      <td>21.801222</td>\n",
       "      <td>15.250000</td>\n",
       "      <td>15.250000</td>\n",
       "      <td>769806.500000</td>\n",
       "      <td>452827.500000</td>\n",
       "      <td>91.843360</td>\n",
       "      <td>0.840000</td>\n",
       "    </tr>\n",
       "    <tr>\n",
       "      <th>3</th>\n",
       "      <td>54.218620</td>\n",
       "      <td>104.782500</td>\n",
       "      <td>36.807201</td>\n",
       "      <td>11.879650</td>\n",
       "      <td>-2.719223e+05</td>\n",
       "      <td>1.484615</td>\n",
       "      <td>148.163462</td>\n",
       "      <td>33.832692</td>\n",
       "      <td>176.206923</td>\n",
       "      <td>53.488096</td>\n",
       "      <td>...</td>\n",
       "      <td>93.880993</td>\n",
       "      <td>508.260187</td>\n",
       "      <td>1.666070</td>\n",
       "      <td>19.196538</td>\n",
       "      <td>35.727019</td>\n",
       "      <td>35.823173</td>\n",
       "      <td>413.951923</td>\n",
       "      <td>3465.661538</td>\n",
       "      <td>142.906057</td>\n",
       "      <td>0.645962</td>\n",
       "    </tr>\n",
       "  </tbody>\n",
       "</table>\n",
       "<p>4 rows × 31 columns</p>\n",
       "</div>"
      ],
      "text/plain": [
       "         rural_pop_percent_17  food_production_index_17  ag_land_area_17  \\\n",
       "cluster                                                                    \n",
       "0                   28.392265                102.824490        36.526875   \n",
       "1                   62.294229                105.103429        48.055768   \n",
       "2                   29.991000                102.410000        50.221359   \n",
       "3                   54.218620                104.782500        36.807201   \n",
       "\n",
       "         arable_land_percent_2017  net_migration_2017  hiv_prevalence_2017  \\\n",
       "cluster                                                                      \n",
       "0                       15.010785        1.432858e+05             0.377551   \n",
       "1                       17.450271       -6.393191e+04             4.642857   \n",
       "2                       14.961180        1.516016e+06             0.400000   \n",
       "3                       11.879650       -2.719223e+05             1.484615   \n",
       "\n",
       "         mat_mortality_ratio_2017  under5_mortality_ratio_2017  \\\n",
       "cluster                                                          \n",
       "0                       24.748724                     9.563265   \n",
       "1                      530.314286                    77.594286   \n",
       "2                       24.000000                     7.900000   \n",
       "3                      148.163462                    33.832692   \n",
       "\n",
       "         tubercul_incidence_2017  elec_access_2017  ...  \\\n",
       "cluster                                             ...   \n",
       "0                      32.571429         28.392265  ...   \n",
       "1                     241.000000         62.294229  ...   \n",
       "2                      32.550000         29.991000  ...   \n",
       "3                     176.206923         53.488096  ...   \n",
       "\n",
       "         cell_subscriptions_per100  internet_per_mil_2017  military_exp_2017  \\\n",
       "cluster                                                                        \n",
       "0                       126.422658           10941.465646           1.902594   \n",
       "1                        71.191974              18.353598           1.467440   \n",
       "2                       113.241628           15272.841359           2.529918   \n",
       "3                        93.880993             508.260187           1.666070   \n",
       "\n",
       "         women_seats_percent_2017  male_bus_start_2017  female_bus_start_2017  \\\n",
       "cluster                                                                         \n",
       "0                       23.040274            13.435000              13.557449   \n",
       "1                       20.339349            22.383429              22.526286   \n",
       "2                       21.801222            15.250000              15.250000   \n",
       "3                       19.196538            35.727019              35.823173   \n",
       "\n",
       "         patent_apps_2017  sci_articles_2017  pop_density_2017       HDI  \n",
       "cluster                                                                   \n",
       "0             6137.729592       13562.853699        334.653262  0.834041  \n",
       "1               26.771429         343.789143        102.731178  0.502886  \n",
       "2           769806.500000      452827.500000         91.843360  0.840000  \n",
       "3              413.951923        3465.661538        142.906057  0.645962  \n",
       "\n",
       "[4 rows x 31 columns]"
      ]
     },
     "execution_count": 12,
     "metadata": {},
     "output_type": "execute_result"
    }
   ],
   "source": [
    "df.groupby('cluster').mean()"
   ]
  },
  {
   "cell_type": "code",
   "execution_count": 13,
   "id": "ba1e8d38-4afb-4681-ba1e-40940c011718",
   "metadata": {},
   "outputs": [
    {
     "data": {
      "text/plain": [
       "3820.9033826880104"
      ]
     },
     "execution_count": 13,
     "metadata": {},
     "output_type": "execute_result"
    }
   ],
   "source": [
    "km.inertia_"
   ]
  },
  {
   "cell_type": "code",
   "execution_count": 14,
   "id": "8bb8cbdf-f866-4bc8-a55b-6f11952c0b49",
   "metadata": {},
   "outputs": [
    {
     "data": {
      "text/plain": [
       "0.14985160961779542"
      ]
     },
     "execution_count": 14,
     "metadata": {},
     "output_type": "execute_result"
    }
   ],
   "source": [
    "silhouette_score(X_ss, km.labels_)"
   ]
  },
  {
   "cell_type": "code",
   "execution_count": 15,
   "id": "eb0c2a63-761f-42b7-8929-04e75e4810a2",
   "metadata": {},
   "outputs": [
    {
     "data": {
      "image/png": "[encoded data removed]",
      "text/plain": [
       "<Figure size 432x288 with 1 Axes>"
      ]
     },
     "metadata": {
      "needs_background": "light"
     },
     "output_type": "display_data"
    }
   ],
   "source": [
    "# the below code was adapted from lesson 7.01 on k-means clustering\n",
    "inertia_list = []\n",
    "\n",
    "for k in range(1,11):\n",
    "    km = KMeans(n_clusters= k, random_state=42)\n",
    "    km.fit(X_ss)\n",
    "    inertia_list.append(km.inertia_)\n",
    "\n",
    "plt.plot(range(1,11), inertia_list, marker = '*');\n",
    "plt.xlabel('number of clusters')\n",
    "plt.ylabel('Inertia')\n",
    "plt.title('inertia scores');"
   ]
  },
  {
   "cell_type": "code",
   "execution_count": 16,
   "id": "c318ca79-7872-468c-9f77-7bf549841f2b",
   "metadata": {
    "tags": []
   },
   "outputs": [
    {
     "data": {
      "image/png": "[encoded data removed]",
      "text/plain": [
       "<Figure size 432x288 with 1 Axes>"
      ]
     },
     "metadata": {
      "needs_background": "light"
     },
     "output_type": "display_data"
    }
   ],
   "source": [
    "silhouette_list = []\n",
    "\n",
    "for k in range(2,11):\n",
    "    km = KMeans(n_clusters = k, random_state= 42)\n",
    "    km.fit(X_ss)\n",
    "    silhouette_list.append(silhouette_score(X_ss, km.labels_))\n",
    "\n",
    "plt.plot(range(2,11), silhouette_list, marker='o');"
   ]
  },
  {
   "cell_type": "code",
   "execution_count": 17,
   "id": "67b87652-a27b-4b02-a4e8-c643328bc3b5",
   "metadata": {},
   "outputs": [],
   "source": [
    "# doesn't perform very well - try DBScan\n",
    "# will try to use one to feed \n",
    "# into regression or classification model"
   ]
  },
  {
   "cell_type": "code",
   "execution_count": 18,
   "id": "22b6cc89-292a-4317-9d29-78f8c2a038fb",
   "metadata": {},
   "outputs": [
    {
     "data": {
      "text/plain": [
       "KMeans(n_clusters=2, random_state=42)"
      ]
     },
     "execution_count": 18,
     "metadata": {},
     "output_type": "execute_result"
    }
   ],
   "source": [
    "# went with 2 as this appears optimal based on plots above\n",
    "km = KMeans(n_clusters = 2, random_state=42)\n",
    "km.fit(X_ss)"
   ]
  },
  {
   "cell_type": "code",
   "execution_count": 19,
   "id": "3666b012-7db7-45bc-8395-f71cb8042018",
   "metadata": {},
   "outputs": [
    {
     "name": "stdout",
     "output_type": "stream",
     "text": [
      "4484.843461534039\n"
     ]
    },
    {
     "data": {
      "text/plain": [
       "0.23270137140436237"
      ]
     },
     "execution_count": 19,
     "metadata": {},
     "output_type": "execute_result"
    }
   ],
   "source": [
    "print(km.inertia_)\n",
    "silhouette_score(X_ss, km.labels_)"
   ]
  },
  {
   "cell_type": "code",
   "execution_count": 20,
   "id": "88f0e394-b449-43d1-ac73-285014777c68",
   "metadata": {},
   "outputs": [],
   "source": [
    "df['cluster'] = km.labels_"
   ]
  },
  {
   "cell_type": "code",
   "execution_count": 21,
   "id": "030057ac-8176-4e86-b606-980c6a412cd2",
   "metadata": {},
   "outputs": [
    {
     "data": {
      "text/plain": [
       "0    123\n",
       "1     64\n",
       "Name: cluster, dtype: int64"
      ]
     },
     "execution_count": 21,
     "metadata": {},
     "output_type": "execute_result"
    }
   ],
   "source": [
    "df['cluster'].value_counts()"
   ]
  },
  {
   "cell_type": "code",
   "execution_count": 22,
   "id": "eefccc23-ccc2-4fa0-9b21-488c6a61dd4d",
   "metadata": {},
   "outputs": [],
   "source": [
    "cluster_0 = df.loc[df['cluster'] == 0]\n",
    "\n",
    "cluster_1 = df.loc[df['cluster'] == 1]"
   ]
  },
  {
   "cell_type": "markdown",
   "id": "5687caa7-926e-482f-90dd-a9560f11c891",
   "metadata": {},
   "source": [
    "-----\n",
    "### DBSCAN"
   ]
  },
  {
   "cell_type": "code",
   "execution_count": 23,
   "id": "46e5b49b-5fb4-4860-a1fa-6e3e419c689b",
   "metadata": {},
   "outputs": [
    {
     "data": {
      "text/plain": [
       "DBSCAN()"
      ]
     },
     "execution_count": 23,
     "metadata": {},
     "output_type": "execute_result"
    }
   ],
   "source": [
    "dbscan = DBSCAN()\n",
    "dbscan.fit(X_ss)"
   ]
  },
  {
   "cell_type": "code",
   "execution_count": 24,
   "id": "78cb5ea7-cc48-452d-83f3-568ab28db7e1",
   "metadata": {
    "tags": []
   },
   "outputs": [
    {
     "data": {
      "text/plain": [
       "array([-1])"
      ]
     },
     "execution_count": 24,
     "metadata": {},
     "output_type": "execute_result"
    }
   ],
   "source": [
    "# no clusters and all outliers. adjust parameters\n",
    "pd.Series(dbscan.labels_).unique()"
   ]
  },
  {
   "cell_type": "code",
   "execution_count": 25,
   "id": "a4826699-9041-467c-9027-3e02eb7d616b",
   "metadata": {},
   "outputs": [
    {
     "data": {
      "text/plain": [
       "array([-1])"
      ]
     },
     "execution_count": 25,
     "metadata": {},
     "output_type": "execute_result"
    }
   ],
   "source": [
    "dbscan = DBSCAN(eps = 2, min_samples = 5)\n",
    "dbscan.fit(X_ss)\n",
    "\n",
    "pd.Series(dbscan.labels_).unique()"
   ]
  },
  {
   "cell_type": "code",
   "execution_count": 26,
   "id": "09da0ebd-4bf4-49f5-aa9c-0f9e968b8d56",
   "metadata": {},
   "outputs": [
    {
     "data": {
      "text/plain": [
       "array([-1,  0,  1,  2])"
      ]
     },
     "execution_count": 26,
     "metadata": {},
     "output_type": "execute_result"
    }
   ],
   "source": [
    "dbscan = DBSCAN(eps = 2.5, min_samples = 4)\n",
    "dbscan.fit(X_ss)\n",
    "\n",
    "pd.Series(dbscan.labels_).unique()"
   ]
  },
  {
   "cell_type": "code",
   "execution_count": 27,
   "id": "4ef33545-e898-433b-a62e-214528fd8941",
   "metadata": {},
   "outputs": [
    {
     "name": "stdout",
     "output_type": "stream",
     "text": [
      "Kmeans silhouette score: 0.23270137140436237\n",
      "********************\n",
      "DBSCAN silhouette: -0.19446253565315505\n"
     ]
    }
   ],
   "source": [
    "print(f'Kmeans silhouette score: {silhouette_score(X_ss, km.labels_)}')\n",
    "print('*'*20)\n",
    "print(f'DBSCAN silhouette: {silhouette_score(X_ss, dbscan.labels_)}')"
   ]
  },
  {
   "cell_type": "code",
   "execution_count": 28,
   "id": "49f7391f-6f2f-48e0-a945-33ec970a775d",
   "metadata": {},
   "outputs": [],
   "source": [
    "# DBSCAN did not perform well (even after adjusting parameters)\n",
    "# Kmeans performs better in this case"
   ]
  },
  {
   "cell_type": "markdown",
   "id": "06417e28-d172-4e51-8463-8355936afb49",
   "metadata": {},
   "source": [
    "## Use KMeans output clusters for supervised model"
   ]
  },
  {
   "cell_type": "code",
   "execution_count": 29,
   "id": "7c6bd8a0-3a5f-49f1-9994-50bdd380b764",
   "metadata": {},
   "outputs": [
    {
     "data": {
      "text/html": [
       "<div>\n",
       "<style scoped>\n",
       "    .dataframe tbody tr th:only-of-type {\n",
       "        vertical-align: middle;\n",
       "    }\n",
       "\n",
       "    .dataframe tbody tr th {\n",
       "        vertical-align: top;\n",
       "    }\n",
       "\n",
       "    .dataframe thead th {\n",
       "        text-align: right;\n",
       "    }\n",
       "</style>\n",
       "<table border=\"1\" class=\"dataframe\">\n",
       "  <thead>\n",
       "    <tr style=\"text-align: right;\">\n",
       "      <th></th>\n",
       "      <th>Country Name</th>\n",
       "      <th>Country Code</th>\n",
       "      <th>rural_pop_percent_17</th>\n",
       "      <th>food_production_index_17</th>\n",
       "      <th>ag_land_area_17</th>\n",
       "      <th>arable_land_percent_2017</th>\n",
       "      <th>net_migration_2017</th>\n",
       "      <th>hiv_prevalence_2017</th>\n",
       "      <th>mat_mortality_ratio_2017</th>\n",
       "      <th>under5_mortality_ratio_2017</th>\n",
       "      <th>...</th>\n",
       "      <th>internet_per_mil_2017</th>\n",
       "      <th>military_exp_2017</th>\n",
       "      <th>women_seats_percent_2017</th>\n",
       "      <th>male_bus_start_2017</th>\n",
       "      <th>female_bus_start_2017</th>\n",
       "      <th>patent_apps_2017</th>\n",
       "      <th>sci_articles_2017</th>\n",
       "      <th>pop_density_2017</th>\n",
       "      <th>HDI</th>\n",
       "      <th>cluster</th>\n",
       "    </tr>\n",
       "  </thead>\n",
       "  <tbody>\n",
       "    <tr>\n",
       "      <th>0</th>\n",
       "      <td>Afghanistan</td>\n",
       "      <td>AFG</td>\n",
       "      <td>74.750</td>\n",
       "      <td>99.169998</td>\n",
       "      <td>58.067580</td>\n",
       "      <td>11.792727</td>\n",
       "      <td>-314602.0</td>\n",
       "      <td>0.1</td>\n",
       "      <td>638.0</td>\n",
       "      <td>64.8</td>\n",
       "      <td>...</td>\n",
       "      <td>43.448181</td>\n",
       "      <td>0.945227</td>\n",
       "      <td>27.710843</td>\n",
       "      <td>8.0</td>\n",
       "      <td>9.0</td>\n",
       "      <td>23.5</td>\n",
       "      <td>91.89</td>\n",
       "      <td>55.595550</td>\n",
       "      <td>0.509</td>\n",
       "      <td>1</td>\n",
       "    </tr>\n",
       "    <tr>\n",
       "      <th>1</th>\n",
       "      <td>Angola</td>\n",
       "      <td>AGO</td>\n",
       "      <td>35.161</td>\n",
       "      <td>103.419998</td>\n",
       "      <td>45.237371</td>\n",
       "      <td>3.930376</td>\n",
       "      <td>32066.0</td>\n",
       "      <td>1.9</td>\n",
       "      <td>241.0</td>\n",
       "      <td>80.6</td>\n",
       "      <td>...</td>\n",
       "      <td>10.799292</td>\n",
       "      <td>2.507985</td>\n",
       "      <td>30.454545</td>\n",
       "      <td>36.0</td>\n",
       "      <td>36.0</td>\n",
       "      <td>23.5</td>\n",
       "      <td>55.50</td>\n",
       "      <td>23.916555</td>\n",
       "      <td>0.582</td>\n",
       "      <td>1</td>\n",
       "    </tr>\n",
       "    <tr>\n",
       "      <th>2</th>\n",
       "      <td>Albania</td>\n",
       "      <td>ALB</td>\n",
       "      <td>40.617</td>\n",
       "      <td>103.980003</td>\n",
       "      <td>42.670839</td>\n",
       "      <td>22.149635</td>\n",
       "      <td>-69998.0</td>\n",
       "      <td>0.1</td>\n",
       "      <td>15.0</td>\n",
       "      <td>9.4</td>\n",
       "      <td>...</td>\n",
       "      <td>443.020376</td>\n",
       "      <td>1.108696</td>\n",
       "      <td>27.857143</td>\n",
       "      <td>5.0</td>\n",
       "      <td>5.0</td>\n",
       "      <td>16.0</td>\n",
       "      <td>149.54</td>\n",
       "      <td>104.870693</td>\n",
       "      <td>0.792</td>\n",
       "      <td>0</td>\n",
       "    </tr>\n",
       "    <tr>\n",
       "      <th>3</th>\n",
       "      <td>Andorra</td>\n",
       "      <td>AND</td>\n",
       "      <td>11.850</td>\n",
       "      <td>102.830002</td>\n",
       "      <td>40.042553</td>\n",
       "      <td>1.744681</td>\n",
       "      <td>-4999.0</td>\n",
       "      <td>0.4</td>\n",
       "      <td>13.5</td>\n",
       "      <td>3.0</td>\n",
       "      <td>...</td>\n",
       "      <td>3415.717495</td>\n",
       "      <td>1.430273</td>\n",
       "      <td>32.142857</td>\n",
       "      <td>13.0</td>\n",
       "      <td>13.0</td>\n",
       "      <td>23.5</td>\n",
       "      <td>2.01</td>\n",
       "      <td>163.823404</td>\n",
       "      <td>0.867</td>\n",
       "      <td>0</td>\n",
       "    </tr>\n",
       "    <tr>\n",
       "      <th>4</th>\n",
       "      <td>United Arab Emirates</td>\n",
       "      <td>ARE</td>\n",
       "      <td>13.752</td>\n",
       "      <td>104.180000</td>\n",
       "      <td>5.404112</td>\n",
       "      <td>0.626584</td>\n",
       "      <td>200000.0</td>\n",
       "      <td>0.1</td>\n",
       "      <td>3.0</td>\n",
       "      <td>7.2</td>\n",
       "      <td>...</td>\n",
       "      <td>1285.099111</td>\n",
       "      <td>1.430273</td>\n",
       "      <td>22.500000</td>\n",
       "      <td>8.0</td>\n",
       "      <td>9.0</td>\n",
       "      <td>63.0</td>\n",
       "      <td>2899.67</td>\n",
       "      <td>133.584990</td>\n",
       "      <td>0.889</td>\n",
       "      <td>0</td>\n",
       "    </tr>\n",
       "  </tbody>\n",
       "</table>\n",
       "<p>5 rows × 34 columns</p>\n",
       "</div>"
      ],
      "text/plain": [
       "           Country Name Country Code  rural_pop_percent_17  \\\n",
       "0           Afghanistan          AFG                74.750   \n",
       "1                Angola          AGO                35.161   \n",
       "2               Albania          ALB                40.617   \n",
       "3               Andorra          AND                11.850   \n",
       "4  United Arab Emirates          ARE                13.752   \n",
       "\n",
       "   food_production_index_17  ag_land_area_17  arable_land_percent_2017  \\\n",
       "0                 99.169998        58.067580                 11.792727   \n",
       "1                103.419998        45.237371                  3.930376   \n",
       "2                103.980003        42.670839                 22.149635   \n",
       "3                102.830002        40.042553                  1.744681   \n",
       "4                104.180000         5.404112                  0.626584   \n",
       "\n",
       "   net_migration_2017  hiv_prevalence_2017  mat_mortality_ratio_2017  \\\n",
       "0           -314602.0                  0.1                     638.0   \n",
       "1             32066.0                  1.9                     241.0   \n",
       "2            -69998.0                  0.1                      15.0   \n",
       "3             -4999.0                  0.4                      13.5   \n",
       "4            200000.0                  0.1                       3.0   \n",
       "\n",
       "   under5_mortality_ratio_2017  ...  internet_per_mil_2017  military_exp_2017  \\\n",
       "0                         64.8  ...              43.448181           0.945227   \n",
       "1                         80.6  ...              10.799292           2.507985   \n",
       "2                          9.4  ...             443.020376           1.108696   \n",
       "3                          3.0  ...            3415.717495           1.430273   \n",
       "4                          7.2  ...            1285.099111           1.430273   \n",
       "\n",
       "   women_seats_percent_2017  male_bus_start_2017  female_bus_start_2017  \\\n",
       "0                 27.710843                  8.0                    9.0   \n",
       "1                 30.454545                 36.0                   36.0   \n",
       "2                 27.857143                  5.0                    5.0   \n",
       "3                 32.142857                 13.0                   13.0   \n",
       "4                 22.500000                  8.0                    9.0   \n",
       "\n",
       "   patent_apps_2017  sci_articles_2017  pop_density_2017    HDI  cluster  \n",
       "0              23.5              91.89         55.595550  0.509        1  \n",
       "1              23.5              55.50         23.916555  0.582        1  \n",
       "2              16.0             149.54        104.870693  0.792        0  \n",
       "3              23.5               2.01        163.823404  0.867        0  \n",
       "4              63.0            2899.67        133.584990  0.889        0  \n",
       "\n",
       "[5 rows x 34 columns]"
      ]
     },
     "execution_count": 29,
     "metadata": {},
     "output_type": "execute_result"
    }
   ],
   "source": [
    "df.head()"
   ]
  },
  {
   "cell_type": "code",
   "execution_count": 30,
   "id": "7f8bc013-1c9c-4790-b615-18fd1b939c89",
   "metadata": {},
   "outputs": [
    {
     "data": {
      "text/plain": [
       "0    123\n",
       "1     64\n",
       "Name: cluster, dtype: int64"
      ]
     },
     "execution_count": 30,
     "metadata": {},
     "output_type": "execute_result"
    }
   ],
   "source": [
    "df['cluster'].value_counts()"
   ]
  },
  {
   "cell_type": "code",
   "execution_count": 31,
   "id": "7b861556-de92-4854-91db-3884d43638e8",
   "metadata": {},
   "outputs": [
    {
     "data": {
      "text/plain": [
       "0    0.657754\n",
       "1    0.342246\n",
       "Name: cluster, dtype: float64"
      ]
     },
     "execution_count": 31,
     "metadata": {},
     "output_type": "execute_result"
    }
   ],
   "source": [
    "df['cluster'].value_counts(normalize = True)"
   ]
  },
  {
   "cell_type": "code",
   "execution_count": 32,
   "id": "fb1d9633-4b0e-43f2-83d8-46441510a1ca",
   "metadata": {},
   "outputs": [],
   "source": [
    "X = df.drop(columns=['Country Name', 'Country Code', 'HDI'])\n",
    "y = df['HDI']"
   ]
  },
  {
   "cell_type": "code",
   "execution_count": 33,
   "id": "703118c0-ce2f-4a33-bd9c-fda3766d2797",
   "metadata": {},
   "outputs": [],
   "source": [
    "lr = LinearRegression()\n",
    "\n",
    "X_train, X_test, y_train, y_test = train_test_split(X, y)"
   ]
  },
  {
   "cell_type": "code",
   "execution_count": 34,
   "id": "611845a2-8770-4c28-8cc7-db9a87bf509b",
   "metadata": {},
   "outputs": [
    {
     "data": {
      "text/plain": [
       "LinearRegression()"
      ]
     },
     "execution_count": 34,
     "metadata": {},
     "output_type": "execute_result"
    }
   ],
   "source": [
    "lr.fit(X_train, y_train)"
   ]
  },
  {
   "cell_type": "code",
   "execution_count": 35,
   "id": "c0ef5ab0-afed-4d9f-81ad-668ea13ccfa7",
   "metadata": {},
   "outputs": [
    {
     "data": {
      "text/plain": [
       "0.950488392446978"
      ]
     },
     "execution_count": 35,
     "metadata": {},
     "output_type": "execute_result"
    }
   ],
   "source": [
    "lr.score(X_train, y_train)"
   ]
  },
  {
   "cell_type": "code",
   "execution_count": 36,
   "id": "3c9c4fbc-17be-451d-9c0c-2600c3b92c0b",
   "metadata": {},
   "outputs": [
    {
     "data": {
      "text/plain": [
       "0.8466035619773518"
      ]
     },
     "execution_count": 36,
     "metadata": {},
     "output_type": "execute_result"
    }
   ],
   "source": [
    "lr.score(X_test, y_test)"
   ]
  },
  {
   "cell_type": "markdown",
   "id": "e57bb595-5246-47cc-b506-6874cc6a2f53",
   "metadata": {},
   "source": [
    "-----\n",
    "### KMeans Clustering with select columns from best linear regression model\n"
   ]
  },
  {
   "cell_type": "code",
   "execution_count": 37,
   "id": "f9d6ffaa-d550-4ea6-a955-1c262446a491",
   "metadata": {
    "tags": []
   },
   "outputs": [],
   "source": [
    "features = ['co2_emissions_2017','atm_access_2017', 'cell_subscriptions_per100', 'internet_per_mil_2017','foreign_dir_inv_2017','adol_fertility_rate_2017',\n",
    "            'food_production_index_17', 'female_bus_start_2017', 'undernourished_rate_2017', 'mat_mortality_ratio_2017', 'pop_air_pollution_2017', \n",
    "            'rural_pop_percent_17', 'fertility_rate_2017','under5_mortality_ratio_2017']\n",
    "            \n",
    "X = df[features]"
   ]
  },
  {
   "cell_type": "code",
   "execution_count": 38,
   "id": "a4235404-739f-4544-9914-f2628d4cec56",
   "metadata": {},
   "outputs": [],
   "source": [
    "ss = StandardScaler()\n",
    "X_ss = ss.fit_transform(X)"
   ]
  },
  {
   "cell_type": "code",
   "execution_count": 39,
   "id": "3a3c47b9-4305-461d-8df3-d512dd7133a0",
   "metadata": {},
   "outputs": [
    {
     "data": {
      "text/plain": [
       "KMeans(n_clusters=4, random_state=42)"
      ]
     },
     "execution_count": 39,
     "metadata": {},
     "output_type": "execute_result"
    }
   ],
   "source": [
    "# went with 4 as there are 4 cutoffs for development levels with HDI\n",
    "km = KMeans(n_clusters = 4, random_state=42)\n",
    "km.fit(X_ss)"
   ]
  },
  {
   "cell_type": "code",
   "execution_count": 40,
   "id": "8115e79a-491a-4f65-8703-676b2048fa1f",
   "metadata": {},
   "outputs": [
    {
     "data": {
      "text/plain": [
       "array([1, 1, 0, 0, 0, 0, 0, 0, 3, 0, 2, 1, 0, 1, 1, 2, 0, 0, 0, 0, 0, 2,\n",
       "       2, 0, 2, 0, 2, 2, 1, 3, 3, 0, 3, 1, 1, 1, 1, 2, 1, 0, 2, 0, 0, 3,\n",
       "       2, 2, 0, 2, 2, 2, 1, 0, 0, 1, 0, 2, 0, 2, 2, 3, 0, 2, 1, 1, 1, 1,\n",
       "       0, 2, 2, 2, 3, 2, 0, 1, 0, 2, 2, 3, 0, 1, 3, 0, 0, 2, 0, 0, 0, 1,\n",
       "       2, 2, 2, 0, 0, 0, 2, 0, 1, 0, 2, 0, 2, 1, 0, 3, 0, 2, 2, 1, 0, 0,\n",
       "       2, 0, 1, 0, 2, 0, 0, 1, 1, 0, 1, 0, 2, 1, 1, 2, 3, 0, 2, 0, 0, 2,\n",
       "       0, 0, 2, 0, 2, 0, 0, 2, 2, 0, 0, 0, 1, 0, 1, 2, 3, 2, 1, 2, 0, 1,\n",
       "       2, 2, 0, 0, 0, 2, 3, 2, 1, 1, 0, 2, 0, 2, 2, 0, 0, 0, 1, 1, 0, 0,\n",
       "       3, 2, 2, 2, 2, 2, 2, 1, 0, 1, 1], dtype=int32)"
      ]
     },
     "execution_count": 40,
     "metadata": {},
     "output_type": "execute_result"
    }
   ],
   "source": [
    "km.labels_"
   ]
  },
  {
   "cell_type": "code",
   "execution_count": 41,
   "id": "d91074cb-d874-4137-8081-c93fc8047ad3",
   "metadata": {},
   "outputs": [],
   "source": [
    "df['cluster'] = km.labels_"
   ]
  },
  {
   "cell_type": "code",
   "execution_count": 42,
   "id": "32d3429d-5bc3-44c1-8eb4-abce40842d74",
   "metadata": {},
   "outputs": [
    {
     "data": {
      "text/html": [
       "<div>\n",
       "<style scoped>\n",
       "    .dataframe tbody tr th:only-of-type {\n",
       "        vertical-align: middle;\n",
       "    }\n",
       "\n",
       "    .dataframe tbody tr th {\n",
       "        vertical-align: top;\n",
       "    }\n",
       "\n",
       "    .dataframe thead th {\n",
       "        text-align: right;\n",
       "    }\n",
       "</style>\n",
       "<table border=\"1\" class=\"dataframe\">\n",
       "  <thead>\n",
       "    <tr style=\"text-align: right;\">\n",
       "      <th></th>\n",
       "      <th>rural_pop_percent_17</th>\n",
       "      <th>food_production_index_17</th>\n",
       "      <th>ag_land_area_17</th>\n",
       "      <th>arable_land_percent_2017</th>\n",
       "      <th>net_migration_2017</th>\n",
       "      <th>hiv_prevalence_2017</th>\n",
       "      <th>mat_mortality_ratio_2017</th>\n",
       "      <th>under5_mortality_ratio_2017</th>\n",
       "      <th>tubercul_incidence_2017</th>\n",
       "      <th>elec_access_2017</th>\n",
       "      <th>...</th>\n",
       "      <th>cell_subscriptions_per100</th>\n",
       "      <th>internet_per_mil_2017</th>\n",
       "      <th>military_exp_2017</th>\n",
       "      <th>women_seats_percent_2017</th>\n",
       "      <th>male_bus_start_2017</th>\n",
       "      <th>female_bus_start_2017</th>\n",
       "      <th>patent_apps_2017</th>\n",
       "      <th>sci_articles_2017</th>\n",
       "      <th>pop_density_2017</th>\n",
       "      <th>HDI</th>\n",
       "    </tr>\n",
       "    <tr>\n",
       "      <th>cluster</th>\n",
       "      <th></th>\n",
       "      <th></th>\n",
       "      <th></th>\n",
       "      <th></th>\n",
       "      <th></th>\n",
       "      <th></th>\n",
       "      <th></th>\n",
       "      <th></th>\n",
       "      <th></th>\n",
       "      <th></th>\n",
       "      <th></th>\n",
       "      <th></th>\n",
       "      <th></th>\n",
       "      <th></th>\n",
       "      <th></th>\n",
       "      <th></th>\n",
       "      <th></th>\n",
       "      <th></th>\n",
       "      <th></th>\n",
       "      <th></th>\n",
       "      <th></th>\n",
       "    </tr>\n",
       "  </thead>\n",
       "  <tbody>\n",
       "    <tr>\n",
       "      <th>0</th>\n",
       "      <td>28.391500</td>\n",
       "      <td>101.847973</td>\n",
       "      <td>35.833134</td>\n",
       "      <td>15.096918</td>\n",
       "      <td>103583.270270</td>\n",
       "      <td>0.639189</td>\n",
       "      <td>22.400338</td>\n",
       "      <td>8.868919</td>\n",
       "      <td>43.133784</td>\n",
       "      <td>28.391500</td>\n",
       "      <td>...</td>\n",
       "      <td>129.479738</td>\n",
       "      <td>6748.068731</td>\n",
       "      <td>1.929353</td>\n",
       "      <td>22.274052</td>\n",
       "      <td>15.988243</td>\n",
       "      <td>16.150405</td>\n",
       "      <td>7123.621622</td>\n",
       "      <td>12476.075000</td>\n",
       "      <td>182.185417</td>\n",
       "      <td>0.833730</td>\n",
       "    </tr>\n",
       "    <tr>\n",
       "      <th>1</th>\n",
       "      <td>61.051856</td>\n",
       "      <td>103.886250</td>\n",
       "      <td>47.435567</td>\n",
       "      <td>16.689643</td>\n",
       "      <td>-68524.275000</td>\n",
       "      <td>3.392500</td>\n",
       "      <td>504.525000</td>\n",
       "      <td>74.922500</td>\n",
       "      <td>208.050000</td>\n",
       "      <td>60.102175</td>\n",
       "      <td>...</td>\n",
       "      <td>69.641111</td>\n",
       "      <td>15.658063</td>\n",
       "      <td>1.577612</td>\n",
       "      <td>20.369384</td>\n",
       "      <td>24.035500</td>\n",
       "      <td>24.235500</td>\n",
       "      <td>47.325000</td>\n",
       "      <td>368.574250</td>\n",
       "      <td>104.169352</td>\n",
       "      <td>0.504775</td>\n",
       "    </tr>\n",
       "    <tr>\n",
       "      <th>2</th>\n",
       "      <td>51.445203</td>\n",
       "      <td>105.952373</td>\n",
       "      <td>37.498899</td>\n",
       "      <td>13.038927</td>\n",
       "      <td>-238522.372881</td>\n",
       "      <td>1.535593</td>\n",
       "      <td>113.966102</td>\n",
       "      <td>28.827119</td>\n",
       "      <td>153.948475</td>\n",
       "      <td>51.445203</td>\n",
       "      <td>...</td>\n",
       "      <td>97.775737</td>\n",
       "      <td>489.597852</td>\n",
       "      <td>1.730440</td>\n",
       "      <td>19.761226</td>\n",
       "      <td>28.954322</td>\n",
       "      <td>28.988220</td>\n",
       "      <td>364.211864</td>\n",
       "      <td>3107.533559</td>\n",
       "      <td>160.182911</td>\n",
       "      <td>0.676542</td>\n",
       "    </tr>\n",
       "    <tr>\n",
       "      <th>3</th>\n",
       "      <td>18.841286</td>\n",
       "      <td>104.681428</td>\n",
       "      <td>36.749515</td>\n",
       "      <td>12.530440</td>\n",
       "      <td>703220.714286</td>\n",
       "      <td>0.278571</td>\n",
       "      <td>12.589286</td>\n",
       "      <td>5.292857</td>\n",
       "      <td>18.428571</td>\n",
       "      <td>18.841286</td>\n",
       "      <td>...</td>\n",
       "      <td>132.394357</td>\n",
       "      <td>42929.395703</td>\n",
       "      <td>1.538393</td>\n",
       "      <td>27.334207</td>\n",
       "      <td>9.678571</td>\n",
       "      <td>9.678571</td>\n",
       "      <td>115217.392857</td>\n",
       "      <td>93267.477321</td>\n",
       "      <td>1207.651845</td>\n",
       "      <td>0.914571</td>\n",
       "    </tr>\n",
       "  </tbody>\n",
       "</table>\n",
       "<p>4 rows × 31 columns</p>\n",
       "</div>"
      ],
      "text/plain": [
       "         rural_pop_percent_17  food_production_index_17  ag_land_area_17  \\\n",
       "cluster                                                                    \n",
       "0                   28.391500                101.847973        35.833134   \n",
       "1                   61.051856                103.886250        47.435567   \n",
       "2                   51.445203                105.952373        37.498899   \n",
       "3                   18.841286                104.681428        36.749515   \n",
       "\n",
       "         arable_land_percent_2017  net_migration_2017  hiv_prevalence_2017  \\\n",
       "cluster                                                                      \n",
       "0                       15.096918       103583.270270             0.639189   \n",
       "1                       16.689643       -68524.275000             3.392500   \n",
       "2                       13.038927      -238522.372881             1.535593   \n",
       "3                       12.530440       703220.714286             0.278571   \n",
       "\n",
       "         mat_mortality_ratio_2017  under5_mortality_ratio_2017  \\\n",
       "cluster                                                          \n",
       "0                       22.400338                     8.868919   \n",
       "1                      504.525000                    74.922500   \n",
       "2                      113.966102                    28.827119   \n",
       "3                       12.589286                     5.292857   \n",
       "\n",
       "         tubercul_incidence_2017  elec_access_2017  ...  \\\n",
       "cluster                                             ...   \n",
       "0                      43.133784         28.391500  ...   \n",
       "1                     208.050000         60.102175  ...   \n",
       "2                     153.948475         51.445203  ...   \n",
       "3                      18.428571         18.841286  ...   \n",
       "\n",
       "         cell_subscriptions_per100  internet_per_mil_2017  military_exp_2017  \\\n",
       "cluster                                                                        \n",
       "0                       129.479738            6748.068731           1.929353   \n",
       "1                        69.641111              15.658063           1.577612   \n",
       "2                        97.775737             489.597852           1.730440   \n",
       "3                       132.394357           42929.395703           1.538393   \n",
       "\n",
       "         women_seats_percent_2017  male_bus_start_2017  female_bus_start_2017  \\\n",
       "cluster                                                                         \n",
       "0                       22.274052            15.988243              16.150405   \n",
       "1                       20.369384            24.035500              24.235500   \n",
       "2                       19.761226            28.954322              28.988220   \n",
       "3                       27.334207             9.678571               9.678571   \n",
       "\n",
       "         patent_apps_2017  sci_articles_2017  pop_density_2017       HDI  \n",
       "cluster                                                                   \n",
       "0             7123.621622       12476.075000        182.185417  0.833730  \n",
       "1               47.325000         368.574250        104.169352  0.504775  \n",
       "2              364.211864        3107.533559        160.182911  0.676542  \n",
       "3           115217.392857       93267.477321       1207.651845  0.914571  \n",
       "\n",
       "[4 rows x 31 columns]"
      ]
     },
     "execution_count": 42,
     "metadata": {},
     "output_type": "execute_result"
    }
   ],
   "source": [
    "df.groupby('cluster').mean()"
   ]
  },
  {
   "cell_type": "code",
   "execution_count": 43,
   "id": "ee144175-487d-4165-908a-5a616fac7f9e",
   "metadata": {},
   "outputs": [
    {
     "data": {
      "text/plain": [
       "1450.3890751533181"
      ]
     },
     "execution_count": 43,
     "metadata": {},
     "output_type": "execute_result"
    }
   ],
   "source": [
    "km.inertia_"
   ]
  },
  {
   "cell_type": "code",
   "execution_count": 44,
   "id": "e212590d-ea8a-494d-a026-53191c637a87",
   "metadata": {},
   "outputs": [
    {
     "data": {
      "text/plain": [
       "0.17341656735597652"
      ]
     },
     "execution_count": 44,
     "metadata": {},
     "output_type": "execute_result"
    }
   ],
   "source": [
    "silhouette_score(X_ss, km.labels_)"
   ]
  },
  {
   "cell_type": "code",
   "execution_count": 45,
   "id": "dfd640aa-826b-4f07-9472-39038912cc34",
   "metadata": {},
   "outputs": [
    {
     "data": {
      "image/png": "[encoded data removed]",
      "text/plain": [
       "<Figure size 432x288 with 1 Axes>"
      ]
     },
     "metadata": {
      "needs_background": "light"
     },
     "output_type": "display_data"
    }
   ],
   "source": [
    "# the below code was adapted from lesson 7.01 on k-means clustering\n",
    "inertia_list = []\n",
    "\n",
    "for k in range(1,11):\n",
    "    km = KMeans(n_clusters= k, random_state=42)\n",
    "    km.fit(X_ss)\n",
    "    inertia_list.append(km.inertia_)\n",
    "\n",
    "plt.plot(range(1,11), inertia_list, marker = '*');\n",
    "plt.xlabel('number of clusters')\n",
    "plt.ylabel('Inertia')\n",
    "plt.title('inertia scores');"
   ]
  },
  {
   "cell_type": "code",
   "execution_count": 46,
   "id": "6837ad37-9829-4e5d-99ea-ccbbb433169b",
   "metadata": {
    "tags": []
   },
   "outputs": [
    {
     "data": {
      "image/png": "[encoded data removed]",
      "text/plain": [
       "<Figure size 432x288 with 1 Axes>"
      ]
     },
     "metadata": {
      "needs_background": "light"
     },
     "output_type": "display_data"
    }
   ],
   "source": [
    "silhouette_list = []\n",
    "\n",
    "for k in range(2,11):\n",
    "    km = KMeans(n_clusters = k, random_state= 42)\n",
    "    km.fit(X_ss)\n",
    "    silhouette_list.append(silhouette_score(X_ss, km.labels_))\n",
    "\n",
    "plt.plot(range(2,11), silhouette_list, marker='o');"
   ]
  },
  {
   "cell_type": "code",
   "execution_count": 47,
   "id": "a21aec77-6b8c-4eb5-a931-6062cd2436a0",
   "metadata": {},
   "outputs": [
    {
     "data": {
      "text/plain": [
       "KMeans(n_clusters=2, random_state=42)"
      ]
     },
     "execution_count": 47,
     "metadata": {},
     "output_type": "execute_result"
    }
   ],
   "source": [
    "# went with 2 as this appears optimal based on plots above\n",
    "km = KMeans(n_clusters = 2, random_state=42)\n",
    "km.fit(X_ss)"
   ]
  },
  {
   "cell_type": "code",
   "execution_count": 48,
   "id": "90f5dd01-81e7-4736-9e2e-34566a7e8d6d",
   "metadata": {},
   "outputs": [
    {
     "name": "stdout",
     "output_type": "stream",
     "text": [
      "1810.922079118712\n"
     ]
    },
    {
     "data": {
      "text/plain": [
       "0.31585120486855384"
      ]
     },
     "execution_count": 48,
     "metadata": {},
     "output_type": "execute_result"
    }
   ],
   "source": [
    "print(km.inertia_)\n",
    "silhouette_score(X_ss, km.labels_)"
   ]
  },
  {
   "cell_type": "code",
   "execution_count": 49,
   "id": "e1df9815-72bd-4f55-8620-c1378cbb93f2",
   "metadata": {},
   "outputs": [],
   "source": [
    "df['cluster'] = km.labels_"
   ]
  },
  {
   "cell_type": "code",
   "execution_count": 50,
   "id": "ae3c45e2-3631-4850-834c-44202ee86353",
   "metadata": {},
   "outputs": [
    {
     "data": {
      "text/plain": [
       "0    124\n",
       "1     63\n",
       "Name: cluster, dtype: int64"
      ]
     },
     "execution_count": 50,
     "metadata": {},
     "output_type": "execute_result"
    }
   ],
   "source": [
    "df['cluster'].value_counts()"
   ]
  },
  {
   "cell_type": "code",
   "execution_count": null,
   "id": "6e42a77f-47ac-4946-8da0-502f06a7343b",
   "metadata": {},
   "outputs": [],
   "source": []
  },
  {
   "cell_type": "code",
   "execution_count": 52,
   "id": "f60b5595-cbe0-4468-8c72-55de5fddafd1",
   "metadata": {},
   "outputs": [
    {
     "data": {
      "text/html": [
       "<div>\n",
       "<style scoped>\n",
       "    .dataframe tbody tr th:only-of-type {\n",
       "        vertical-align: middle;\n",
       "    }\n",
       "\n",
       "    .dataframe tbody tr th {\n",
       "        vertical-align: top;\n",
       "    }\n",
       "\n",
       "    .dataframe thead th {\n",
       "        text-align: right;\n",
       "    }\n",
       "</style>\n",
       "<table border=\"1\" class=\"dataframe\">\n",
       "  <thead>\n",
       "    <tr style=\"text-align: right;\">\n",
       "      <th></th>\n",
       "      <th>Country Name</th>\n",
       "      <th>Country Code</th>\n",
       "      <th>rural_pop_percent_17</th>\n",
       "      <th>food_production_index_17</th>\n",
       "      <th>ag_land_area_17</th>\n",
       "      <th>arable_land_percent_2017</th>\n",
       "      <th>net_migration_2017</th>\n",
       "      <th>hiv_prevalence_2017</th>\n",
       "      <th>mat_mortality_ratio_2017</th>\n",
       "      <th>under5_mortality_ratio_2017</th>\n",
       "      <th>...</th>\n",
       "      <th>internet_per_mil_2017</th>\n",
       "      <th>military_exp_2017</th>\n",
       "      <th>women_seats_percent_2017</th>\n",
       "      <th>male_bus_start_2017</th>\n",
       "      <th>female_bus_start_2017</th>\n",
       "      <th>patent_apps_2017</th>\n",
       "      <th>sci_articles_2017</th>\n",
       "      <th>pop_density_2017</th>\n",
       "      <th>HDI</th>\n",
       "      <th>cluster</th>\n",
       "    </tr>\n",
       "  </thead>\n",
       "  <tbody>\n",
       "    <tr>\n",
       "      <th>0</th>\n",
       "      <td>Afghanistan</td>\n",
       "      <td>AFG</td>\n",
       "      <td>74.750</td>\n",
       "      <td>99.169998</td>\n",
       "      <td>58.067580</td>\n",
       "      <td>11.792727</td>\n",
       "      <td>-314602.0</td>\n",
       "      <td>0.1</td>\n",
       "      <td>638.0</td>\n",
       "      <td>64.8</td>\n",
       "      <td>...</td>\n",
       "      <td>43.448181</td>\n",
       "      <td>0.945227</td>\n",
       "      <td>27.710843</td>\n",
       "      <td>8.0</td>\n",
       "      <td>9.0</td>\n",
       "      <td>23.5</td>\n",
       "      <td>91.89</td>\n",
       "      <td>55.595550</td>\n",
       "      <td>0.509</td>\n",
       "      <td>1</td>\n",
       "    </tr>\n",
       "    <tr>\n",
       "      <th>1</th>\n",
       "      <td>Angola</td>\n",
       "      <td>AGO</td>\n",
       "      <td>35.161</td>\n",
       "      <td>103.419998</td>\n",
       "      <td>45.237371</td>\n",
       "      <td>3.930376</td>\n",
       "      <td>32066.0</td>\n",
       "      <td>1.9</td>\n",
       "      <td>241.0</td>\n",
       "      <td>80.6</td>\n",
       "      <td>...</td>\n",
       "      <td>10.799292</td>\n",
       "      <td>2.507985</td>\n",
       "      <td>30.454545</td>\n",
       "      <td>36.0</td>\n",
       "      <td>36.0</td>\n",
       "      <td>23.5</td>\n",
       "      <td>55.50</td>\n",
       "      <td>23.916555</td>\n",
       "      <td>0.582</td>\n",
       "      <td>1</td>\n",
       "    </tr>\n",
       "    <tr>\n",
       "      <th>2</th>\n",
       "      <td>Albania</td>\n",
       "      <td>ALB</td>\n",
       "      <td>40.617</td>\n",
       "      <td>103.980003</td>\n",
       "      <td>42.670839</td>\n",
       "      <td>22.149635</td>\n",
       "      <td>-69998.0</td>\n",
       "      <td>0.1</td>\n",
       "      <td>15.0</td>\n",
       "      <td>9.4</td>\n",
       "      <td>...</td>\n",
       "      <td>443.020376</td>\n",
       "      <td>1.108696</td>\n",
       "      <td>27.857143</td>\n",
       "      <td>5.0</td>\n",
       "      <td>5.0</td>\n",
       "      <td>16.0</td>\n",
       "      <td>149.54</td>\n",
       "      <td>104.870693</td>\n",
       "      <td>0.792</td>\n",
       "      <td>0</td>\n",
       "    </tr>\n",
       "    <tr>\n",
       "      <th>3</th>\n",
       "      <td>Andorra</td>\n",
       "      <td>AND</td>\n",
       "      <td>11.850</td>\n",
       "      <td>102.830002</td>\n",
       "      <td>40.042553</td>\n",
       "      <td>1.744681</td>\n",
       "      <td>-4999.0</td>\n",
       "      <td>0.4</td>\n",
       "      <td>13.5</td>\n",
       "      <td>3.0</td>\n",
       "      <td>...</td>\n",
       "      <td>3415.717495</td>\n",
       "      <td>1.430273</td>\n",
       "      <td>32.142857</td>\n",
       "      <td>13.0</td>\n",
       "      <td>13.0</td>\n",
       "      <td>23.5</td>\n",
       "      <td>2.01</td>\n",
       "      <td>163.823404</td>\n",
       "      <td>0.867</td>\n",
       "      <td>0</td>\n",
       "    </tr>\n",
       "    <tr>\n",
       "      <th>4</th>\n",
       "      <td>United Arab Emirates</td>\n",
       "      <td>ARE</td>\n",
       "      <td>13.752</td>\n",
       "      <td>104.180000</td>\n",
       "      <td>5.404112</td>\n",
       "      <td>0.626584</td>\n",
       "      <td>200000.0</td>\n",
       "      <td>0.1</td>\n",
       "      <td>3.0</td>\n",
       "      <td>7.2</td>\n",
       "      <td>...</td>\n",
       "      <td>1285.099111</td>\n",
       "      <td>1.430273</td>\n",
       "      <td>22.500000</td>\n",
       "      <td>8.0</td>\n",
       "      <td>9.0</td>\n",
       "      <td>63.0</td>\n",
       "      <td>2899.67</td>\n",
       "      <td>133.584990</td>\n",
       "      <td>0.889</td>\n",
       "      <td>0</td>\n",
       "    </tr>\n",
       "  </tbody>\n",
       "</table>\n",
       "<p>5 rows × 34 columns</p>\n",
       "</div>"
      ],
      "text/plain": [
       "           Country Name Country Code  rural_pop_percent_17  \\\n",
       "0           Afghanistan          AFG                74.750   \n",
       "1                Angola          AGO                35.161   \n",
       "2               Albania          ALB                40.617   \n",
       "3               Andorra          AND                11.850   \n",
       "4  United Arab Emirates          ARE                13.752   \n",
       "\n",
       "   food_production_index_17  ag_land_area_17  arable_land_percent_2017  \\\n",
       "0                 99.169998        58.067580                 11.792727   \n",
       "1                103.419998        45.237371                  3.930376   \n",
       "2                103.980003        42.670839                 22.149635   \n",
       "3                102.830002        40.042553                  1.744681   \n",
       "4                104.180000         5.404112                  0.626584   \n",
       "\n",
       "   net_migration_2017  hiv_prevalence_2017  mat_mortality_ratio_2017  \\\n",
       "0           -314602.0                  0.1                     638.0   \n",
       "1             32066.0                  1.9                     241.0   \n",
       "2            -69998.0                  0.1                      15.0   \n",
       "3             -4999.0                  0.4                      13.5   \n",
       "4            200000.0                  0.1                       3.0   \n",
       "\n",
       "   under5_mortality_ratio_2017  ...  internet_per_mil_2017  military_exp_2017  \\\n",
       "0                         64.8  ...              43.448181           0.945227   \n",
       "1                         80.6  ...              10.799292           2.507985   \n",
       "2                          9.4  ...             443.020376           1.108696   \n",
       "3                          3.0  ...            3415.717495           1.430273   \n",
       "4                          7.2  ...            1285.099111           1.430273   \n",
       "\n",
       "   women_seats_percent_2017  male_bus_start_2017  female_bus_start_2017  \\\n",
       "0                 27.710843                  8.0                    9.0   \n",
       "1                 30.454545                 36.0                   36.0   \n",
       "2                 27.857143                  5.0                    5.0   \n",
       "3                 32.142857                 13.0                   13.0   \n",
       "4                 22.500000                  8.0                    9.0   \n",
       "\n",
       "   patent_apps_2017  sci_articles_2017  pop_density_2017    HDI  cluster  \n",
       "0              23.5              91.89         55.595550  0.509        1  \n",
       "1              23.5              55.50         23.916555  0.582        1  \n",
       "2              16.0             149.54        104.870693  0.792        0  \n",
       "3              23.5               2.01        163.823404  0.867        0  \n",
       "4              63.0            2899.67        133.584990  0.889        0  \n",
       "\n",
       "[5 rows x 34 columns]"
      ]
     },
     "execution_count": 52,
     "metadata": {},
     "output_type": "execute_result"
    }
   ],
   "source": [
    "df.head()"
   ]
  },
  {
   "cell_type": "code",
   "execution_count": 53,
   "id": "5c51cb55-88d3-4aba-a18e-288f906d200a",
   "metadata": {},
   "outputs": [
    {
     "data": {
      "text/plain": [
       "0    124\n",
       "1     63\n",
       "Name: cluster, dtype: int64"
      ]
     },
     "execution_count": 53,
     "metadata": {},
     "output_type": "execute_result"
    }
   ],
   "source": [
    "df['cluster'].value_counts()"
   ]
  },
  {
   "cell_type": "code",
   "execution_count": 54,
   "id": "8e640239-ebe1-4976-914c-5b86bab0edf1",
   "metadata": {},
   "outputs": [
    {
     "data": {
      "text/plain": [
       "0    0.663102\n",
       "1    0.336898\n",
       "Name: cluster, dtype: float64"
      ]
     },
     "execution_count": 54,
     "metadata": {},
     "output_type": "execute_result"
    }
   ],
   "source": [
    "df['cluster'].value_counts(normalize = True)"
   ]
  },
  {
   "cell_type": "code",
   "execution_count": 56,
   "id": "554c1c7a-ac49-4a5f-955d-77a7639a93f3",
   "metadata": {},
   "outputs": [],
   "source": [
    "features = ['co2_emissions_2017','atm_access_2017', 'cell_subscriptions_per100', 'internet_per_mil_2017','foreign_dir_inv_2017','adol_fertility_rate_2017',\n",
    "            'food_production_index_17', 'female_bus_start_2017', 'undernourished_rate_2017', 'mat_mortality_ratio_2017', 'pop_air_pollution_2017', \n",
    "            'rural_pop_percent_17', 'fertility_rate_2017','under5_mortality_ratio_2017', 'cluster']\n",
    "            \n",
    "X = df[features]\n",
    "y = df['HDI']"
   ]
  },
  {
   "cell_type": "code",
   "execution_count": 57,
   "id": "ffd43a99-6491-4125-a361-1806e74135bb",
   "metadata": {},
   "outputs": [],
   "source": [
    "lr = LinearRegression()\n",
    "\n",
    "X_train, X_test, y_train, y_test = train_test_split(X, y)"
   ]
  },
  {
   "cell_type": "code",
   "execution_count": 58,
   "id": "4d8f6e04-5f18-4687-8bbd-b46fb538e95f",
   "metadata": {},
   "outputs": [
    {
     "data": {
      "text/plain": [
       "LinearRegression()"
      ]
     },
     "execution_count": 58,
     "metadata": {},
     "output_type": "execute_result"
    }
   ],
   "source": [
    "lr.fit(X_train, y_train)"
   ]
  },
  {
   "cell_type": "code",
   "execution_count": 59,
   "id": "b991ee33-03c8-4301-b642-ef8abd26b81c",
   "metadata": {},
   "outputs": [
    {
     "data": {
      "text/plain": [
       "0.9381624109518808"
      ]
     },
     "execution_count": 59,
     "metadata": {},
     "output_type": "execute_result"
    }
   ],
   "source": [
    "lr.score(X_train, y_train)"
   ]
  },
  {
   "cell_type": "code",
   "execution_count": 60,
   "id": "93adc9c1-6719-4088-a435-75b66ecb59fe",
   "metadata": {},
   "outputs": [
    {
     "data": {
      "text/plain": [
       "0.8383574037924418"
      ]
     },
     "execution_count": 60,
     "metadata": {},
     "output_type": "execute_result"
    }
   ],
   "source": [
    "lr.score(X_test, y_test)"
   ]
  }
 ],
 "metadata": {
  "kernelspec": {
   "display_name": "Python [conda env:dsi] *",
   "language": "python",
   "name": "conda-env-dsi-py"
  },
  "language_info": {
   "codemirror_mode": {
    "name": "ipython",
    "version": 3
   },
   "file_extension": ".py",
   "mimetype": "text/x-python",
   "name": "python",
   "nbconvert_exporter": "python",
   "pygments_lexer": "ipython3",
   "version": "3.9.12"
  }
 },
 "nbformat": 4,
 "nbformat_minor": 5
}
